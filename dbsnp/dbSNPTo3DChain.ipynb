{
 "cells": [
  {
   "cell_type": "markdown",
   "metadata": {},
   "source": [
    "## Map SNPs from dbSNP to 3D structures from PDB.\n",
    "This notebook is a prototype for visualizing the positions of missense mutations mapped from [dbSNP](https://www.ncbi.nlm.nih.gov/projects/SNP/) (GRCh37 build) to 3D protein structures in the Protein Data Bank."
   ]
  },
  {
   "cell_type": "code",
   "execution_count": 1,
   "metadata": {},
   "outputs": [],
   "source": [
    "import warnings\n",
    "warnings.filterwarnings(\"ignore\") # numpy version issue?\n",
    "from pyspark.sql import Row, SparkSession\n",
    "from pyspark.sql.functions import collect_set, collect_list, concat_ws\n",
    "from mmtfPyspark.datasets import dbSnpDataset\n",
    "import pandas as pd\n",
    "from ipywidgets import interact, IntSlider, widgets\n",
    "from IPython.display import display\n",
    "import py3Dmol"
   ]
  },
  {
   "cell_type": "markdown",
   "metadata": {},
   "source": [
    "### Setup widgets"
   ]
  },
  {
   "cell_type": "code",
   "execution_count": 2,
   "metadata": {
    "code_folding": [
     2
    ],
    "scrolled": false
   },
   "outputs": [],
   "source": [
    "field = widgets.Dropdown(options=('none','snp_id', 'pdbChainId','uniprotId','sqlQuery'),description='Select field:')\n",
    "selection = widgets.Textarea(description='Enter id(s):', value=(''))\n",
    "significance = widgets.SelectMultiple(description='Significance:', \\\n",
    "                                      options=('All', 'Benign', 'Likely benign', 'Likely pathogenic', \\\n",
    "                                               'Pathogenic', 'drug-response', 'untested', \\\n",
    "                                               'Uncertain significance', 'other', 'null'), \\\n",
    "                                      value=('Benign', 'Likely benign', 'Likely pathogenic', \\\n",
    "                                               'Pathogenic', 'drug-response'))"
   ]
  },
  {
   "cell_type": "markdown",
   "metadata": {},
   "source": [
    "## Select clinical significance\n",
    "Select one of more significance level from ClinVar (MacOS: hold command key to select multiple criteria). \n",
    "\n",
    "Default: Benign, Likely benign, Likely pathogenic, Pathogenic, drug-response."
   ]
  },
  {
   "cell_type": "code",
   "execution_count": 3,
   "metadata": {},
   "outputs": [
    {
     "data": {
      "application/vnd.jupyter.widget-view+json": {
       "model_id": "30960e1d146649f6b82e93aeda1ab871",
       "version_major": 2,
       "version_minor": 0
      },
      "text/plain": [
       "SelectMultiple(description='Significance:', index=(1, 2, 3, 4, 5), options=('All', 'Benign', 'Likely benign', …"
      ]
     },
     "metadata": {},
     "output_type": "display_data"
    }
   ],
   "source": [
    "display(significance)"
   ]
  },
  {
   "cell_type": "markdown",
   "metadata": {},
   "source": [
    "## Optionally, filter dataset\n",
    "Select a query field and enter a comma separated list of identifiers:\n",
    "\n",
    "Example queries below are for missense mutations in the Cystic Fibrosis [CFTR2 gene](https://www.cftr2.org/mutations_history).\n",
    "\n",
    "* none: no filtering (Default)\n",
    "* snp_id:  397508256, 397508796 (also called the rsId, e.g. rs397508256)\n",
    "* pdbChainId: 5UAK.A\n",
    "* uniprotId: P13569\n",
    "* sqlQuery: any valid sql query (e.g., chr = 7 AND pos = 117149089)"
   ]
  },
  {
   "cell_type": "code",
   "execution_count": 4,
   "metadata": {},
   "outputs": [
    {
     "data": {
      "application/vnd.jupyter.widget-view+json": {
       "model_id": "56549dea90254a508d96151b941d1e6f",
       "version_major": 2,
       "version_minor": 0
      },
      "text/plain": [
       "Dropdown(description='Select field:', options=('none', 'snp_id', 'pdbChainId', 'uniprotId', 'sqlQuery'), value…"
      ]
     },
     "metadata": {},
     "output_type": "display_data"
    },
    {
     "data": {
      "application/vnd.jupyter.widget-view+json": {
       "model_id": "9b22a4c74e7f474a822b2b650b0ca4b7",
       "version_major": 2,
       "version_minor": 0
      },
      "text/plain": [
       "Textarea(value='', description='Enter id(s):')"
      ]
     },
     "metadata": {},
     "output_type": "display_data"
    }
   ],
   "source": [
    "display(field)\n",
    "display(selection)"
   ]
  },
  {
   "cell_type": "markdown",
   "metadata": {},
   "source": [
    "### Create query string"
   ]
  },
  {
   "cell_type": "code",
   "execution_count": 5,
   "metadata": {
    "code_folding": [
     0,
     4,
     8
    ]
   },
   "outputs": [
    {
     "name": "stdout",
     "output_type": "stream",
     "text": [
      "Query: clinsig IN ('Benign', 'Likely benign', 'Likely pathogenic', 'Pathogenic', 'drug-response')\n"
     ]
    }
   ],
   "source": [
    "if significance.value and not 'All' in significance.value:\n",
    "    sig_query = \"clinsig IN \" + str(significance.value).replace(\",)\", \")\")\n",
    "    print(\"Query:\", sig_query)\n",
    "\n",
    "if field.value == 'sqlQuery':\n",
    "    query = selection.value\n",
    "    print(\"Query:\", query)\n",
    "    \n",
    "elif field.value != 'none':\n",
    "    query = field.value + \" IN \" + str(tuple(selection.value.split(\",\"))).replace(\",)\", \")\")\n",
    "    print(\"Query:\", query)"
   ]
  },
  {
   "cell_type": "markdown",
   "metadata": {},
   "source": [
    "### Initialize Spark"
   ]
  },
  {
   "cell_type": "code",
   "execution_count": 6,
   "metadata": {},
   "outputs": [],
   "source": [
    "spark = SparkSession.builder.master(\"local[4]\").appName(\"dbSNPTo3DChain\").getOrCreate()"
   ]
  },
  {
   "cell_type": "markdown",
   "metadata": {},
   "source": [
    "## Read file with dbSNP info\n",
    "The following dataset was created from the SNP3D_PDB_GRCH37 dataset by mapping non-synonymous SNPs to human proteins with >= 95% sequence identity in the PDB."
   ]
  },
  {
   "cell_type": "code",
   "execution_count": 7,
   "metadata": {},
   "outputs": [
    {
     "data": {
      "text/plain": [
       "1171630"
      ]
     },
     "execution_count": 7,
     "metadata": {},
     "output_type": "execute_result"
    }
   ],
   "source": [
    "ds = dbSnpDataset.get_cached_dataset()\n",
    "ds.count()"
   ]
  },
  {
   "cell_type": "markdown",
   "metadata": {},
   "source": [
    "### Run query"
   ]
  },
  {
   "cell_type": "code",
   "execution_count": 8,
   "metadata": {
    "scrolled": true
   },
   "outputs": [
    {
     "name": "stdout",
     "output_type": "stream",
     "text": [
      "Results:  49713\n"
     ]
    }
   ],
   "source": [
    "if significance.value and not 'All' in significance.value:\n",
    "    ds = ds.filter(sig_query)\n",
    "\n",
    "if field.value in ['snp_id','pdbChainId','uniprotId','sqlQuery']:\n",
    "    ds = ds.filter(query)\n",
    "    \n",
    "print(\"Results: \", ds.count())"
   ]
  },
  {
   "cell_type": "markdown",
   "metadata": {},
   "source": [
    "### Show some sample results"
   ]
  },
  {
   "cell_type": "code",
   "execution_count": 9,
   "metadata": {},
   "outputs": [
    {
     "data": {
      "text/html": [
       "<div>\n",
       "<style scoped>\n",
       "    .dataframe tbody tr th:only-of-type {\n",
       "        vertical-align: middle;\n",
       "    }\n",
       "\n",
       "    .dataframe tbody tr th {\n",
       "        vertical-align: top;\n",
       "    }\n",
       "\n",
       "    .dataframe thead th {\n",
       "        text-align: right;\n",
       "    }\n",
       "</style>\n",
       "<table border=\"1\" class=\"dataframe\">\n",
       "  <thead>\n",
       "    <tr style=\"text-align: right;\">\n",
       "      <th></th>\n",
       "      <th>chr</th>\n",
       "      <th>pos</th>\n",
       "      <th>snp_id</th>\n",
       "      <th>master_acc</th>\n",
       "      <th>master_gi</th>\n",
       "      <th>master_pos</th>\n",
       "      <th>master_res</th>\n",
       "      <th>master_var</th>\n",
       "      <th>pdb_gi</th>\n",
       "      <th>pdb_res</th>\n",
       "      <th>pdb_pos</th>\n",
       "      <th>blast_ident</th>\n",
       "      <th>clinsig</th>\n",
       "      <th>pdbChainId</th>\n",
       "      <th>tax_id</th>\n",
       "      <th>pdbResNum</th>\n",
       "      <th>uniprotId</th>\n",
       "      <th>uniprotNum</th>\n",
       "    </tr>\n",
       "  </thead>\n",
       "  <tbody>\n",
       "    <tr>\n",
       "      <th>0</th>\n",
       "      <td>X</td>\n",
       "      <td>100630190</td>\n",
       "      <td>128620185</td>\n",
       "      <td>NP_001274274</td>\n",
       "      <td>565324227</td>\n",
       "      <td>28</td>\n",
       "      <td>R</td>\n",
       "      <td>H</td>\n",
       "      <td>5542071</td>\n",
       "      <td>R</td>\n",
       "      <td>27</td>\n",
       "      <td>100.000</td>\n",
       "      <td>Pathogenic</td>\n",
       "      <td>1B55.A</td>\n",
       "      <td>9606</td>\n",
       "      <td>28</td>\n",
       "      <td>Q06187</td>\n",
       "      <td>28.0</td>\n",
       "    </tr>\n",
       "    <tr>\n",
       "      <th>1</th>\n",
       "      <td>16</td>\n",
       "      <td>223496</td>\n",
       "      <td>63750010</td>\n",
       "      <td>NP_000508</td>\n",
       "      <td>4504345</td>\n",
       "      <td>109</td>\n",
       "      <td>T</td>\n",
       "      <td>N</td>\n",
       "      <td>3891440</td>\n",
       "      <td>T</td>\n",
       "      <td>109</td>\n",
       "      <td>100.000</td>\n",
       "      <td>Likely pathogenic</td>\n",
       "      <td>1BZ1.A</td>\n",
       "      <td>9606</td>\n",
       "      <td>109</td>\n",
       "      <td>P69905</td>\n",
       "      <td>109.0</td>\n",
       "    </tr>\n",
       "    <tr>\n",
       "      <th>2</th>\n",
       "      <td>22</td>\n",
       "      <td>51065646</td>\n",
       "      <td>74315462</td>\n",
       "      <td>NP_000478</td>\n",
       "      <td>313569791</td>\n",
       "      <td>138</td>\n",
       "      <td>P</td>\n",
       "      <td>L</td>\n",
       "      <td>12084623</td>\n",
       "      <td>P</td>\n",
       "      <td>118</td>\n",
       "      <td>99.796</td>\n",
       "      <td>Pathogenic</td>\n",
       "      <td>1E2S.P</td>\n",
       "      <td>9606</td>\n",
       "      <td>136</td>\n",
       "      <td>P15289</td>\n",
       "      <td>136.0</td>\n",
       "    </tr>\n",
       "    <tr>\n",
       "      <th>3</th>\n",
       "      <td>22</td>\n",
       "      <td>51065646</td>\n",
       "      <td>74315462</td>\n",
       "      <td>NP_001078894</td>\n",
       "      <td>313569793</td>\n",
       "      <td>138</td>\n",
       "      <td>P</td>\n",
       "      <td>L</td>\n",
       "      <td>12084623</td>\n",
       "      <td>P</td>\n",
       "      <td>118</td>\n",
       "      <td>99.796</td>\n",
       "      <td>Pathogenic</td>\n",
       "      <td>1E2S.P</td>\n",
       "      <td>9606</td>\n",
       "      <td>136</td>\n",
       "      <td>P15289</td>\n",
       "      <td>136.0</td>\n",
       "    </tr>\n",
       "    <tr>\n",
       "      <th>4</th>\n",
       "      <td>22</td>\n",
       "      <td>51065646</td>\n",
       "      <td>74315462</td>\n",
       "      <td>NP_001078895</td>\n",
       "      <td>313569795</td>\n",
       "      <td>138</td>\n",
       "      <td>P</td>\n",
       "      <td>L</td>\n",
       "      <td>12084623</td>\n",
       "      <td>P</td>\n",
       "      <td>118</td>\n",
       "      <td>99.796</td>\n",
       "      <td>Pathogenic</td>\n",
       "      <td>1E2S.P</td>\n",
       "      <td>9606</td>\n",
       "      <td>136</td>\n",
       "      <td>P15289</td>\n",
       "      <td>136.0</td>\n",
       "    </tr>\n",
       "    <tr>\n",
       "      <th>5</th>\n",
       "      <td>22</td>\n",
       "      <td>51065646</td>\n",
       "      <td>74315462</td>\n",
       "      <td>NP_001078896</td>\n",
       "      <td>313569797</td>\n",
       "      <td>138</td>\n",
       "      <td>P</td>\n",
       "      <td>L</td>\n",
       "      <td>12084623</td>\n",
       "      <td>P</td>\n",
       "      <td>118</td>\n",
       "      <td>99.796</td>\n",
       "      <td>Pathogenic</td>\n",
       "      <td>1E2S.P</td>\n",
       "      <td>9606</td>\n",
       "      <td>136</td>\n",
       "      <td>P15289</td>\n",
       "      <td>136.0</td>\n",
       "    </tr>\n",
       "    <tr>\n",
       "      <th>6</th>\n",
       "      <td>22</td>\n",
       "      <td>51065136</td>\n",
       "      <td>199476366</td>\n",
       "      <td>NP_000478</td>\n",
       "      <td>313569791</td>\n",
       "      <td>246</td>\n",
       "      <td>R</td>\n",
       "      <td>H</td>\n",
       "      <td>12084623</td>\n",
       "      <td>R</td>\n",
       "      <td>226</td>\n",
       "      <td>99.796</td>\n",
       "      <td>Pathogenic</td>\n",
       "      <td>1E2S.P</td>\n",
       "      <td>9606</td>\n",
       "      <td>244</td>\n",
       "      <td>P15289</td>\n",
       "      <td>244.0</td>\n",
       "    </tr>\n",
       "    <tr>\n",
       "      <th>7</th>\n",
       "      <td>22</td>\n",
       "      <td>51065136</td>\n",
       "      <td>199476366</td>\n",
       "      <td>NP_001078894</td>\n",
       "      <td>313569793</td>\n",
       "      <td>246</td>\n",
       "      <td>R</td>\n",
       "      <td>H</td>\n",
       "      <td>12084623</td>\n",
       "      <td>R</td>\n",
       "      <td>226</td>\n",
       "      <td>99.796</td>\n",
       "      <td>Pathogenic</td>\n",
       "      <td>1E2S.P</td>\n",
       "      <td>9606</td>\n",
       "      <td>244</td>\n",
       "      <td>P15289</td>\n",
       "      <td>244.0</td>\n",
       "    </tr>\n",
       "    <tr>\n",
       "      <th>8</th>\n",
       "      <td>22</td>\n",
       "      <td>51065137</td>\n",
       "      <td>74315470</td>\n",
       "      <td>NP_000478</td>\n",
       "      <td>313569791</td>\n",
       "      <td>246</td>\n",
       "      <td>R</td>\n",
       "      <td>C</td>\n",
       "      <td>12084623</td>\n",
       "      <td>R</td>\n",
       "      <td>226</td>\n",
       "      <td>99.796</td>\n",
       "      <td>Likely pathogenic</td>\n",
       "      <td>1E2S.P</td>\n",
       "      <td>9606</td>\n",
       "      <td>244</td>\n",
       "      <td>P15289</td>\n",
       "      <td>244.0</td>\n",
       "    </tr>\n",
       "    <tr>\n",
       "      <th>9</th>\n",
       "      <td>22</td>\n",
       "      <td>51065137</td>\n",
       "      <td>74315470</td>\n",
       "      <td>NP_001078894</td>\n",
       "      <td>313569793</td>\n",
       "      <td>246</td>\n",
       "      <td>R</td>\n",
       "      <td>C</td>\n",
       "      <td>12084623</td>\n",
       "      <td>R</td>\n",
       "      <td>226</td>\n",
       "      <td>99.796</td>\n",
       "      <td>Likely pathogenic</td>\n",
       "      <td>1E2S.P</td>\n",
       "      <td>9606</td>\n",
       "      <td>244</td>\n",
       "      <td>P15289</td>\n",
       "      <td>244.0</td>\n",
       "    </tr>\n",
       "    <tr>\n",
       "      <th>10</th>\n",
       "      <td>22</td>\n",
       "      <td>51065137</td>\n",
       "      <td>74315470</td>\n",
       "      <td>NP_001078895</td>\n",
       "      <td>313569795</td>\n",
       "      <td>246</td>\n",
       "      <td>R</td>\n",
       "      <td>C</td>\n",
       "      <td>12084623</td>\n",
       "      <td>R</td>\n",
       "      <td>226</td>\n",
       "      <td>99.796</td>\n",
       "      <td>Likely pathogenic</td>\n",
       "      <td>1E2S.P</td>\n",
       "      <td>9606</td>\n",
       "      <td>244</td>\n",
       "      <td>P15289</td>\n",
       "      <td>244.0</td>\n",
       "    </tr>\n",
       "    <tr>\n",
       "      <th>11</th>\n",
       "      <td>22</td>\n",
       "      <td>51065137</td>\n",
       "      <td>74315470</td>\n",
       "      <td>NP_001078896</td>\n",
       "      <td>313569797</td>\n",
       "      <td>246</td>\n",
       "      <td>R</td>\n",
       "      <td>C</td>\n",
       "      <td>12084623</td>\n",
       "      <td>R</td>\n",
       "      <td>226</td>\n",
       "      <td>99.796</td>\n",
       "      <td>Likely pathogenic</td>\n",
       "      <td>1E2S.P</td>\n",
       "      <td>9606</td>\n",
       "      <td>244</td>\n",
       "      <td>P15289</td>\n",
       "      <td>244.0</td>\n",
       "    </tr>\n",
       "    <tr>\n",
       "      <th>12</th>\n",
       "      <td>22</td>\n",
       "      <td>51065136</td>\n",
       "      <td>199476366</td>\n",
       "      <td>NP_001078895</td>\n",
       "      <td>313569795</td>\n",
       "      <td>246</td>\n",
       "      <td>R</td>\n",
       "      <td>H</td>\n",
       "      <td>12084623</td>\n",
       "      <td>R</td>\n",
       "      <td>226</td>\n",
       "      <td>99.796</td>\n",
       "      <td>Pathogenic</td>\n",
       "      <td>1E2S.P</td>\n",
       "      <td>9606</td>\n",
       "      <td>244</td>\n",
       "      <td>P15289</td>\n",
       "      <td>244.0</td>\n",
       "    </tr>\n",
       "    <tr>\n",
       "      <th>13</th>\n",
       "      <td>22</td>\n",
       "      <td>51065136</td>\n",
       "      <td>199476366</td>\n",
       "      <td>NP_001078896</td>\n",
       "      <td>313569797</td>\n",
       "      <td>246</td>\n",
       "      <td>R</td>\n",
       "      <td>H</td>\n",
       "      <td>12084623</td>\n",
       "      <td>R</td>\n",
       "      <td>226</td>\n",
       "      <td>99.796</td>\n",
       "      <td>Pathogenic</td>\n",
       "      <td>1E2S.P</td>\n",
       "      <td>9606</td>\n",
       "      <td>244</td>\n",
       "      <td>P15289</td>\n",
       "      <td>244.0</td>\n",
       "    </tr>\n",
       "    <tr>\n",
       "      <th>14</th>\n",
       "      <td>2</td>\n",
       "      <td>241817026</td>\n",
       "      <td>180177295</td>\n",
       "      <td>NP_000021</td>\n",
       "      <td>4557289</td>\n",
       "      <td>307</td>\n",
       "      <td>L</td>\n",
       "      <td>C</td>\n",
       "      <td>33356965</td>\n",
       "      <td>L</td>\n",
       "      <td>307</td>\n",
       "      <td>100.000</td>\n",
       "      <td>Pathogenic</td>\n",
       "      <td>1H0C.A</td>\n",
       "      <td>9606</td>\n",
       "      <td>307</td>\n",
       "      <td>P21549</td>\n",
       "      <td>307.0</td>\n",
       "    </tr>\n",
       "    <tr>\n",
       "      <th>15</th>\n",
       "      <td>15</td>\n",
       "      <td>45661562</td>\n",
       "      <td>80338737</td>\n",
       "      <td>NP_001307944</td>\n",
       "      <td>1005261216</td>\n",
       "      <td>20</td>\n",
       "      <td>W</td>\n",
       "      <td>*</td>\n",
       "      <td>157831542</td>\n",
       "      <td>W</td>\n",
       "      <td>149</td>\n",
       "      <td>100.000</td>\n",
       "      <td>Pathogenic</td>\n",
       "      <td>1JDW.A</td>\n",
       "      <td>9606</td>\n",
       "      <td>149</td>\n",
       "      <td>P50440</td>\n",
       "      <td>149.0</td>\n",
       "    </tr>\n",
       "    <tr>\n",
       "      <th>16</th>\n",
       "      <td>15</td>\n",
       "      <td>45661562</td>\n",
       "      <td>80338737</td>\n",
       "      <td>NP_001473</td>\n",
       "      <td>4503933</td>\n",
       "      <td>149</td>\n",
       "      <td>W</td>\n",
       "      <td>L</td>\n",
       "      <td>157831542</td>\n",
       "      <td>W</td>\n",
       "      <td>149</td>\n",
       "      <td>100.000</td>\n",
       "      <td>Pathogenic</td>\n",
       "      <td>1JDW.A</td>\n",
       "      <td>9606</td>\n",
       "      <td>149</td>\n",
       "      <td>P50440</td>\n",
       "      <td>149.0</td>\n",
       "    </tr>\n",
       "    <tr>\n",
       "      <th>17</th>\n",
       "      <td>15</td>\n",
       "      <td>45661562</td>\n",
       "      <td>80338737</td>\n",
       "      <td>NP_001307944</td>\n",
       "      <td>1005261216</td>\n",
       "      <td>20</td>\n",
       "      <td>W</td>\n",
       "      <td>L</td>\n",
       "      <td>157831542</td>\n",
       "      <td>W</td>\n",
       "      <td>149</td>\n",
       "      <td>100.000</td>\n",
       "      <td>Pathogenic</td>\n",
       "      <td>1JDW.A</td>\n",
       "      <td>9606</td>\n",
       "      <td>149</td>\n",
       "      <td>P50440</td>\n",
       "      <td>149.0</td>\n",
       "    </tr>\n",
       "    <tr>\n",
       "      <th>18</th>\n",
       "      <td>15</td>\n",
       "      <td>45661562</td>\n",
       "      <td>80338737</td>\n",
       "      <td>NP_001473</td>\n",
       "      <td>4503933</td>\n",
       "      <td>149</td>\n",
       "      <td>W</td>\n",
       "      <td>*</td>\n",
       "      <td>157831542</td>\n",
       "      <td>W</td>\n",
       "      <td>149</td>\n",
       "      <td>100.000</td>\n",
       "      <td>Pathogenic</td>\n",
       "      <td>1JDW.A</td>\n",
       "      <td>9606</td>\n",
       "      <td>149</td>\n",
       "      <td>P50440</td>\n",
       "      <td>149.0</td>\n",
       "    </tr>\n",
       "    <tr>\n",
       "      <th>19</th>\n",
       "      <td>21</td>\n",
       "      <td>34619112</td>\n",
       "      <td>775739391</td>\n",
       "      <td>NP_000865</td>\n",
       "      <td>19923129</td>\n",
       "      <td>104</td>\n",
       "      <td>E</td>\n",
       "      <td>G</td>\n",
       "      <td>34811410</td>\n",
       "      <td>E</td>\n",
       "      <td>77</td>\n",
       "      <td>100.000</td>\n",
       "      <td>Pathogenic</td>\n",
       "      <td>1N6U.A</td>\n",
       "      <td>9606</td>\n",
       "      <td>77</td>\n",
       "      <td>P48551</td>\n",
       "      <td>104.0</td>\n",
       "    </tr>\n",
       "  </tbody>\n",
       "</table>\n",
       "</div>"
      ],
      "text/plain": [
       "   chr        pos     snp_id    master_acc   master_gi  master_pos master_res  \\\n",
       "0    X  100630190  128620185  NP_001274274   565324227          28          R   \n",
       "1   16     223496   63750010     NP_000508     4504345         109          T   \n",
       "2   22   51065646   74315462     NP_000478   313569791         138          P   \n",
       "3   22   51065646   74315462  NP_001078894   313569793         138          P   \n",
       "4   22   51065646   74315462  NP_001078895   313569795         138          P   \n",
       "5   22   51065646   74315462  NP_001078896   313569797         138          P   \n",
       "6   22   51065136  199476366     NP_000478   313569791         246          R   \n",
       "7   22   51065136  199476366  NP_001078894   313569793         246          R   \n",
       "8   22   51065137   74315470     NP_000478   313569791         246          R   \n",
       "9   22   51065137   74315470  NP_001078894   313569793         246          R   \n",
       "10  22   51065137   74315470  NP_001078895   313569795         246          R   \n",
       "11  22   51065137   74315470  NP_001078896   313569797         246          R   \n",
       "12  22   51065136  199476366  NP_001078895   313569795         246          R   \n",
       "13  22   51065136  199476366  NP_001078896   313569797         246          R   \n",
       "14   2  241817026  180177295     NP_000021     4557289         307          L   \n",
       "15  15   45661562   80338737  NP_001307944  1005261216          20          W   \n",
       "16  15   45661562   80338737     NP_001473     4503933         149          W   \n",
       "17  15   45661562   80338737  NP_001307944  1005261216          20          W   \n",
       "18  15   45661562   80338737     NP_001473     4503933         149          W   \n",
       "19  21   34619112  775739391     NP_000865    19923129         104          E   \n",
       "\n",
       "   master_var     pdb_gi pdb_res  pdb_pos  blast_ident            clinsig  \\\n",
       "0           H    5542071       R       27      100.000         Pathogenic   \n",
       "1           N    3891440       T      109      100.000  Likely pathogenic   \n",
       "2           L   12084623       P      118       99.796         Pathogenic   \n",
       "3           L   12084623       P      118       99.796         Pathogenic   \n",
       "4           L   12084623       P      118       99.796         Pathogenic   \n",
       "5           L   12084623       P      118       99.796         Pathogenic   \n",
       "6           H   12084623       R      226       99.796         Pathogenic   \n",
       "7           H   12084623       R      226       99.796         Pathogenic   \n",
       "8           C   12084623       R      226       99.796  Likely pathogenic   \n",
       "9           C   12084623       R      226       99.796  Likely pathogenic   \n",
       "10          C   12084623       R      226       99.796  Likely pathogenic   \n",
       "11          C   12084623       R      226       99.796  Likely pathogenic   \n",
       "12          H   12084623       R      226       99.796         Pathogenic   \n",
       "13          H   12084623       R      226       99.796         Pathogenic   \n",
       "14          C   33356965       L      307      100.000         Pathogenic   \n",
       "15          *  157831542       W      149      100.000         Pathogenic   \n",
       "16          L  157831542       W      149      100.000         Pathogenic   \n",
       "17          L  157831542       W      149      100.000         Pathogenic   \n",
       "18          *  157831542       W      149      100.000         Pathogenic   \n",
       "19          G   34811410       E       77      100.000         Pathogenic   \n",
       "\n",
       "   pdbChainId  tax_id pdbResNum uniprotId  uniprotNum  \n",
       "0      1B55.A    9606        28    Q06187        28.0  \n",
       "1      1BZ1.A    9606       109    P69905       109.0  \n",
       "2      1E2S.P    9606       136    P15289       136.0  \n",
       "3      1E2S.P    9606       136    P15289       136.0  \n",
       "4      1E2S.P    9606       136    P15289       136.0  \n",
       "5      1E2S.P    9606       136    P15289       136.0  \n",
       "6      1E2S.P    9606       244    P15289       244.0  \n",
       "7      1E2S.P    9606       244    P15289       244.0  \n",
       "8      1E2S.P    9606       244    P15289       244.0  \n",
       "9      1E2S.P    9606       244    P15289       244.0  \n",
       "10     1E2S.P    9606       244    P15289       244.0  \n",
       "11     1E2S.P    9606       244    P15289       244.0  \n",
       "12     1E2S.P    9606       244    P15289       244.0  \n",
       "13     1E2S.P    9606       244    P15289       244.0  \n",
       "14     1H0C.A    9606       307    P21549       307.0  \n",
       "15     1JDW.A    9606       149    P50440       149.0  \n",
       "16     1JDW.A    9606       149    P50440       149.0  \n",
       "17     1JDW.A    9606       149    P50440       149.0  \n",
       "18     1JDW.A    9606       149    P50440       149.0  \n",
       "19     1N6U.A    9606        77    P48551       104.0  "
      ]
     },
     "execution_count": 9,
     "metadata": {},
     "output_type": "execute_result"
    }
   ],
   "source": [
    "ds.toPandas().head(20)"
   ]
  },
  {
   "cell_type": "markdown",
   "metadata": {},
   "source": [
    "## Aggregate data on the residue and chain level"
   ]
  },
  {
   "cell_type": "code",
   "execution_count": 10,
   "metadata": {},
   "outputs": [],
   "source": [
    "ds = ds.groupBy(\"pdbChainId\",\"pdbResNum\",\"master_res\",\"uniprotId\").agg(collect_set(\"master_var\").alias(\"master_var\"),collect_set(\"clinsig\").alias(\"clinsig\"))\n",
    "ds = ds.withColumn(\"master_var\", concat_ws((\"\"), ds.master_var))\n",
    "ds = ds.withColumn(\"clinsig\", concat_ws((\",\"), ds.clinsig))\n",
    "ds = ds.withColumn(\"snps\", concat_ws((\"->\"), ds.master_res, ds.master_var))\n",
    "ds = ds.drop(\"master_res\")\n",
    "ds = ds.groupBy(\"pdbChainId\",\"uniprotId\").agg(collect_list(\"pdbResNum\").alias(\"pdbResNums\"), \\\n",
    "                                              collect_list(\"snps\").alias(\"snps\"), \\\n",
    "                                              collect_list(\"clinsig\").alias(\"clinsig\"))"
   ]
  },
  {
   "cell_type": "code",
   "execution_count": 11,
   "metadata": {},
   "outputs": [
    {
     "data": {
      "text/html": [
       "<div>\n",
       "<style scoped>\n",
       "    .dataframe tbody tr th:only-of-type {\n",
       "        vertical-align: middle;\n",
       "    }\n",
       "\n",
       "    .dataframe tbody tr th {\n",
       "        vertical-align: top;\n",
       "    }\n",
       "\n",
       "    .dataframe thead th {\n",
       "        text-align: right;\n",
       "    }\n",
       "</style>\n",
       "<table border=\"1\" class=\"dataframe\">\n",
       "  <thead>\n",
       "    <tr style=\"text-align: right;\">\n",
       "      <th></th>\n",
       "      <th>pdbChainId</th>\n",
       "      <th>uniprotId</th>\n",
       "      <th>pdbResNums</th>\n",
       "      <th>snps</th>\n",
       "      <th>clinsig</th>\n",
       "    </tr>\n",
       "  </thead>\n",
       "  <tbody>\n",
       "    <tr>\n",
       "      <th>0</th>\n",
       "      <td>2AMY.A</td>\n",
       "      <td>O15305</td>\n",
       "      <td>[63, 132, 69, 171, 226, 187, 32, 157, 141, 188...</td>\n",
       "      <td>[K-&gt;N, I-&gt;T, P-&gt;SA, T-&gt;N, T-&gt;S, W-&gt;*, L-&gt;R, F-...</td>\n",
       "      <td>[Likely pathogenic, Likely pathogenic, Likely ...</td>\n",
       "    </tr>\n",
       "    <tr>\n",
       "      <th>1</th>\n",
       "      <td>3CJW.A</td>\n",
       "      <td>P24468</td>\n",
       "      <td>[245, 343, 286, 341]</td>\n",
       "      <td>[L-&gt;P, C-&gt;*, V-&gt;G, S-&gt;Y]</td>\n",
       "      <td>[Likely pathogenic, Likely pathogenic, Pathoge...</td>\n",
       "    </tr>\n",
       "    <tr>\n",
       "      <th>2</th>\n",
       "      <td>5IZQ.A</td>\n",
       "      <td>P15328</td>\n",
       "      <td>[182, 74, 96]</td>\n",
       "      <td>[R-&gt;*, C-&gt;Y, Q-&gt;*]</td>\n",
       "      <td>[Likely pathogenic, Likely pathogenic, Pathoge...</td>\n",
       "    </tr>\n",
       "    <tr>\n",
       "      <th>3</th>\n",
       "      <td>5VBU.A</td>\n",
       "      <td>Q16874</td>\n",
       "      <td>[63, 319, 54, 173, 31, 238, 357, 184, 126, 237...</td>\n",
       "      <td>[H-&gt;L, Q-&gt;*, Q-&gt;E, I-&gt;N, P-&gt;L, V-&gt;E, R-&gt;W, D-&gt;...</td>\n",
       "      <td>[Pathogenic, Pathogenic, Likely pathogenic, Pa...</td>\n",
       "    </tr>\n",
       "    <tr>\n",
       "      <th>4</th>\n",
       "      <td>5FDY.A</td>\n",
       "      <td>O60939</td>\n",
       "      <td>[119]</td>\n",
       "      <td>[P-&gt;L]</td>\n",
       "      <td>[Likely benign]</td>\n",
       "    </tr>\n",
       "    <tr>\n",
       "      <th>5</th>\n",
       "      <td>2M3T.A</td>\n",
       "      <td>P22914</td>\n",
       "      <td>[18]</td>\n",
       "      <td>[G-&gt;V]</td>\n",
       "      <td>[Pathogenic]</td>\n",
       "    </tr>\n",
       "    <tr>\n",
       "      <th>6</th>\n",
       "      <td>4LY9.A</td>\n",
       "      <td>Q14397</td>\n",
       "      <td>[103, 529, 51]</td>\n",
       "      <td>[V-&gt;ML, Q-&gt;*, R-&gt;*]</td>\n",
       "      <td>[Likely pathogenic, Likely pathogenic, Likely ...</td>\n",
       "    </tr>\n",
       "    <tr>\n",
       "      <th>7</th>\n",
       "      <td>1KO9.A</td>\n",
       "      <td>O15527</td>\n",
       "      <td>[46]</td>\n",
       "      <td>[R-&gt;Q]</td>\n",
       "      <td>[Pathogenic]</td>\n",
       "    </tr>\n",
       "    <tr>\n",
       "      <th>8</th>\n",
       "      <td>4AOH.A</td>\n",
       "      <td>P03950</td>\n",
       "      <td>[112, 12, 31, 39, 40, 46, 113, 28, 17, 60]</td>\n",
       "      <td>[P-&gt;L, Q-&gt;L, R-&gt;K, C-&gt;W, K-&gt;I, I-&gt;V, V-&gt;I, S-&gt;...</td>\n",
       "      <td>[Pathogenic, Pathogenic, Pathogenic, Pathogeni...</td>\n",
       "    </tr>\n",
       "    <tr>\n",
       "      <th>9</th>\n",
       "      <td>3W1W.A</td>\n",
       "      <td>P22830</td>\n",
       "      <td>[129, 334, 267, 194, 362, 172, 417, 408, 185, ...</td>\n",
       "      <td>[G-&gt;R, P-&gt;L, M-&gt;I, Y-&gt;L, V-&gt;G, E-&gt;K, F-&gt;S, N-&gt;...</td>\n",
       "      <td>[Likely benign, Likely pathogenic, Likely beni...</td>\n",
       "    </tr>\n",
       "    <tr>\n",
       "      <th>10</th>\n",
       "      <td>2M0Q.A</td>\n",
       "      <td>Q9Y6J6</td>\n",
       "      <td>[60, 70, 27, 116, 54, 121, 69, 113]</td>\n",
       "      <td>[F-&gt;I, S-&gt;N, R-&gt;C, A-&gt;V, M-&gt;T, M-&gt;K, V-&gt;M, N-&gt;K]</td>\n",
       "      <td>[Pathogenic, Likely pathogenic, Pathogenic, Li...</td>\n",
       "    </tr>\n",
       "    <tr>\n",
       "      <th>11</th>\n",
       "      <td>5MPO.A</td>\n",
       "      <td>O96033</td>\n",
       "      <td>[7, 85, 64]</td>\n",
       "      <td>[V-&gt;F, I-&gt;H, V-&gt;I]</td>\n",
       "      <td>[Pathogenic, Pathogenic, Pathogenic]</td>\n",
       "    </tr>\n",
       "    <tr>\n",
       "      <th>12</th>\n",
       "      <td>3SKU.E</td>\n",
       "      <td>Q15223</td>\n",
       "      <td>[185, 186]</td>\n",
       "      <td>[W-&gt;*, E-&gt;K]</td>\n",
       "      <td>[Pathogenic, Pathogenic]</td>\n",
       "    </tr>\n",
       "    <tr>\n",
       "      <th>13</th>\n",
       "      <td>5CJ6.A</td>\n",
       "      <td>P10275</td>\n",
       "      <td>[874, 730, 767, 834, 856, 749, 765, 886, 787, ...</td>\n",
       "      <td>[H-&gt;Y, V-&gt;M, D-&gt;I, Y-&gt;C, F-&gt;L, M-&gt;V, A-&gt;D, M-&gt;...</td>\n",
       "      <td>[Pathogenic, Pathogenic, Pathogenic, Likely pa...</td>\n",
       "    </tr>\n",
       "    <tr>\n",
       "      <th>14</th>\n",
       "      <td>3FR0.A</td>\n",
       "      <td>P35557</td>\n",
       "      <td>[250, 379, 30, 271, 260, 340, 221, 40, 265, 34...</td>\n",
       "      <td>[R-&gt;C, A-&gt;E, L-&gt;P, L-&gt;P, F-&gt;S, S-&gt;G, E-&gt;K, E-&gt;...</td>\n",
       "      <td>[Likely pathogenic, Likely pathogenic, Likely ...</td>\n",
       "    </tr>\n",
       "    <tr>\n",
       "      <th>15</th>\n",
       "      <td>4IQR.A</td>\n",
       "      <td>P41235</td>\n",
       "      <td>[107, 324, 315, 269, 364, 234, 322, 198, 76, 2...</td>\n",
       "      <td>[R-&gt;T, R-&gt;C, N-&gt;K, E-&gt;D, M-&gt;R, L-&gt;Q, R-&gt;C, A-&gt;...</td>\n",
       "      <td>[Likely pathogenic, Likely pathogenic, Likely ...</td>\n",
       "    </tr>\n",
       "    <tr>\n",
       "      <th>16</th>\n",
       "      <td>2DA7.A</td>\n",
       "      <td>O60315</td>\n",
       "      <td>[10, 39, 17, 11, 56, 48, 61]</td>\n",
       "      <td>[I-&gt;SL, S-&gt;P, M-&gt;V, N-&gt;T, R-&gt;*, F-&gt;L, Y-&gt;*]</td>\n",
       "      <td>[Pathogenic,Likely benign, Pathogenic, Pathoge...</td>\n",
       "    </tr>\n",
       "    <tr>\n",
       "      <th>17</th>\n",
       "      <td>4L1M.A</td>\n",
       "      <td>O95714</td>\n",
       "      <td>[755, 594]</td>\n",
       "      <td>[L-&gt;S, P-&gt;L]</td>\n",
       "      <td>[Pathogenic, Pathogenic]</td>\n",
       "    </tr>\n",
       "    <tr>\n",
       "      <th>18</th>\n",
       "      <td>1OPL.A</td>\n",
       "      <td>P00519</td>\n",
       "      <td>[334, 330, 356, 378, 267, 255, 245, 370, 374, ...</td>\n",
       "      <td>[T-&gt;IA, F-&gt;L, A-&gt;T, F-&gt;CV, L-&gt;V, E-&gt;KV, Y-&gt;C, ...</td>\n",
       "      <td>[Pathogenic,Likely pathogenic, Pathogenic, Pat...</td>\n",
       "    </tr>\n",
       "    <tr>\n",
       "      <th>19</th>\n",
       "      <td>1AFO.A</td>\n",
       "      <td>P02724</td>\n",
       "      <td>[72]</td>\n",
       "      <td>[E-&gt;K]</td>\n",
       "      <td>[Pathogenic]</td>\n",
       "    </tr>\n",
       "  </tbody>\n",
       "</table>\n",
       "</div>"
      ],
      "text/plain": [
       "   pdbChainId uniprotId                                         pdbResNums  \\\n",
       "0      2AMY.A    O15305  [63, 132, 69, 171, 226, 187, 32, 157, 141, 188...   \n",
       "1      3CJW.A    P24468                               [245, 343, 286, 341]   \n",
       "2      5IZQ.A    P15328                                      [182, 74, 96]   \n",
       "3      5VBU.A    Q16874  [63, 319, 54, 173, 31, 238, 357, 184, 126, 237...   \n",
       "4      5FDY.A    O60939                                              [119]   \n",
       "5      2M3T.A    P22914                                               [18]   \n",
       "6      4LY9.A    Q14397                                     [103, 529, 51]   \n",
       "7      1KO9.A    O15527                                               [46]   \n",
       "8      4AOH.A    P03950         [112, 12, 31, 39, 40, 46, 113, 28, 17, 60]   \n",
       "9      3W1W.A    P22830  [129, 334, 267, 194, 362, 172, 417, 408, 185, ...   \n",
       "10     2M0Q.A    Q9Y6J6                [60, 70, 27, 116, 54, 121, 69, 113]   \n",
       "11     5MPO.A    O96033                                        [7, 85, 64]   \n",
       "12     3SKU.E    Q15223                                         [185, 186]   \n",
       "13     5CJ6.A    P10275  [874, 730, 767, 834, 856, 749, 765, 886, 787, ...   \n",
       "14     3FR0.A    P35557  [250, 379, 30, 271, 260, 340, 221, 40, 265, 34...   \n",
       "15     4IQR.A    P41235  [107, 324, 315, 269, 364, 234, 322, 198, 76, 2...   \n",
       "16     2DA7.A    O60315                       [10, 39, 17, 11, 56, 48, 61]   \n",
       "17     4L1M.A    O95714                                         [755, 594]   \n",
       "18     1OPL.A    P00519  [334, 330, 356, 378, 267, 255, 245, 370, 374, ...   \n",
       "19     1AFO.A    P02724                                               [72]   \n",
       "\n",
       "                                                 snps  \\\n",
       "0   [K->N, I->T, P->SA, T->N, T->S, W->*, L->R, F-...   \n",
       "1                            [L->P, C->*, V->G, S->Y]   \n",
       "2                                  [R->*, C->Y, Q->*]   \n",
       "3   [H->L, Q->*, Q->E, I->N, P->L, V->E, R->W, D->...   \n",
       "4                                              [P->L]   \n",
       "5                                              [G->V]   \n",
       "6                                 [V->ML, Q->*, R->*]   \n",
       "7                                              [R->Q]   \n",
       "8   [P->L, Q->L, R->K, C->W, K->I, I->V, V->I, S->...   \n",
       "9   [G->R, P->L, M->I, Y->L, V->G, E->K, F->S, N->...   \n",
       "10   [F->I, S->N, R->C, A->V, M->T, M->K, V->M, N->K]   \n",
       "11                                 [V->F, I->H, V->I]   \n",
       "12                                       [W->*, E->K]   \n",
       "13  [H->Y, V->M, D->I, Y->C, F->L, M->V, A->D, M->...   \n",
       "14  [R->C, A->E, L->P, L->P, F->S, S->G, E->K, E->...   \n",
       "15  [R->T, R->C, N->K, E->D, M->R, L->Q, R->C, A->...   \n",
       "16        [I->SL, S->P, M->V, N->T, R->*, F->L, Y->*]   \n",
       "17                                       [L->S, P->L]   \n",
       "18  [T->IA, F->L, A->T, F->CV, L->V, E->KV, Y->C, ...   \n",
       "19                                             [E->K]   \n",
       "\n",
       "                                              clinsig  \n",
       "0   [Likely pathogenic, Likely pathogenic, Likely ...  \n",
       "1   [Likely pathogenic, Likely pathogenic, Pathoge...  \n",
       "2   [Likely pathogenic, Likely pathogenic, Pathoge...  \n",
       "3   [Pathogenic, Pathogenic, Likely pathogenic, Pa...  \n",
       "4                                     [Likely benign]  \n",
       "5                                        [Pathogenic]  \n",
       "6   [Likely pathogenic, Likely pathogenic, Likely ...  \n",
       "7                                        [Pathogenic]  \n",
       "8   [Pathogenic, Pathogenic, Pathogenic, Pathogeni...  \n",
       "9   [Likely benign, Likely pathogenic, Likely beni...  \n",
       "10  [Pathogenic, Likely pathogenic, Pathogenic, Li...  \n",
       "11               [Pathogenic, Pathogenic, Pathogenic]  \n",
       "12                           [Pathogenic, Pathogenic]  \n",
       "13  [Pathogenic, Pathogenic, Pathogenic, Likely pa...  \n",
       "14  [Likely pathogenic, Likely pathogenic, Likely ...  \n",
       "15  [Likely pathogenic, Likely pathogenic, Likely ...  \n",
       "16  [Pathogenic,Likely benign, Pathogenic, Pathoge...  \n",
       "17                           [Pathogenic, Pathogenic]  \n",
       "18  [Pathogenic,Likely pathogenic, Pathogenic, Pat...  \n",
       "19                                       [Pathogenic]  "
      ]
     },
     "execution_count": 11,
     "metadata": {},
     "output_type": "execute_result"
    }
   ],
   "source": [
    "df = ds.toPandas()\n",
    "df.head(20)"
   ]
  },
  {
   "cell_type": "markdown",
   "metadata": {},
   "source": [
    "### Setup visualization"
   ]
  },
  {
   "cell_type": "code",
   "execution_count": 12,
   "metadata": {
    "code_folding": [
     0
    ]
   },
   "outputs": [],
   "source": [
    "def view_modifications(df, cutoff_distance, *args):\n",
    "\n",
    "    def view3d(show_bio_assembly=False, show_surface=False, show_labels=True, i=0):\n",
    "        pdb_id, chain_id = df.iloc[i]['pdbChainId'].split('.')\n",
    "        res_num = df.iloc[i]['pdbResNums']\n",
    "        labels = df.iloc[i]['snps']\n",
    "        sigs = df.iloc[i]['clinsig']\n",
    "        \n",
    "        sig_dir = {'Benign':'green', 'Likely benign':'turquoise', 'Likely pathogenic':'palevioletred', \\\n",
    "                   'Pathogenic':'red', 'drug-response':'plum', 'untested':'white', \\\n",
    "                   'Uncertain significance': 'lightgray', 'other':'white', 'null':'white'}\n",
    "        \n",
    "        # print header\n",
    "        print (\"PDB Id: \" + pdb_id + \" chain Id: \" + chain_id)\n",
    "        \n",
    "        # print any specified additional columns from the dataframe\n",
    "        for a in args:\n",
    "            print(a + \": \" + df.iloc[i][a])\n",
    "\n",
    "        all_residues = {'resi': res_num, 'chain': chain_id}\n",
    "        \n",
    "        # select neigboring residues by distance\n",
    "        surroundings = {'chain': chain_id, 'resi': res_num, 'byres': True, 'expand': cutoff_distance}\n",
    "        \n",
    "        viewer = py3Dmol.view(query='pdb:' + pdb_id, options={'doAssembly': show_bio_assembly})\n",
    "\n",
    "        # polymer style\n",
    "        viewer.setStyle({'cartoon': {'colorscheme': 'chain', 'width': 0.6, 'opacity':0.9}})\n",
    "\n",
    "        # non-polymer style\n",
    "        viewer.setStyle({'hetflag': True}, {'stick':{'radius': 0.3, 'singleBond': False}})\n",
    "        \n",
    "        # residues surrounding mutation positions\n",
    "        viewer.addStyle(surroundings,{'stick':{'colorscheme':'orangeCarbon', 'radius': 0.15}})\n",
    "        \n",
    "        # mutation positions\n",
    "        for label, res, sig in zip(labels, res_num, sigs):\n",
    "            sig1 = sig.split(',')[0] # if multiple values, use the first one\n",
    "            col = (sig_dir[sig1])\n",
    "            mod_res = {'resi': res, 'chain': chain_id} \n",
    "            c_col = col + \"Carbon\"\n",
    "            viewer.addStyle(mod_res, {'stick':{'colorscheme':c_col, 'radius': 0.2}})\n",
    "            viewer.addStyle(mod_res, {'sphere':{'color':col, 'opacity': 0.6}})\n",
    "                \n",
    "            if show_labels:\n",
    "                viewer.addLabel(label + \" \" + sig, {'fontSize':10,'fontColor':col,'backgroundColor':'ivory'}, {'resi': res, 'chain': chain_id})\n",
    "        \n",
    "        viewer.zoomTo(all_residues)\n",
    "        \n",
    "        if show_surface:\n",
    "            viewer.addSurface(py3Dmol.SES,{'opacity':0.8,'color':'lightblue'})\n",
    "\n",
    "        return viewer.show()\n",
    "       \n",
    "    s_widget = IntSlider(min=0, max=len(df)-1, description='Structure', continuous_update=False)\n",
    "    \n",
    "    return interact(view3d, show_bio_assembly=False, show_surface=False, show_labels=True, i=s_widget)"
   ]
  },
  {
   "cell_type": "markdown",
   "metadata": {},
   "source": [
    "## Visualize locations of missense mutations\n",
    "Residues affected by mutations are rendered in as sticks and transparent spheres, and colored by ClinVar significance. Each mutated residue position is labeled by the PDB residue number and ClinVar significance. Residues surrounding mutation sites (within 6 A) are rendered as thin orange sticks. Small molecules within the structure are rendered as gray sticks."
   ]
  },
  {
   "cell_type": "markdown",
   "metadata": {},
   "source": [
    "Move the slider to browse through the structures. For an unobstructed view, turn off the labels."
   ]
  },
  {
   "cell_type": "code",
   "execution_count": 13,
   "metadata": {},
   "outputs": [
    {
     "data": {
      "application/vnd.jupyter.widget-view+json": {
       "model_id": "b94ac1aa559847a6a93c7d24826999ff",
       "version_major": 2,
       "version_minor": 0
      },
      "text/plain": [
       "interactive(children=(Checkbox(value=False, description='show_bio_assembly'), Checkbox(value=False, descriptio…"
      ]
     },
     "metadata": {},
     "output_type": "display_data"
    }
   ],
   "source": [
    "view_modifications(df, 6, 'uniprotId');"
   ]
  },
  {
   "cell_type": "markdown",
   "metadata": {},
   "source": [
    "## Alternative visualization"
   ]
  },
  {
   "cell_type": "code",
   "execution_count": 14,
   "metadata": {
    "code_folding": [
     0
    ]
   },
   "outputs": [],
   "source": [
    "def view_surface(df, cutoff_distance, *args):\n",
    "\n",
    "    def view3d(show_bio_assembly=False, show_surface=False, show_labels=True, i=0):\n",
    "        pdb_id, chain_id = df.iloc[i]['pdbChainId'].split('.')\n",
    "        res_num = df.iloc[i]['pdbResNums']\n",
    "        labels = df.iloc[i]['snps']\n",
    "        sigs = df.iloc[i]['clinsig']\n",
    "        \n",
    "        sig_dir = {'Benign':'green', 'Likely benign':'turquoise', 'Likely pathogenic':'palevioletred', \\\n",
    "                   'Pathogenic':'red', 'drug-response':'plum', 'untested':'white', \\\n",
    "                   'Uncertain significance': 'lightgray', 'other':'white', 'null':'white'}\n",
    "        \n",
    "        # print header\n",
    "        print (\"PDB Id: \" + pdb_id + \" chain Id: \" + chain_id)\n",
    "        \n",
    "        # print any specified additional columns from the dataframe\n",
    "        for a in args:\n",
    "            print(a + \": \" + df.iloc[i][a])\n",
    "            \n",
    "        viewer = py3Dmol.view(query='pdb:' + pdb_id, options={'doAssembly': show_bio_assembly})\n",
    "\n",
    "        all_residues = {'resi': res_num, 'chain': chain_id}\n",
    "        \n",
    "        # polymer style\n",
    "        viewer.setStyle({'sphere': {'colorscheme': 'chain', 'opacity':0.6}})\n",
    "        \n",
    "        # non-polymer style\n",
    "        viewer.setStyle({'hetflag': True}, {'stick':{'radius': 0.3, 'singleBond': False}})\n",
    "\n",
    "        # mutation style\n",
    "        for label, res, sig in zip(labels, res_num, sigs):\n",
    "            sig1 = sig.split(',')[0] # if multiple values, use the first one\n",
    "            col = (sig_dir[sig1])\n",
    "            mod_res = {'resi': res, 'chain': chain_id} \n",
    "            viewer.setStyle(mod_res, {'sphere':{'color':col}})\n",
    "        \n",
    "            if show_labels:\n",
    "                viewer.addLabel(label + \" \" + sig, {'fontSize':10,'fontColor':col,'backgroundColor':'ivory'}, {'resi': res, 'chain': chain_id})\n",
    "        \n",
    "        viewer.zoomTo(all_residues)        \n",
    "        \n",
    "        if show_surface:\n",
    "            viewer.addSurface(py3Dmol.SES,{'opacity':0.8,'color':'lightblue'})\n",
    "\n",
    "        return viewer.show()\n",
    "       \n",
    "    s_widget = IntSlider(min=0, max=len(df)-1, description='Structure', continuous_update=False)\n",
    "    \n",
    "    return interact(view3d, show_bio_assembly=False, show_surface=False, show_labels=True, i=s_widget)"
   ]
  },
  {
   "cell_type": "code",
   "execution_count": 15,
   "metadata": {},
   "outputs": [
    {
     "data": {
      "application/vnd.jupyter.widget-view+json": {
       "model_id": "36fa9d98dd764235b9f91e29339b623d",
       "version_major": 2,
       "version_minor": 0
      },
      "text/plain": [
       "interactive(children=(Checkbox(value=False, description='show_bio_assembly'), Checkbox(value=False, descriptio…"
      ]
     },
     "metadata": {},
     "output_type": "display_data"
    }
   ],
   "source": [
    "view_surface(df, 6, 'uniprotId');"
   ]
  },
  {
   "cell_type": "code",
   "execution_count": 16,
   "metadata": {},
   "outputs": [],
   "source": [
    "spark.stop()"
   ]
  },
  {
   "cell_type": "code",
   "execution_count": null,
   "metadata": {},
   "outputs": [],
   "source": []
  },
  {
   "cell_type": "code",
   "execution_count": null,
   "metadata": {},
   "outputs": [],
   "source": []
  }
 ],
 "metadata": {
  "kernelspec": {
   "display_name": "Python 3",
   "language": "python",
   "name": "python3"
  },
  "language_info": {
   "codemirror_mode": {
    "name": "ipython",
    "version": 3
   },
   "file_extension": ".py",
   "mimetype": "text/x-python",
   "name": "python",
   "nbconvert_exporter": "python",
   "pygments_lexer": "ipython3",
   "version": "3.6.3"
  },
  "widgets": {
   "application/vnd.jupyter.widget-state+json": {
    "state": {
     "11cb6e039d1549b28ce35950c666bd43": {
      "model_module": "@jupyter-widgets/base",
      "model_module_version": "1.1.0",
      "model_name": "LayoutModel",
      "state": {}
     },
     "12eed0b4750a45ffaa84abe7f64110b5": {
      "model_module": "@jupyter-widgets/controls",
      "model_module_version": "1.3.0",
      "model_name": "DescriptionStyleModel",
      "state": {
       "description_width": ""
      }
     },
     "139353bec67848d8a38af3bdf2ef1fe7": {
      "model_module": "@jupyter-widgets/controls",
      "model_module_version": "1.3.0",
      "model_name": "DescriptionStyleModel",
      "state": {
       "description_width": ""
      }
     },
     "24e587f44d024fe28ba757025afa2919": {
      "model_module": "@jupyter-widgets/base",
      "model_module_version": "1.1.0",
      "model_name": "LayoutModel",
      "state": {}
     },
     "284f4e5dcf694e79bb6b5473c7dc5920": {
      "model_module": "@jupyter-widgets/base",
      "model_module_version": "1.1.0",
      "model_name": "LayoutModel",
      "state": {}
     },
     "2b96a49ae77b4e11ae25e8096fc2b042": {
      "model_module": "@jupyter-widgets/base",
      "model_module_version": "1.1.0",
      "model_name": "LayoutModel",
      "state": {}
     },
     "30960e1d146649f6b82e93aeda1ab871": {
      "model_module": "@jupyter-widgets/controls",
      "model_module_version": "1.3.0",
      "model_name": "SelectMultipleModel",
      "state": {
       "_options_labels": [
        "All",
        "Benign",
        "Likely benign",
        "Likely pathogenic",
        "Pathogenic",
        "drug-response",
        "untested",
        "Uncertain significance",
        "other",
        "null"
       ],
       "description": "Significance:",
       "index": [
        1,
        2,
        3,
        4,
        5
       ],
       "layout": "IPY_MODEL_b0cbc725bd8e4065a331a2f56e331f72",
       "rows": 5,
       "style": "IPY_MODEL_e945c9f0cd854d66b8cb4a53e20f149e"
      }
     },
     "36fa9d98dd764235b9f91e29339b623d": {
      "model_module": "@jupyter-widgets/controls",
      "model_module_version": "1.3.0",
      "model_name": "VBoxModel",
      "state": {
       "_dom_classes": [
        "widget-interact"
       ],
       "children": [
        "IPY_MODEL_9689515fb86e44728675416b7c3dcec7",
        "IPY_MODEL_e7b5b78f25c54b7d9fbe0045680a5e41",
        "IPY_MODEL_c744db66aafb45bda77ad58df8732fed",
        "IPY_MODEL_5626623c648d4230ae7b4be92757704b",
        "IPY_MODEL_3b4aa6d513344e029297effe7e7d0ea9"
       ],
       "layout": "IPY_MODEL_624be8f057e143b38ca004d169e47693"
      }
     },
     "3b4aa6d513344e029297effe7e7d0ea9": {
      "model_module": "@jupyter-widgets/output",
      "model_module_version": "1.0.0",
      "model_name": "OutputModel",
      "state": {
       "layout": "IPY_MODEL_a4f7676b4ae34fa6aa1d129285d14b2d",
       "outputs": [
        {
         "name": "stdout",
         "output_type": "stream",
         "text": "PDB Id: 2AMY chain Id: A\nuniprotId: O15305\n"
        },
        {
         "data": {
          "application/3dmoljs_load.v0": "<div id=\"3dmolviewer_15344575052049222\"  style=\"position: relative; width: 640px; height: 480px\">\n        <p id=\"3dmolwarning_15344575052049222\" style=\"background-color:#ffcccc;color:black\">You appear to be running in JupyterLab.  You need to install the 3dmol extension: <br>\n        <tt>jupyter labextension install jupyterlab_3dmol</tt></p>\n        </div>\n<script>\n\nvar loadScriptAsync = function(uri){\n  return new Promise((resolve, reject) => {\n    var tag = document.createElement('script');\n    tag.src = uri;\n    tag.async = true;\n    tag.onload = () => {\n      resolve();\n    };\n  var firstScriptTag = document.getElementsByTagName('script')[0];\n  firstScriptTag.parentNode.insertBefore(tag, firstScriptTag);\n});\n};\n\nif(typeof $3Dmolpromise === 'undefined') {\n$3Dmolpromise = null;\n  $3Dmolpromise = loadScriptAsync('https://3dmol.csb.pitt.edu/build/3Dmol.js');\n}\n\nvar viewer_15344575052049222 = null;\nvar warn = document.getElementById(\"3dmolwarning_15344575052049222\");\nif(warn) {\n    warn.parentNode.removeChild(warn);\n}\n$3Dmolpromise.then(function() {\nviewer_15344575052049222 = $3Dmol.createViewer($(\"#3dmolviewer_15344575052049222\"),{backgroundColor:\"white\"});\n$3Dmol.download(\"pdb:2AMY\", viewer_15344575052049222, {\"doAssembly\": false}, function() {\n\tviewer_15344575052049222.setStyle({\"sphere\": {\"colorscheme\": \"chain\", \"opacity\": 0.6}});\n\tviewer_15344575052049222.setStyle({\"hetflag\": true},{\"stick\": {\"radius\": 0.3, \"singleBond\": false}});\n\tviewer_15344575052049222.setStyle({\"resi\": \"63\", \"chain\": \"A\"},{\"sphere\": {\"color\": \"palevioletred\"}});\n\tviewer_15344575052049222.addLabel(\"K->N Likely pathogenic\",{\"fontSize\": 10, \"fontColor\": \"palevioletred\", \"backgroundColor\": \"ivory\"},{\"resi\": \"63\", \"chain\": \"A\"});\n\tviewer_15344575052049222.setStyle({\"resi\": \"132\", \"chain\": \"A\"},{\"sphere\": {\"color\": \"palevioletred\"}});\n\tviewer_15344575052049222.addLabel(\"I->T Likely pathogenic\",{\"fontSize\": 10, \"fontColor\": \"palevioletred\", \"backgroundColor\": \"ivory\"},{\"resi\": \"132\", \"chain\": \"A\"});\n\tviewer_15344575052049222.setStyle({\"resi\": \"69\", \"chain\": \"A\"},{\"sphere\": {\"color\": \"palevioletred\"}});\n\tviewer_15344575052049222.addLabel(\"P->SA Likely pathogenic\",{\"fontSize\": 10, \"fontColor\": \"palevioletred\", \"backgroundColor\": \"ivory\"},{\"resi\": \"69\", \"chain\": \"A\"});\n\tviewer_15344575052049222.setStyle({\"resi\": \"171\", \"chain\": \"A\"},{\"sphere\": {\"color\": \"palevioletred\"}});\n\tviewer_15344575052049222.addLabel(\"T->N Likely pathogenic\",{\"fontSize\": 10, \"fontColor\": \"palevioletred\", \"backgroundColor\": \"ivory\"},{\"resi\": \"171\", \"chain\": \"A\"});\n\tviewer_15344575052049222.setStyle({\"resi\": \"226\", \"chain\": \"A\"},{\"sphere\": {\"color\": \"red\"}});\n\tviewer_15344575052049222.addLabel(\"T->S Pathogenic\",{\"fontSize\": 10, \"fontColor\": \"red\", \"backgroundColor\": \"ivory\"},{\"resi\": \"226\", \"chain\": \"A\"});\n\tviewer_15344575052049222.setStyle({\"resi\": \"187\", \"chain\": \"A\"},{\"sphere\": {\"color\": \"palevioletred\"}});\n\tviewer_15344575052049222.addLabel(\"W->* Likely pathogenic\",{\"fontSize\": 10, \"fontColor\": \"palevioletred\", \"backgroundColor\": \"ivory\"},{\"resi\": \"187\", \"chain\": \"A\"});\n\tviewer_15344575052049222.setStyle({\"resi\": \"32\", \"chain\": \"A\"},{\"sphere\": {\"color\": \"red\"}});\n\tviewer_15344575052049222.addLabel(\"L->R Pathogenic\",{\"fontSize\": 10, \"fontColor\": \"red\", \"backgroundColor\": \"ivory\"},{\"resi\": \"32\", \"chain\": \"A\"});\n\tviewer_15344575052049222.setStyle({\"resi\": \"157\", \"chain\": \"A\"},{\"sphere\": {\"color\": \"red\"}});\n\tviewer_15344575052049222.addLabel(\"F->S Pathogenic\",{\"fontSize\": 10, \"fontColor\": \"red\", \"backgroundColor\": \"ivory\"},{\"resi\": \"157\", \"chain\": \"A\"});\n\tviewer_15344575052049222.setStyle({\"resi\": \"141\", \"chain\": \"A\"},{\"sphere\": {\"color\": \"red\"}});\n\tviewer_15344575052049222.addLabel(\"R->H Pathogenic\",{\"fontSize\": 10, \"fontColor\": \"red\", \"backgroundColor\": \"ivory\"},{\"resi\": \"141\", \"chain\": \"A\"});\n\tviewer_15344575052049222.setStyle({\"resi\": \"188\", \"chain\": \"A\"},{\"sphere\": {\"color\": \"red\"}});\n\tviewer_15344575052049222.addLabel(\"D->G Pathogenic\",{\"fontSize\": 10, \"fontColor\": \"red\", \"backgroundColor\": \"ivory\"},{\"resi\": \"188\", \"chain\": \"A\"});\n\tviewer_15344575052049222.setStyle({\"resi\": \"208\", \"chain\": \"A\"},{\"sphere\": {\"color\": \"red\"}});\n\tviewer_15344575052049222.addLabel(\"G->EA Pathogenic\",{\"fontSize\": 10, \"fontColor\": \"red\", \"backgroundColor\": \"ivory\"},{\"resi\": \"208\", \"chain\": \"A\"});\n\tviewer_15344575052049222.setStyle({\"resi\": \"148\", \"chain\": \"A\"},{\"sphere\": {\"color\": \"red\"}});\n\tviewer_15344575052049222.addLabel(\"D->N Pathogenic\",{\"fontSize\": 10, \"fontColor\": \"red\", \"backgroundColor\": \"ivory\"},{\"resi\": \"148\", \"chain\": \"A\"});\n\tviewer_15344575052049222.setStyle({\"resi\": \"9\", \"chain\": \"A\"},{\"sphere\": {\"color\": \"palevioletred\"}});\n\tviewer_15344575052049222.addLabel(\"C->*AY Likely pathogenic\",{\"fontSize\": 10, \"fontColor\": \"palevioletred\", \"backgroundColor\": \"ivory\"},{\"resi\": \"9\", \"chain\": \"A\"});\n\tviewer_15344575052049222.setStyle({\"resi\": \"231\", \"chain\": \"A\"},{\"sphere\": {\"color\": \"red\"}});\n\tviewer_15344575052049222.addLabel(\"V->M Pathogenic\",{\"fontSize\": 10, \"fontColor\": \"red\", \"backgroundColor\": \"ivory\"},{\"resi\": \"231\", \"chain\": \"A\"});\n\tviewer_15344575052049222.setStyle({\"resi\": \"18\", \"chain\": \"A\"},{\"sphere\": {\"color\": \"palevioletred\"}});\n\tviewer_15344575052049222.addLabel(\"T->S Likely pathogenic\",{\"fontSize\": 10, \"fontColor\": \"palevioletred\", \"backgroundColor\": \"ivory\"},{\"resi\": \"18\", \"chain\": \"A\"});\n\tviewer_15344575052049222.setStyle({\"resi\": \"241\", \"chain\": \"A\"},{\"sphere\": {\"color\": \"red\"}});\n\tviewer_15344575052049222.addLabel(\"C->S Pathogenic\",{\"fontSize\": 10, \"fontColor\": \"red\", \"backgroundColor\": \"ivory\"},{\"resi\": \"241\", \"chain\": \"A\"});\n\tviewer_15344575052049222.setStyle({\"resi\": \"129\", \"chain\": \"A\"},{\"sphere\": {\"color\": \"red\"}});\n\tviewer_15344575052049222.addLabel(\"V->M Pathogenic\",{\"fontSize\": 10, \"fontColor\": \"red\", \"backgroundColor\": \"ivory\"},{\"resi\": \"129\", \"chain\": \"A\"});\n\tviewer_15344575052049222.setStyle({\"resi\": \"116\", \"chain\": \"A\"},{\"sphere\": {\"color\": \"palevioletred\"}});\n\tviewer_15344575052049222.addLabel(\"R->E Likely pathogenic\",{\"fontSize\": 10, \"fontColor\": \"palevioletred\", \"backgroundColor\": \"ivory\"},{\"resi\": \"116\", \"chain\": \"A\"});\n\tviewer_15344575052049222.setStyle({\"resi\": \"119\", \"chain\": \"A\"},{\"sphere\": {\"color\": \"red\"}});\n\tviewer_15344575052049222.addLabel(\"F->L Pathogenic\",{\"fontSize\": 10, \"fontColor\": \"red\", \"backgroundColor\": \"ivory\"},{\"resi\": \"119\", \"chain\": \"A\"});\n\tviewer_15344575052049222.setStyle({\"resi\": \"108\", \"chain\": \"A\"},{\"sphere\": {\"color\": \"red\"}});\n\tviewer_15344575052049222.addLabel(\"A->V Pathogenic\",{\"fontSize\": 10, \"fontColor\": \"red\", \"backgroundColor\": \"ivory\"},{\"resi\": \"108\", \"chain\": \"A\"});\n\tviewer_15344575052049222.setStyle({\"resi\": \"31\", \"chain\": \"A\"},{\"sphere\": {\"color\": \"palevioletred\"}});\n\tviewer_15344575052049222.addLabel(\"F->L Likely pathogenic\",{\"fontSize\": 10, \"fontColor\": \"palevioletred\", \"backgroundColor\": \"ivory\"},{\"resi\": \"31\", \"chain\": \"A\"});\n\tviewer_15344575052049222.setStyle({\"resi\": \"194\", \"chain\": \"A\"},{\"sphere\": {\"color\": \"palevioletred\"}});\n\tviewer_15344575052049222.addLabel(\"R->* Likely pathogenic\",{\"fontSize\": 10, \"fontColor\": \"palevioletred\", \"backgroundColor\": \"ivory\"},{\"resi\": \"194\", \"chain\": \"A\"});\n\tviewer_15344575052049222.setStyle({\"resi\": \"176\", \"chain\": \"A\"},{\"sphere\": {\"color\": \"palevioletred\"}});\n\tviewer_15344575052049222.addLabel(\"G->D Likely pathogenic\",{\"fontSize\": 10, \"fontColor\": \"palevioletred\", \"backgroundColor\": \"ivory\"},{\"resi\": \"176\", \"chain\": \"A\"});\n\tviewer_15344575052049222.setStyle({\"resi\": \"106\", \"chain\": \"A\"},{\"sphere\": {\"color\": \"red\"}});\n\tviewer_15344575052049222.addLabel(\"Y->F Pathogenic\",{\"fontSize\": 10, \"fontColor\": \"red\", \"backgroundColor\": \"ivory\"},{\"resi\": \"106\", \"chain\": \"A\"});\n\tviewer_15344575052049222.setStyle({\"resi\": \"216\", \"chain\": \"A\"},{\"sphere\": {\"color\": \"red\"}});\n\tviewer_15344575052049222.addLabel(\"N->S Pathogenic,Likely pathogenic\",{\"fontSize\": 10, \"fontColor\": \"red\", \"backgroundColor\": \"ivory\"},{\"resi\": \"216\", \"chain\": \"A\"});\n\tviewer_15344575052049222.setStyle({\"resi\": \"207\", \"chain\": \"A\"},{\"sphere\": {\"color\": \"palevioletred\"}});\n\tviewer_15344575052049222.addLabel(\"F->S Likely pathogenic\",{\"fontSize\": 10, \"fontColor\": \"palevioletred\", \"backgroundColor\": \"ivory\"},{\"resi\": \"207\", \"chain\": \"A\"});\n\tviewer_15344575052049222.setStyle({\"resi\": \"65\", \"chain\": \"A\"},{\"sphere\": {\"color\": \"red\"}});\n\tviewer_15344575052049222.addLabel(\"D->Y Pathogenic\",{\"fontSize\": 10, \"fontColor\": \"red\", \"backgroundColor\": \"ivory\"},{\"resi\": \"65\", \"chain\": \"A\"});\n\tviewer_15344575052049222.setStyle({\"resi\": \"237\", \"chain\": \"A\"},{\"sphere\": {\"color\": \"red\"}});\n\tviewer_15344575052049222.addLabel(\"T->MR Pathogenic\",{\"fontSize\": 10, \"fontColor\": \"red\", \"backgroundColor\": \"ivory\"},{\"resi\": \"237\", \"chain\": \"A\"});\n\tviewer_15344575052049222.setStyle({\"resi\": \"44\", \"chain\": \"A\"},{\"sphere\": {\"color\": \"palevioletred\"}});\n\tviewer_15344575052049222.addLabel(\"V->A Likely pathogenic\",{\"fontSize\": 10, \"fontColor\": \"palevioletred\", \"backgroundColor\": \"ivory\"},{\"resi\": \"44\", \"chain\": \"A\"});\n\tviewer_15344575052049222.setStyle({\"resi\": \"218\", \"chain\": \"A\"},{\"sphere\": {\"color\": \"red\"}});\n\tviewer_15344575052049222.addLabel(\"H->LD Pathogenic,Likely pathogenic\",{\"fontSize\": 10, \"fontColor\": \"red\", \"backgroundColor\": \"ivory\"},{\"resi\": \"218\", \"chain\": \"A\"});\n\tviewer_15344575052049222.setStyle({\"resi\": \"139\", \"chain\": \"A\"},{\"sphere\": {\"color\": \"red\"}});\n\tviewer_15344575052049222.addLabel(\"E->K Pathogenic,Likely pathogenic\",{\"fontSize\": 10, \"fontColor\": \"red\", \"backgroundColor\": \"ivory\"},{\"resi\": \"139\", \"chain\": \"A\"});\n\tviewer_15344575052049222.setStyle({\"resi\": \"43\", \"chain\": \"A\"},{\"sphere\": {\"color\": \"palevioletred\"}});\n\tviewer_15344575052049222.addLabel(\"V->L Likely pathogenic\",{\"fontSize\": 10, \"fontColor\": \"palevioletred\", \"backgroundColor\": \"ivory\"},{\"resi\": \"43\", \"chain\": \"A\"});\n\tviewer_15344575052049222.setStyle({\"resi\": \"144\", \"chain\": \"A\"},{\"sphere\": {\"color\": \"palevioletred\"}});\n\tviewer_15344575052049222.addLabel(\"F->L Likely pathogenic\",{\"fontSize\": 10, \"fontColor\": \"palevioletred\", \"backgroundColor\": \"ivory\"},{\"resi\": \"144\", \"chain\": \"A\"});\n\tviewer_15344575052049222.setStyle({\"resi\": \"53\", \"chain\": \"A\"},{\"sphere\": {\"color\": \"red\"}});\n\tviewer_15344575052049222.addLabel(\"Q->* Pathogenic\",{\"fontSize\": 10, \"fontColor\": \"red\", \"backgroundColor\": \"ivory\"},{\"resi\": \"53\", \"chain\": \"A\"});\n\tviewer_15344575052049222.setStyle({\"resi\": \"153\", \"chain\": \"A\"},{\"sphere\": {\"color\": \"palevioletred\"}});\n\tviewer_15344575052049222.addLabel(\"I->T Likely pathogenic\",{\"fontSize\": 10, \"fontColor\": \"palevioletred\", \"backgroundColor\": \"ivory\"},{\"resi\": \"153\", \"chain\": \"A\"});\n\tviewer_15344575052049222.setStyle({\"resi\": \"113\", \"chain\": \"A\"},{\"sphere\": {\"color\": \"red\"}});\n\tviewer_15344575052049222.addLabel(\"P->TSL Pathogenic,Likely pathogenic\",{\"fontSize\": 10, \"fontColor\": \"red\", \"backgroundColor\": \"ivory\"},{\"resi\": \"113\", \"chain\": \"A\"});\n\tviewer_15344575052049222.setStyle({\"resi\": \"223\", \"chain\": \"A\"},{\"sphere\": {\"color\": \"red\"}});\n\tviewer_15344575052049222.addLabel(\"D->E Pathogenic\",{\"fontSize\": 10, \"fontColor\": \"red\", \"backgroundColor\": \"ivory\"},{\"resi\": \"223\", \"chain\": \"A\"});\n\tviewer_15344575052049222.setStyle({\"resi\": \"117\", \"chain\": \"A\"},{\"sphere\": {\"color\": \"red\"}});\n\tviewer_15344575052049222.addLabel(\"G->R Pathogenic\",{\"fontSize\": 10, \"fontColor\": \"red\", \"backgroundColor\": \"ivory\"},{\"resi\": \"117\", \"chain\": \"A\"});\n\tviewer_15344575052049222.setStyle({\"resi\": \"104\", \"chain\": \"A\"},{\"sphere\": {\"color\": \"red\"}});\n\tviewer_15344575052049222.addLabel(\"L->V Pathogenic\",{\"fontSize\": 10, \"fontColor\": \"red\", \"backgroundColor\": \"ivory\"},{\"resi\": \"104\", \"chain\": \"A\"});\n\tviewer_15344575052049222.setStyle({\"resi\": \"162\", \"chain\": \"A\"},{\"sphere\": {\"color\": \"red\"}});\n\tviewer_15344575052049222.addLabel(\"R->W Pathogenic\",{\"fontSize\": 10, \"fontColor\": \"red\", \"backgroundColor\": \"ivory\"},{\"resi\": \"162\", \"chain\": \"A\"});\n\tviewer_15344575052049222.setStyle({\"resi\": \"123\", \"chain\": \"A\"},{\"sphere\": {\"color\": \"red\"}});\n\tviewer_15344575052049222.addLabel(\"R->*Q Pathogenic\",{\"fontSize\": 10, \"fontColor\": \"red\", \"backgroundColor\": \"ivory\"},{\"resi\": \"123\", \"chain\": \"A\"});\n\tviewer_15344575052049222.zoomTo({\"resi\": [\"63\", \"132\", \"69\", \"171\", \"226\", \"187\", \"32\", \"157\", \"141\", \"188\", \"208\", \"148\", \"9\", \"231\", \"18\", \"241\", \"129\", \"116\", \"119\", \"108\", \"31\", \"194\", \"176\", \"106\", \"216\", \"207\", \"65\", \"237\", \"44\", \"218\", \"139\", \"43\", \"144\", \"53\", \"153\", \"113\", \"223\", \"117\", \"104\", \"162\", \"123\"], \"chain\": \"A\"});\nviewer_15344575052049222.render();\n})\n});\n</script>",
          "text/html": "<div id=\"3dmolviewer_15344575052049222\"  style=\"position: relative; width: 640px; height: 480px\">\n        <p id=\"3dmolwarning_15344575052049222\" style=\"background-color:#ffcccc;color:black\">You appear to be running in JupyterLab.  You need to install the 3dmol extension: <br>\n        <tt>jupyter labextension install jupyterlab_3dmol</tt></p>\n        </div>\n<script>\n\nvar loadScriptAsync = function(uri){\n  return new Promise((resolve, reject) => {\n    var tag = document.createElement('script');\n    tag.src = uri;\n    tag.async = true;\n    tag.onload = () => {\n      resolve();\n    };\n  var firstScriptTag = document.getElementsByTagName('script')[0];\n  firstScriptTag.parentNode.insertBefore(tag, firstScriptTag);\n});\n};\n\nif(typeof $3Dmolpromise === 'undefined') {\n$3Dmolpromise = null;\n  $3Dmolpromise = loadScriptAsync('https://3dmol.csb.pitt.edu/build/3Dmol.js');\n}\n\nvar viewer_15344575052049222 = null;\nvar warn = document.getElementById(\"3dmolwarning_15344575052049222\");\nif(warn) {\n    warn.parentNode.removeChild(warn);\n}\n$3Dmolpromise.then(function() {\nviewer_15344575052049222 = $3Dmol.createViewer($(\"#3dmolviewer_15344575052049222\"),{backgroundColor:\"white\"});\n$3Dmol.download(\"pdb:2AMY\", viewer_15344575052049222, {\"doAssembly\": false}, function() {\n\tviewer_15344575052049222.setStyle({\"sphere\": {\"colorscheme\": \"chain\", \"opacity\": 0.6}});\n\tviewer_15344575052049222.setStyle({\"hetflag\": true},{\"stick\": {\"radius\": 0.3, \"singleBond\": false}});\n\tviewer_15344575052049222.setStyle({\"resi\": \"63\", \"chain\": \"A\"},{\"sphere\": {\"color\": \"palevioletred\"}});\n\tviewer_15344575052049222.addLabel(\"K->N Likely pathogenic\",{\"fontSize\": 10, \"fontColor\": \"palevioletred\", \"backgroundColor\": \"ivory\"},{\"resi\": \"63\", \"chain\": \"A\"});\n\tviewer_15344575052049222.setStyle({\"resi\": \"132\", \"chain\": \"A\"},{\"sphere\": {\"color\": \"palevioletred\"}});\n\tviewer_15344575052049222.addLabel(\"I->T Likely pathogenic\",{\"fontSize\": 10, \"fontColor\": \"palevioletred\", \"backgroundColor\": \"ivory\"},{\"resi\": \"132\", \"chain\": \"A\"});\n\tviewer_15344575052049222.setStyle({\"resi\": \"69\", \"chain\": \"A\"},{\"sphere\": {\"color\": \"palevioletred\"}});\n\tviewer_15344575052049222.addLabel(\"P->SA Likely pathogenic\",{\"fontSize\": 10, \"fontColor\": \"palevioletred\", \"backgroundColor\": \"ivory\"},{\"resi\": \"69\", \"chain\": \"A\"});\n\tviewer_15344575052049222.setStyle({\"resi\": \"171\", \"chain\": \"A\"},{\"sphere\": {\"color\": \"palevioletred\"}});\n\tviewer_15344575052049222.addLabel(\"T->N Likely pathogenic\",{\"fontSize\": 10, \"fontColor\": \"palevioletred\", \"backgroundColor\": \"ivory\"},{\"resi\": \"171\", \"chain\": \"A\"});\n\tviewer_15344575052049222.setStyle({\"resi\": \"226\", \"chain\": \"A\"},{\"sphere\": {\"color\": \"red\"}});\n\tviewer_15344575052049222.addLabel(\"T->S Pathogenic\",{\"fontSize\": 10, \"fontColor\": \"red\", \"backgroundColor\": \"ivory\"},{\"resi\": \"226\", \"chain\": \"A\"});\n\tviewer_15344575052049222.setStyle({\"resi\": \"187\", \"chain\": \"A\"},{\"sphere\": {\"color\": \"palevioletred\"}});\n\tviewer_15344575052049222.addLabel(\"W->* Likely pathogenic\",{\"fontSize\": 10, \"fontColor\": \"palevioletred\", \"backgroundColor\": \"ivory\"},{\"resi\": \"187\", \"chain\": \"A\"});\n\tviewer_15344575052049222.setStyle({\"resi\": \"32\", \"chain\": \"A\"},{\"sphere\": {\"color\": \"red\"}});\n\tviewer_15344575052049222.addLabel(\"L->R Pathogenic\",{\"fontSize\": 10, \"fontColor\": \"red\", \"backgroundColor\": \"ivory\"},{\"resi\": \"32\", \"chain\": \"A\"});\n\tviewer_15344575052049222.setStyle({\"resi\": \"157\", \"chain\": \"A\"},{\"sphere\": {\"color\": \"red\"}});\n\tviewer_15344575052049222.addLabel(\"F->S Pathogenic\",{\"fontSize\": 10, \"fontColor\": \"red\", \"backgroundColor\": \"ivory\"},{\"resi\": \"157\", \"chain\": \"A\"});\n\tviewer_15344575052049222.setStyle({\"resi\": \"141\", \"chain\": \"A\"},{\"sphere\": {\"color\": \"red\"}});\n\tviewer_15344575052049222.addLabel(\"R->H Pathogenic\",{\"fontSize\": 10, \"fontColor\": \"red\", \"backgroundColor\": \"ivory\"},{\"resi\": \"141\", \"chain\": \"A\"});\n\tviewer_15344575052049222.setStyle({\"resi\": \"188\", \"chain\": \"A\"},{\"sphere\": {\"color\": \"red\"}});\n\tviewer_15344575052049222.addLabel(\"D->G Pathogenic\",{\"fontSize\": 10, \"fontColor\": \"red\", \"backgroundColor\": \"ivory\"},{\"resi\": \"188\", \"chain\": \"A\"});\n\tviewer_15344575052049222.setStyle({\"resi\": \"208\", \"chain\": \"A\"},{\"sphere\": {\"color\": \"red\"}});\n\tviewer_15344575052049222.addLabel(\"G->EA Pathogenic\",{\"fontSize\": 10, \"fontColor\": \"red\", \"backgroundColor\": \"ivory\"},{\"resi\": \"208\", \"chain\": \"A\"});\n\tviewer_15344575052049222.setStyle({\"resi\": \"148\", \"chain\": \"A\"},{\"sphere\": {\"color\": \"red\"}});\n\tviewer_15344575052049222.addLabel(\"D->N Pathogenic\",{\"fontSize\": 10, \"fontColor\": \"red\", \"backgroundColor\": \"ivory\"},{\"resi\": \"148\", \"chain\": \"A\"});\n\tviewer_15344575052049222.setStyle({\"resi\": \"9\", \"chain\": \"A\"},{\"sphere\": {\"color\": \"palevioletred\"}});\n\tviewer_15344575052049222.addLabel(\"C->*AY Likely pathogenic\",{\"fontSize\": 10, \"fontColor\": \"palevioletred\", \"backgroundColor\": \"ivory\"},{\"resi\": \"9\", \"chain\": \"A\"});\n\tviewer_15344575052049222.setStyle({\"resi\": \"231\", \"chain\": \"A\"},{\"sphere\": {\"color\": \"red\"}});\n\tviewer_15344575052049222.addLabel(\"V->M Pathogenic\",{\"fontSize\": 10, \"fontColor\": \"red\", \"backgroundColor\": \"ivory\"},{\"resi\": \"231\", \"chain\": \"A\"});\n\tviewer_15344575052049222.setStyle({\"resi\": \"18\", \"chain\": \"A\"},{\"sphere\": {\"color\": \"palevioletred\"}});\n\tviewer_15344575052049222.addLabel(\"T->S Likely pathogenic\",{\"fontSize\": 10, \"fontColor\": \"palevioletred\", \"backgroundColor\": \"ivory\"},{\"resi\": \"18\", \"chain\": \"A\"});\n\tviewer_15344575052049222.setStyle({\"resi\": \"241\", \"chain\": \"A\"},{\"sphere\": {\"color\": \"red\"}});\n\tviewer_15344575052049222.addLabel(\"C->S Pathogenic\",{\"fontSize\": 10, \"fontColor\": \"red\", \"backgroundColor\": \"ivory\"},{\"resi\": \"241\", \"chain\": \"A\"});\n\tviewer_15344575052049222.setStyle({\"resi\": \"129\", \"chain\": \"A\"},{\"sphere\": {\"color\": \"red\"}});\n\tviewer_15344575052049222.addLabel(\"V->M Pathogenic\",{\"fontSize\": 10, \"fontColor\": \"red\", \"backgroundColor\": \"ivory\"},{\"resi\": \"129\", \"chain\": \"A\"});\n\tviewer_15344575052049222.setStyle({\"resi\": \"116\", \"chain\": \"A\"},{\"sphere\": {\"color\": \"palevioletred\"}});\n\tviewer_15344575052049222.addLabel(\"R->E Likely pathogenic\",{\"fontSize\": 10, \"fontColor\": \"palevioletred\", \"backgroundColor\": \"ivory\"},{\"resi\": \"116\", \"chain\": \"A\"});\n\tviewer_15344575052049222.setStyle({\"resi\": \"119\", \"chain\": \"A\"},{\"sphere\": {\"color\": \"red\"}});\n\tviewer_15344575052049222.addLabel(\"F->L Pathogenic\",{\"fontSize\": 10, \"fontColor\": \"red\", \"backgroundColor\": \"ivory\"},{\"resi\": \"119\", \"chain\": \"A\"});\n\tviewer_15344575052049222.setStyle({\"resi\": \"108\", \"chain\": \"A\"},{\"sphere\": {\"color\": \"red\"}});\n\tviewer_15344575052049222.addLabel(\"A->V Pathogenic\",{\"fontSize\": 10, \"fontColor\": \"red\", \"backgroundColor\": \"ivory\"},{\"resi\": \"108\", \"chain\": \"A\"});\n\tviewer_15344575052049222.setStyle({\"resi\": \"31\", \"chain\": \"A\"},{\"sphere\": {\"color\": \"palevioletred\"}});\n\tviewer_15344575052049222.addLabel(\"F->L Likely pathogenic\",{\"fontSize\": 10, \"fontColor\": \"palevioletred\", \"backgroundColor\": \"ivory\"},{\"resi\": \"31\", \"chain\": \"A\"});\n\tviewer_15344575052049222.setStyle({\"resi\": \"194\", \"chain\": \"A\"},{\"sphere\": {\"color\": \"palevioletred\"}});\n\tviewer_15344575052049222.addLabel(\"R->* Likely pathogenic\",{\"fontSize\": 10, \"fontColor\": \"palevioletred\", \"backgroundColor\": \"ivory\"},{\"resi\": \"194\", \"chain\": \"A\"});\n\tviewer_15344575052049222.setStyle({\"resi\": \"176\", \"chain\": \"A\"},{\"sphere\": {\"color\": \"palevioletred\"}});\n\tviewer_15344575052049222.addLabel(\"G->D Likely pathogenic\",{\"fontSize\": 10, \"fontColor\": \"palevioletred\", \"backgroundColor\": \"ivory\"},{\"resi\": \"176\", \"chain\": \"A\"});\n\tviewer_15344575052049222.setStyle({\"resi\": \"106\", \"chain\": \"A\"},{\"sphere\": {\"color\": \"red\"}});\n\tviewer_15344575052049222.addLabel(\"Y->F Pathogenic\",{\"fontSize\": 10, \"fontColor\": \"red\", \"backgroundColor\": \"ivory\"},{\"resi\": \"106\", \"chain\": \"A\"});\n\tviewer_15344575052049222.setStyle({\"resi\": \"216\", \"chain\": \"A\"},{\"sphere\": {\"color\": \"red\"}});\n\tviewer_15344575052049222.addLabel(\"N->S Pathogenic,Likely pathogenic\",{\"fontSize\": 10, \"fontColor\": \"red\", \"backgroundColor\": \"ivory\"},{\"resi\": \"216\", \"chain\": \"A\"});\n\tviewer_15344575052049222.setStyle({\"resi\": \"207\", \"chain\": \"A\"},{\"sphere\": {\"color\": \"palevioletred\"}});\n\tviewer_15344575052049222.addLabel(\"F->S Likely pathogenic\",{\"fontSize\": 10, \"fontColor\": \"palevioletred\", \"backgroundColor\": \"ivory\"},{\"resi\": \"207\", \"chain\": \"A\"});\n\tviewer_15344575052049222.setStyle({\"resi\": \"65\", \"chain\": \"A\"},{\"sphere\": {\"color\": \"red\"}});\n\tviewer_15344575052049222.addLabel(\"D->Y Pathogenic\",{\"fontSize\": 10, \"fontColor\": \"red\", \"backgroundColor\": \"ivory\"},{\"resi\": \"65\", \"chain\": \"A\"});\n\tviewer_15344575052049222.setStyle({\"resi\": \"237\", \"chain\": \"A\"},{\"sphere\": {\"color\": \"red\"}});\n\tviewer_15344575052049222.addLabel(\"T->MR Pathogenic\",{\"fontSize\": 10, \"fontColor\": \"red\", \"backgroundColor\": \"ivory\"},{\"resi\": \"237\", \"chain\": \"A\"});\n\tviewer_15344575052049222.setStyle({\"resi\": \"44\", \"chain\": \"A\"},{\"sphere\": {\"color\": \"palevioletred\"}});\n\tviewer_15344575052049222.addLabel(\"V->A Likely pathogenic\",{\"fontSize\": 10, \"fontColor\": \"palevioletred\", \"backgroundColor\": \"ivory\"},{\"resi\": \"44\", \"chain\": \"A\"});\n\tviewer_15344575052049222.setStyle({\"resi\": \"218\", \"chain\": \"A\"},{\"sphere\": {\"color\": \"red\"}});\n\tviewer_15344575052049222.addLabel(\"H->LD Pathogenic,Likely pathogenic\",{\"fontSize\": 10, \"fontColor\": \"red\", \"backgroundColor\": \"ivory\"},{\"resi\": \"218\", \"chain\": \"A\"});\n\tviewer_15344575052049222.setStyle({\"resi\": \"139\", \"chain\": \"A\"},{\"sphere\": {\"color\": \"red\"}});\n\tviewer_15344575052049222.addLabel(\"E->K Pathogenic,Likely pathogenic\",{\"fontSize\": 10, \"fontColor\": \"red\", \"backgroundColor\": \"ivory\"},{\"resi\": \"139\", \"chain\": \"A\"});\n\tviewer_15344575052049222.setStyle({\"resi\": \"43\", \"chain\": \"A\"},{\"sphere\": {\"color\": \"palevioletred\"}});\n\tviewer_15344575052049222.addLabel(\"V->L Likely pathogenic\",{\"fontSize\": 10, \"fontColor\": \"palevioletred\", \"backgroundColor\": \"ivory\"},{\"resi\": \"43\", \"chain\": \"A\"});\n\tviewer_15344575052049222.setStyle({\"resi\": \"144\", \"chain\": \"A\"},{\"sphere\": {\"color\": \"palevioletred\"}});\n\tviewer_15344575052049222.addLabel(\"F->L Likely pathogenic\",{\"fontSize\": 10, \"fontColor\": \"palevioletred\", \"backgroundColor\": \"ivory\"},{\"resi\": \"144\", \"chain\": \"A\"});\n\tviewer_15344575052049222.setStyle({\"resi\": \"53\", \"chain\": \"A\"},{\"sphere\": {\"color\": \"red\"}});\n\tviewer_15344575052049222.addLabel(\"Q->* Pathogenic\",{\"fontSize\": 10, \"fontColor\": \"red\", \"backgroundColor\": \"ivory\"},{\"resi\": \"53\", \"chain\": \"A\"});\n\tviewer_15344575052049222.setStyle({\"resi\": \"153\", \"chain\": \"A\"},{\"sphere\": {\"color\": \"palevioletred\"}});\n\tviewer_15344575052049222.addLabel(\"I->T Likely pathogenic\",{\"fontSize\": 10, \"fontColor\": \"palevioletred\", \"backgroundColor\": \"ivory\"},{\"resi\": \"153\", \"chain\": \"A\"});\n\tviewer_15344575052049222.setStyle({\"resi\": \"113\", \"chain\": \"A\"},{\"sphere\": {\"color\": \"red\"}});\n\tviewer_15344575052049222.addLabel(\"P->TSL Pathogenic,Likely pathogenic\",{\"fontSize\": 10, \"fontColor\": \"red\", \"backgroundColor\": \"ivory\"},{\"resi\": \"113\", \"chain\": \"A\"});\n\tviewer_15344575052049222.setStyle({\"resi\": \"223\", \"chain\": \"A\"},{\"sphere\": {\"color\": \"red\"}});\n\tviewer_15344575052049222.addLabel(\"D->E Pathogenic\",{\"fontSize\": 10, \"fontColor\": \"red\", \"backgroundColor\": \"ivory\"},{\"resi\": \"223\", \"chain\": \"A\"});\n\tviewer_15344575052049222.setStyle({\"resi\": \"117\", \"chain\": \"A\"},{\"sphere\": {\"color\": \"red\"}});\n\tviewer_15344575052049222.addLabel(\"G->R Pathogenic\",{\"fontSize\": 10, \"fontColor\": \"red\", \"backgroundColor\": \"ivory\"},{\"resi\": \"117\", \"chain\": \"A\"});\n\tviewer_15344575052049222.setStyle({\"resi\": \"104\", \"chain\": \"A\"},{\"sphere\": {\"color\": \"red\"}});\n\tviewer_15344575052049222.addLabel(\"L->V Pathogenic\",{\"fontSize\": 10, \"fontColor\": \"red\", \"backgroundColor\": \"ivory\"},{\"resi\": \"104\", \"chain\": \"A\"});\n\tviewer_15344575052049222.setStyle({\"resi\": \"162\", \"chain\": \"A\"},{\"sphere\": {\"color\": \"red\"}});\n\tviewer_15344575052049222.addLabel(\"R->W Pathogenic\",{\"fontSize\": 10, \"fontColor\": \"red\", \"backgroundColor\": \"ivory\"},{\"resi\": \"162\", \"chain\": \"A\"});\n\tviewer_15344575052049222.setStyle({\"resi\": \"123\", \"chain\": \"A\"},{\"sphere\": {\"color\": \"red\"}});\n\tviewer_15344575052049222.addLabel(\"R->*Q Pathogenic\",{\"fontSize\": 10, \"fontColor\": \"red\", \"backgroundColor\": \"ivory\"},{\"resi\": \"123\", \"chain\": \"A\"});\n\tviewer_15344575052049222.zoomTo({\"resi\": [\"63\", \"132\", \"69\", \"171\", \"226\", \"187\", \"32\", \"157\", \"141\", \"188\", \"208\", \"148\", \"9\", \"231\", \"18\", \"241\", \"129\", \"116\", \"119\", \"108\", \"31\", \"194\", \"176\", \"106\", \"216\", \"207\", \"65\", \"237\", \"44\", \"218\", \"139\", \"43\", \"144\", \"53\", \"153\", \"113\", \"223\", \"117\", \"104\", \"162\", \"123\"], \"chain\": \"A\"});\nviewer_15344575052049222.render();\n})\n});\n</script>"
         },
         "metadata": {},
         "output_type": "display_data"
        }
       ]
      }
     },
     "4078d23232f84cd995368e1885acd114": {
      "model_module": "@jupyter-widgets/base",
      "model_module_version": "1.1.0",
      "model_name": "LayoutModel",
      "state": {}
     },
     "49f70cef2477498089f34e7c1030fca8": {
      "model_module": "@jupyter-widgets/controls",
      "model_module_version": "1.3.0",
      "model_name": "DescriptionStyleModel",
      "state": {
       "description_width": ""
      }
     },
     "4d1874012dbd44a687cb42c2acccddbc": {
      "model_module": "@jupyter-widgets/controls",
      "model_module_version": "1.3.0",
      "model_name": "DescriptionStyleModel",
      "state": {
       "description_width": ""
      }
     },
     "531b97711b0c43ee9d7cf586199cf446": {
      "model_module": "@jupyter-widgets/base",
      "model_module_version": "1.1.0",
      "model_name": "LayoutModel",
      "state": {}
     },
     "5626623c648d4230ae7b4be92757704b": {
      "model_module": "@jupyter-widgets/controls",
      "model_module_version": "1.3.0",
      "model_name": "IntSliderModel",
      "state": {
       "continuous_update": false,
       "description": "Structure",
       "layout": "IPY_MODEL_c6a45f71699345bc80efcfe1a1884b33",
       "max": 1455,
       "style": "IPY_MODEL_a2116ef243c64d2aa72f6788f2137d64"
      }
     },
     "56549dea90254a508d96151b941d1e6f": {
      "model_module": "@jupyter-widgets/controls",
      "model_module_version": "1.3.0",
      "model_name": "DropdownModel",
      "state": {
       "_options_labels": [
        "none",
        "snp_id",
        "pdbChainId",
        "uniprotId",
        "sqlQuery"
       ],
       "description": "Select field:",
       "index": 0,
       "layout": "IPY_MODEL_11cb6e039d1549b28ce35950c666bd43",
       "style": "IPY_MODEL_6d00a34508a64b98ae3ddea1bd2257a9"
      }
     },
     "5d8542a1da3e4e2893884b9a55cc63f9": {
      "model_module": "@jupyter-widgets/controls",
      "model_module_version": "1.3.0",
      "model_name": "IntSliderModel",
      "state": {
       "continuous_update": false,
       "description": "Structure",
       "layout": "IPY_MODEL_65e6a1ea98744f3492a31fc7ae133cef",
       "max": 1455,
       "style": "IPY_MODEL_66ea146cc6804425883561c7f6bdb5b6"
      }
     },
     "624be8f057e143b38ca004d169e47693": {
      "model_module": "@jupyter-widgets/base",
      "model_module_version": "1.1.0",
      "model_name": "LayoutModel",
      "state": {}
     },
     "65e6a1ea98744f3492a31fc7ae133cef": {
      "model_module": "@jupyter-widgets/base",
      "model_module_version": "1.1.0",
      "model_name": "LayoutModel",
      "state": {}
     },
     "66ea146cc6804425883561c7f6bdb5b6": {
      "model_module": "@jupyter-widgets/controls",
      "model_module_version": "1.3.0",
      "model_name": "SliderStyleModel",
      "state": {
       "description_width": ""
      }
     },
     "6a135b44910b46728225ab72b6c47f13": {
      "model_module": "@jupyter-widgets/controls",
      "model_module_version": "1.3.0",
      "model_name": "CheckboxModel",
      "state": {
       "description": "show_surface",
       "disabled": false,
       "layout": "IPY_MODEL_284f4e5dcf694e79bb6b5473c7dc5920",
       "style": "IPY_MODEL_4d1874012dbd44a687cb42c2acccddbc",
       "value": false
      }
     },
     "6d00a34508a64b98ae3ddea1bd2257a9": {
      "model_module": "@jupyter-widgets/controls",
      "model_module_version": "1.3.0",
      "model_name": "DescriptionStyleModel",
      "state": {
       "description_width": ""
      }
     },
     "755da281fa0448f289fcd480ef5cf272": {
      "model_module": "@jupyter-widgets/controls",
      "model_module_version": "1.3.0",
      "model_name": "CheckboxModel",
      "state": {
       "description": "show_labels",
       "disabled": false,
       "layout": "IPY_MODEL_2b96a49ae77b4e11ae25e8096fc2b042",
       "style": "IPY_MODEL_f2bc9ba70ef54d8b8953ccb0f91656a4",
       "value": true
      }
     },
     "76a438c4169440ce843571e2d317c6c9": {
      "model_module": "@jupyter-widgets/controls",
      "model_module_version": "1.3.0",
      "model_name": "DescriptionStyleModel",
      "state": {
       "description_width": ""
      }
     },
     "8263080214814e5ead5e028bfe61c102": {
      "model_module": "@jupyter-widgets/base",
      "model_module_version": "1.1.0",
      "model_name": "LayoutModel",
      "state": {}
     },
     "9689515fb86e44728675416b7c3dcec7": {
      "model_module": "@jupyter-widgets/controls",
      "model_module_version": "1.3.0",
      "model_name": "CheckboxModel",
      "state": {
       "description": "show_bio_assembly",
       "disabled": false,
       "layout": "IPY_MODEL_baf3eed38c6245a6bf3642f9acf2fe14",
       "style": "IPY_MODEL_49f70cef2477498089f34e7c1030fca8",
       "value": false
      }
     },
     "9b22a4c74e7f474a822b2b650b0ca4b7": {
      "model_module": "@jupyter-widgets/controls",
      "model_module_version": "1.3.0",
      "model_name": "TextareaModel",
      "state": {
       "description": "Enter id(s):",
       "layout": "IPY_MODEL_4078d23232f84cd995368e1885acd114",
       "style": "IPY_MODEL_76a438c4169440ce843571e2d317c6c9"
      }
     },
     "9bc20ec315bd44b09414af77be45594f": {
      "model_module": "@jupyter-widgets/controls",
      "model_module_version": "1.3.0",
      "model_name": "DescriptionStyleModel",
      "state": {
       "description_width": ""
      }
     },
     "9ca27fd8ed51407f91f40aece152908f": {
      "model_module": "@jupyter-widgets/base",
      "model_module_version": "1.1.0",
      "model_name": "LayoutModel",
      "state": {}
     },
     "a2116ef243c64d2aa72f6788f2137d64": {
      "model_module": "@jupyter-widgets/controls",
      "model_module_version": "1.3.0",
      "model_name": "SliderStyleModel",
      "state": {
       "description_width": ""
      }
     },
     "a4f7676b4ae34fa6aa1d129285d14b2d": {
      "model_module": "@jupyter-widgets/base",
      "model_module_version": "1.1.0",
      "model_name": "LayoutModel",
      "state": {}
     },
     "af031df67a634a8b92c3b3ee961f524d": {
      "model_module": "@jupyter-widgets/base",
      "model_module_version": "1.1.0",
      "model_name": "LayoutModel",
      "state": {}
     },
     "b0cbc725bd8e4065a331a2f56e331f72": {
      "model_module": "@jupyter-widgets/base",
      "model_module_version": "1.1.0",
      "model_name": "LayoutModel",
      "state": {}
     },
     "b94ac1aa559847a6a93c7d24826999ff": {
      "model_module": "@jupyter-widgets/controls",
      "model_module_version": "1.3.0",
      "model_name": "VBoxModel",
      "state": {
       "_dom_classes": [
        "widget-interact"
       ],
       "children": [
        "IPY_MODEL_f9404ad7c8d34884b71bb98140700df8",
        "IPY_MODEL_6a135b44910b46728225ab72b6c47f13",
        "IPY_MODEL_755da281fa0448f289fcd480ef5cf272",
        "IPY_MODEL_5d8542a1da3e4e2893884b9a55cc63f9",
        "IPY_MODEL_e126efb9bd584df3991f8ff0dbeaa41b"
       ],
       "layout": "IPY_MODEL_531b97711b0c43ee9d7cf586199cf446"
      }
     },
     "baf3eed38c6245a6bf3642f9acf2fe14": {
      "model_module": "@jupyter-widgets/base",
      "model_module_version": "1.1.0",
      "model_name": "LayoutModel",
      "state": {}
     },
     "c6a45f71699345bc80efcfe1a1884b33": {
      "model_module": "@jupyter-widgets/base",
      "model_module_version": "1.1.0",
      "model_name": "LayoutModel",
      "state": {}
     },
     "c744db66aafb45bda77ad58df8732fed": {
      "model_module": "@jupyter-widgets/controls",
      "model_module_version": "1.3.0",
      "model_name": "CheckboxModel",
      "state": {
       "description": "show_labels",
       "disabled": false,
       "layout": "IPY_MODEL_8263080214814e5ead5e028bfe61c102",
       "style": "IPY_MODEL_9bc20ec315bd44b09414af77be45594f",
       "value": true
      }
     },
     "e126efb9bd584df3991f8ff0dbeaa41b": {
      "model_module": "@jupyter-widgets/output",
      "model_module_version": "1.0.0",
      "model_name": "OutputModel",
      "state": {
       "layout": "IPY_MODEL_9ca27fd8ed51407f91f40aece152908f",
       "outputs": [
        {
         "name": "stdout",
         "output_type": "stream",
         "text": "PDB Id: 2AMY chain Id: A\nuniprotId: O15305\n"
        },
        {
         "data": {
          "application/3dmoljs_load.v0": "<div id=\"3dmolviewer_1534457505100947\"  style=\"position: relative; width: 640px; height: 480px\">\n        <p id=\"3dmolwarning_1534457505100947\" style=\"background-color:#ffcccc;color:black\">You appear to be running in JupyterLab.  You need to install the 3dmol extension: <br>\n        <tt>jupyter labextension install jupyterlab_3dmol</tt></p>\n        </div>\n<script>\n\nvar loadScriptAsync = function(uri){\n  return new Promise((resolve, reject) => {\n    var tag = document.createElement('script');\n    tag.src = uri;\n    tag.async = true;\n    tag.onload = () => {\n      resolve();\n    };\n  var firstScriptTag = document.getElementsByTagName('script')[0];\n  firstScriptTag.parentNode.insertBefore(tag, firstScriptTag);\n});\n};\n\nif(typeof $3Dmolpromise === 'undefined') {\n$3Dmolpromise = null;\n  $3Dmolpromise = loadScriptAsync('https://3dmol.csb.pitt.edu/build/3Dmol.js');\n}\n\nvar viewer_1534457505100947 = null;\nvar warn = document.getElementById(\"3dmolwarning_1534457505100947\");\nif(warn) {\n    warn.parentNode.removeChild(warn);\n}\n$3Dmolpromise.then(function() {\nviewer_1534457505100947 = $3Dmol.createViewer($(\"#3dmolviewer_1534457505100947\"),{backgroundColor:\"white\"});\n$3Dmol.download(\"pdb:2AMY\", viewer_1534457505100947, {\"doAssembly\": false}, function() {\n\tviewer_1534457505100947.setStyle({\"cartoon\": {\"colorscheme\": \"chain\", \"width\": 0.6, \"opacity\": 0.9}});\n\tviewer_1534457505100947.setStyle({\"hetflag\": true},{\"stick\": {\"radius\": 0.3, \"singleBond\": false}});\n\tviewer_1534457505100947.addStyle({\"chain\": \"A\", \"resi\": [\"63\", \"132\", \"69\", \"171\", \"226\", \"187\", \"32\", \"157\", \"141\", \"188\", \"208\", \"148\", \"9\", \"231\", \"18\", \"241\", \"129\", \"116\", \"119\", \"108\", \"31\", \"194\", \"176\", \"106\", \"216\", \"207\", \"65\", \"237\", \"44\", \"218\", \"139\", \"43\", \"144\", \"53\", \"153\", \"113\", \"223\", \"117\", \"104\", \"162\", \"123\"], \"byres\": true, \"expand\": 6},{\"stick\": {\"colorscheme\": \"orangeCarbon\", \"radius\": 0.15}});\n\tviewer_1534457505100947.addStyle({\"resi\": \"63\", \"chain\": \"A\"},{\"stick\": {\"colorscheme\": \"palevioletredCarbon\", \"radius\": 0.2}});\n\tviewer_1534457505100947.addStyle({\"resi\": \"63\", \"chain\": \"A\"},{\"sphere\": {\"color\": \"palevioletred\", \"opacity\": 0.6}});\n\tviewer_1534457505100947.addLabel(\"K->N Likely pathogenic\",{\"fontSize\": 10, \"fontColor\": \"palevioletred\", \"backgroundColor\": \"ivory\"},{\"resi\": \"63\", \"chain\": \"A\"});\n\tviewer_1534457505100947.addStyle({\"resi\": \"132\", \"chain\": \"A\"},{\"stick\": {\"colorscheme\": \"palevioletredCarbon\", \"radius\": 0.2}});\n\tviewer_1534457505100947.addStyle({\"resi\": \"132\", \"chain\": \"A\"},{\"sphere\": {\"color\": \"palevioletred\", \"opacity\": 0.6}});\n\tviewer_1534457505100947.addLabel(\"I->T Likely pathogenic\",{\"fontSize\": 10, \"fontColor\": \"palevioletred\", \"backgroundColor\": \"ivory\"},{\"resi\": \"132\", \"chain\": \"A\"});\n\tviewer_1534457505100947.addStyle({\"resi\": \"69\", \"chain\": \"A\"},{\"stick\": {\"colorscheme\": \"palevioletredCarbon\", \"radius\": 0.2}});\n\tviewer_1534457505100947.addStyle({\"resi\": \"69\", \"chain\": \"A\"},{\"sphere\": {\"color\": \"palevioletred\", \"opacity\": 0.6}});\n\tviewer_1534457505100947.addLabel(\"P->SA Likely pathogenic\",{\"fontSize\": 10, \"fontColor\": \"palevioletred\", \"backgroundColor\": \"ivory\"},{\"resi\": \"69\", \"chain\": \"A\"});\n\tviewer_1534457505100947.addStyle({\"resi\": \"171\", \"chain\": \"A\"},{\"stick\": {\"colorscheme\": \"palevioletredCarbon\", \"radius\": 0.2}});\n\tviewer_1534457505100947.addStyle({\"resi\": \"171\", \"chain\": \"A\"},{\"sphere\": {\"color\": \"palevioletred\", \"opacity\": 0.6}});\n\tviewer_1534457505100947.addLabel(\"T->N Likely pathogenic\",{\"fontSize\": 10, \"fontColor\": \"palevioletred\", \"backgroundColor\": \"ivory\"},{\"resi\": \"171\", \"chain\": \"A\"});\n\tviewer_1534457505100947.addStyle({\"resi\": \"226\", \"chain\": \"A\"},{\"stick\": {\"colorscheme\": \"redCarbon\", \"radius\": 0.2}});\n\tviewer_1534457505100947.addStyle({\"resi\": \"226\", \"chain\": \"A\"},{\"sphere\": {\"color\": \"red\", \"opacity\": 0.6}});\n\tviewer_1534457505100947.addLabel(\"T->S Pathogenic\",{\"fontSize\": 10, \"fontColor\": \"red\", \"backgroundColor\": \"ivory\"},{\"resi\": \"226\", \"chain\": \"A\"});\n\tviewer_1534457505100947.addStyle({\"resi\": \"187\", \"chain\": \"A\"},{\"stick\": {\"colorscheme\": \"palevioletredCarbon\", \"radius\": 0.2}});\n\tviewer_1534457505100947.addStyle({\"resi\": \"187\", \"chain\": \"A\"},{\"sphere\": {\"color\": \"palevioletred\", \"opacity\": 0.6}});\n\tviewer_1534457505100947.addLabel(\"W->* Likely pathogenic\",{\"fontSize\": 10, \"fontColor\": \"palevioletred\", \"backgroundColor\": \"ivory\"},{\"resi\": \"187\", \"chain\": \"A\"});\n\tviewer_1534457505100947.addStyle({\"resi\": \"32\", \"chain\": \"A\"},{\"stick\": {\"colorscheme\": \"redCarbon\", \"radius\": 0.2}});\n\tviewer_1534457505100947.addStyle({\"resi\": \"32\", \"chain\": \"A\"},{\"sphere\": {\"color\": \"red\", \"opacity\": 0.6}});\n\tviewer_1534457505100947.addLabel(\"L->R Pathogenic\",{\"fontSize\": 10, \"fontColor\": \"red\", \"backgroundColor\": \"ivory\"},{\"resi\": \"32\", \"chain\": \"A\"});\n\tviewer_1534457505100947.addStyle({\"resi\": \"157\", \"chain\": \"A\"},{\"stick\": {\"colorscheme\": \"redCarbon\", \"radius\": 0.2}});\n\tviewer_1534457505100947.addStyle({\"resi\": \"157\", \"chain\": \"A\"},{\"sphere\": {\"color\": \"red\", \"opacity\": 0.6}});\n\tviewer_1534457505100947.addLabel(\"F->S Pathogenic\",{\"fontSize\": 10, \"fontColor\": \"red\", \"backgroundColor\": \"ivory\"},{\"resi\": \"157\", \"chain\": \"A\"});\n\tviewer_1534457505100947.addStyle({\"resi\": \"141\", \"chain\": \"A\"},{\"stick\": {\"colorscheme\": \"redCarbon\", \"radius\": 0.2}});\n\tviewer_1534457505100947.addStyle({\"resi\": \"141\", \"chain\": \"A\"},{\"sphere\": {\"color\": \"red\", \"opacity\": 0.6}});\n\tviewer_1534457505100947.addLabel(\"R->H Pathogenic\",{\"fontSize\": 10, \"fontColor\": \"red\", \"backgroundColor\": \"ivory\"},{\"resi\": \"141\", \"chain\": \"A\"});\n\tviewer_1534457505100947.addStyle({\"resi\": \"188\", \"chain\": \"A\"},{\"stick\": {\"colorscheme\": \"redCarbon\", \"radius\": 0.2}});\n\tviewer_1534457505100947.addStyle({\"resi\": \"188\", \"chain\": \"A\"},{\"sphere\": {\"color\": \"red\", \"opacity\": 0.6}});\n\tviewer_1534457505100947.addLabel(\"D->G Pathogenic\",{\"fontSize\": 10, \"fontColor\": \"red\", \"backgroundColor\": \"ivory\"},{\"resi\": \"188\", \"chain\": \"A\"});\n\tviewer_1534457505100947.addStyle({\"resi\": \"208\", \"chain\": \"A\"},{\"stick\": {\"colorscheme\": \"redCarbon\", \"radius\": 0.2}});\n\tviewer_1534457505100947.addStyle({\"resi\": \"208\", \"chain\": \"A\"},{\"sphere\": {\"color\": \"red\", \"opacity\": 0.6}});\n\tviewer_1534457505100947.addLabel(\"G->EA Pathogenic\",{\"fontSize\": 10, \"fontColor\": \"red\", \"backgroundColor\": \"ivory\"},{\"resi\": \"208\", \"chain\": \"A\"});\n\tviewer_1534457505100947.addStyle({\"resi\": \"148\", \"chain\": \"A\"},{\"stick\": {\"colorscheme\": \"redCarbon\", \"radius\": 0.2}});\n\tviewer_1534457505100947.addStyle({\"resi\": \"148\", \"chain\": \"A\"},{\"sphere\": {\"color\": \"red\", \"opacity\": 0.6}});\n\tviewer_1534457505100947.addLabel(\"D->N Pathogenic\",{\"fontSize\": 10, \"fontColor\": \"red\", \"backgroundColor\": \"ivory\"},{\"resi\": \"148\", \"chain\": \"A\"});\n\tviewer_1534457505100947.addStyle({\"resi\": \"9\", \"chain\": \"A\"},{\"stick\": {\"colorscheme\": \"palevioletredCarbon\", \"radius\": 0.2}});\n\tviewer_1534457505100947.addStyle({\"resi\": \"9\", \"chain\": \"A\"},{\"sphere\": {\"color\": \"palevioletred\", \"opacity\": 0.6}});\n\tviewer_1534457505100947.addLabel(\"C->*AY Likely pathogenic\",{\"fontSize\": 10, \"fontColor\": \"palevioletred\", \"backgroundColor\": \"ivory\"},{\"resi\": \"9\", \"chain\": \"A\"});\n\tviewer_1534457505100947.addStyle({\"resi\": \"231\", \"chain\": \"A\"},{\"stick\": {\"colorscheme\": \"redCarbon\", \"radius\": 0.2}});\n\tviewer_1534457505100947.addStyle({\"resi\": \"231\", \"chain\": \"A\"},{\"sphere\": {\"color\": \"red\", \"opacity\": 0.6}});\n\tviewer_1534457505100947.addLabel(\"V->M Pathogenic\",{\"fontSize\": 10, \"fontColor\": \"red\", \"backgroundColor\": \"ivory\"},{\"resi\": \"231\", \"chain\": \"A\"});\n\tviewer_1534457505100947.addStyle({\"resi\": \"18\", \"chain\": \"A\"},{\"stick\": {\"colorscheme\": \"palevioletredCarbon\", \"radius\": 0.2}});\n\tviewer_1534457505100947.addStyle({\"resi\": \"18\", \"chain\": \"A\"},{\"sphere\": {\"color\": \"palevioletred\", \"opacity\": 0.6}});\n\tviewer_1534457505100947.addLabel(\"T->S Likely pathogenic\",{\"fontSize\": 10, \"fontColor\": \"palevioletred\", \"backgroundColor\": \"ivory\"},{\"resi\": \"18\", \"chain\": \"A\"});\n\tviewer_1534457505100947.addStyle({\"resi\": \"241\", \"chain\": \"A\"},{\"stick\": {\"colorscheme\": \"redCarbon\", \"radius\": 0.2}});\n\tviewer_1534457505100947.addStyle({\"resi\": \"241\", \"chain\": \"A\"},{\"sphere\": {\"color\": \"red\", \"opacity\": 0.6}});\n\tviewer_1534457505100947.addLabel(\"C->S Pathogenic\",{\"fontSize\": 10, \"fontColor\": \"red\", \"backgroundColor\": \"ivory\"},{\"resi\": \"241\", \"chain\": \"A\"});\n\tviewer_1534457505100947.addStyle({\"resi\": \"129\", \"chain\": \"A\"},{\"stick\": {\"colorscheme\": \"redCarbon\", \"radius\": 0.2}});\n\tviewer_1534457505100947.addStyle({\"resi\": \"129\", \"chain\": \"A\"},{\"sphere\": {\"color\": \"red\", \"opacity\": 0.6}});\n\tviewer_1534457505100947.addLabel(\"V->M Pathogenic\",{\"fontSize\": 10, \"fontColor\": \"red\", \"backgroundColor\": \"ivory\"},{\"resi\": \"129\", \"chain\": \"A\"});\n\tviewer_1534457505100947.addStyle({\"resi\": \"116\", \"chain\": \"A\"},{\"stick\": {\"colorscheme\": \"palevioletredCarbon\", \"radius\": 0.2}});\n\tviewer_1534457505100947.addStyle({\"resi\": \"116\", \"chain\": \"A\"},{\"sphere\": {\"color\": \"palevioletred\", \"opacity\": 0.6}});\n\tviewer_1534457505100947.addLabel(\"R->E Likely pathogenic\",{\"fontSize\": 10, \"fontColor\": \"palevioletred\", \"backgroundColor\": \"ivory\"},{\"resi\": \"116\", \"chain\": \"A\"});\n\tviewer_1534457505100947.addStyle({\"resi\": \"119\", \"chain\": \"A\"},{\"stick\": {\"colorscheme\": \"redCarbon\", \"radius\": 0.2}});\n\tviewer_1534457505100947.addStyle({\"resi\": \"119\", \"chain\": \"A\"},{\"sphere\": {\"color\": \"red\", \"opacity\": 0.6}});\n\tviewer_1534457505100947.addLabel(\"F->L Pathogenic\",{\"fontSize\": 10, \"fontColor\": \"red\", \"backgroundColor\": \"ivory\"},{\"resi\": \"119\", \"chain\": \"A\"});\n\tviewer_1534457505100947.addStyle({\"resi\": \"108\", \"chain\": \"A\"},{\"stick\": {\"colorscheme\": \"redCarbon\", \"radius\": 0.2}});\n\tviewer_1534457505100947.addStyle({\"resi\": \"108\", \"chain\": \"A\"},{\"sphere\": {\"color\": \"red\", \"opacity\": 0.6}});\n\tviewer_1534457505100947.addLabel(\"A->V Pathogenic\",{\"fontSize\": 10, \"fontColor\": \"red\", \"backgroundColor\": \"ivory\"},{\"resi\": \"108\", \"chain\": \"A\"});\n\tviewer_1534457505100947.addStyle({\"resi\": \"31\", \"chain\": \"A\"},{\"stick\": {\"colorscheme\": \"palevioletredCarbon\", \"radius\": 0.2}});\n\tviewer_1534457505100947.addStyle({\"resi\": \"31\", \"chain\": \"A\"},{\"sphere\": {\"color\": \"palevioletred\", \"opacity\": 0.6}});\n\tviewer_1534457505100947.addLabel(\"F->L Likely pathogenic\",{\"fontSize\": 10, \"fontColor\": \"palevioletred\", \"backgroundColor\": \"ivory\"},{\"resi\": \"31\", \"chain\": \"A\"});\n\tviewer_1534457505100947.addStyle({\"resi\": \"194\", \"chain\": \"A\"},{\"stick\": {\"colorscheme\": \"palevioletredCarbon\", \"radius\": 0.2}});\n\tviewer_1534457505100947.addStyle({\"resi\": \"194\", \"chain\": \"A\"},{\"sphere\": {\"color\": \"palevioletred\", \"opacity\": 0.6}});\n\tviewer_1534457505100947.addLabel(\"R->* Likely pathogenic\",{\"fontSize\": 10, \"fontColor\": \"palevioletred\", \"backgroundColor\": \"ivory\"},{\"resi\": \"194\", \"chain\": \"A\"});\n\tviewer_1534457505100947.addStyle({\"resi\": \"176\", \"chain\": \"A\"},{\"stick\": {\"colorscheme\": \"palevioletredCarbon\", \"radius\": 0.2}});\n\tviewer_1534457505100947.addStyle({\"resi\": \"176\", \"chain\": \"A\"},{\"sphere\": {\"color\": \"palevioletred\", \"opacity\": 0.6}});\n\tviewer_1534457505100947.addLabel(\"G->D Likely pathogenic\",{\"fontSize\": 10, \"fontColor\": \"palevioletred\", \"backgroundColor\": \"ivory\"},{\"resi\": \"176\", \"chain\": \"A\"});\n\tviewer_1534457505100947.addStyle({\"resi\": \"106\", \"chain\": \"A\"},{\"stick\": {\"colorscheme\": \"redCarbon\", \"radius\": 0.2}});\n\tviewer_1534457505100947.addStyle({\"resi\": \"106\", \"chain\": \"A\"},{\"sphere\": {\"color\": \"red\", \"opacity\": 0.6}});\n\tviewer_1534457505100947.addLabel(\"Y->F Pathogenic\",{\"fontSize\": 10, \"fontColor\": \"red\", \"backgroundColor\": \"ivory\"},{\"resi\": \"106\", \"chain\": \"A\"});\n\tviewer_1534457505100947.addStyle({\"resi\": \"216\", \"chain\": \"A\"},{\"stick\": {\"colorscheme\": \"redCarbon\", \"radius\": 0.2}});\n\tviewer_1534457505100947.addStyle({\"resi\": \"216\", \"chain\": \"A\"},{\"sphere\": {\"color\": \"red\", \"opacity\": 0.6}});\n\tviewer_1534457505100947.addLabel(\"N->S Pathogenic,Likely pathogenic\",{\"fontSize\": 10, \"fontColor\": \"red\", \"backgroundColor\": \"ivory\"},{\"resi\": \"216\", \"chain\": \"A\"});\n\tviewer_1534457505100947.addStyle({\"resi\": \"207\", \"chain\": \"A\"},{\"stick\": {\"colorscheme\": \"palevioletredCarbon\", \"radius\": 0.2}});\n\tviewer_1534457505100947.addStyle({\"resi\": \"207\", \"chain\": \"A\"},{\"sphere\": {\"color\": \"palevioletred\", \"opacity\": 0.6}});\n\tviewer_1534457505100947.addLabel(\"F->S Likely pathogenic\",{\"fontSize\": 10, \"fontColor\": \"palevioletred\", \"backgroundColor\": \"ivory\"},{\"resi\": \"207\", \"chain\": \"A\"});\n\tviewer_1534457505100947.addStyle({\"resi\": \"65\", \"chain\": \"A\"},{\"stick\": {\"colorscheme\": \"redCarbon\", \"radius\": 0.2}});\n\tviewer_1534457505100947.addStyle({\"resi\": \"65\", \"chain\": \"A\"},{\"sphere\": {\"color\": \"red\", \"opacity\": 0.6}});\n\tviewer_1534457505100947.addLabel(\"D->Y Pathogenic\",{\"fontSize\": 10, \"fontColor\": \"red\", \"backgroundColor\": \"ivory\"},{\"resi\": \"65\", \"chain\": \"A\"});\n\tviewer_1534457505100947.addStyle({\"resi\": \"237\", \"chain\": \"A\"},{\"stick\": {\"colorscheme\": \"redCarbon\", \"radius\": 0.2}});\n\tviewer_1534457505100947.addStyle({\"resi\": \"237\", \"chain\": \"A\"},{\"sphere\": {\"color\": \"red\", \"opacity\": 0.6}});\n\tviewer_1534457505100947.addLabel(\"T->MR Pathogenic\",{\"fontSize\": 10, \"fontColor\": \"red\", \"backgroundColor\": \"ivory\"},{\"resi\": \"237\", \"chain\": \"A\"});\n\tviewer_1534457505100947.addStyle({\"resi\": \"44\", \"chain\": \"A\"},{\"stick\": {\"colorscheme\": \"palevioletredCarbon\", \"radius\": 0.2}});\n\tviewer_1534457505100947.addStyle({\"resi\": \"44\", \"chain\": \"A\"},{\"sphere\": {\"color\": \"palevioletred\", \"opacity\": 0.6}});\n\tviewer_1534457505100947.addLabel(\"V->A Likely pathogenic\",{\"fontSize\": 10, \"fontColor\": \"palevioletred\", \"backgroundColor\": \"ivory\"},{\"resi\": \"44\", \"chain\": \"A\"});\n\tviewer_1534457505100947.addStyle({\"resi\": \"218\", \"chain\": \"A\"},{\"stick\": {\"colorscheme\": \"redCarbon\", \"radius\": 0.2}});\n\tviewer_1534457505100947.addStyle({\"resi\": \"218\", \"chain\": \"A\"},{\"sphere\": {\"color\": \"red\", \"opacity\": 0.6}});\n\tviewer_1534457505100947.addLabel(\"H->LD Pathogenic,Likely pathogenic\",{\"fontSize\": 10, \"fontColor\": \"red\", \"backgroundColor\": \"ivory\"},{\"resi\": \"218\", \"chain\": \"A\"});\n\tviewer_1534457505100947.addStyle({\"resi\": \"139\", \"chain\": \"A\"},{\"stick\": {\"colorscheme\": \"redCarbon\", \"radius\": 0.2}});\n\tviewer_1534457505100947.addStyle({\"resi\": \"139\", \"chain\": \"A\"},{\"sphere\": {\"color\": \"red\", \"opacity\": 0.6}});\n\tviewer_1534457505100947.addLabel(\"E->K Pathogenic,Likely pathogenic\",{\"fontSize\": 10, \"fontColor\": \"red\", \"backgroundColor\": \"ivory\"},{\"resi\": \"139\", \"chain\": \"A\"});\n\tviewer_1534457505100947.addStyle({\"resi\": \"43\", \"chain\": \"A\"},{\"stick\": {\"colorscheme\": \"palevioletredCarbon\", \"radius\": 0.2}});\n\tviewer_1534457505100947.addStyle({\"resi\": \"43\", \"chain\": \"A\"},{\"sphere\": {\"color\": \"palevioletred\", \"opacity\": 0.6}});\n\tviewer_1534457505100947.addLabel(\"V->L Likely pathogenic\",{\"fontSize\": 10, \"fontColor\": \"palevioletred\", \"backgroundColor\": \"ivory\"},{\"resi\": \"43\", \"chain\": \"A\"});\n\tviewer_1534457505100947.addStyle({\"resi\": \"144\", \"chain\": \"A\"},{\"stick\": {\"colorscheme\": \"palevioletredCarbon\", \"radius\": 0.2}});\n\tviewer_1534457505100947.addStyle({\"resi\": \"144\", \"chain\": \"A\"},{\"sphere\": {\"color\": \"palevioletred\", \"opacity\": 0.6}});\n\tviewer_1534457505100947.addLabel(\"F->L Likely pathogenic\",{\"fontSize\": 10, \"fontColor\": \"palevioletred\", \"backgroundColor\": \"ivory\"},{\"resi\": \"144\", \"chain\": \"A\"});\n\tviewer_1534457505100947.addStyle({\"resi\": \"53\", \"chain\": \"A\"},{\"stick\": {\"colorscheme\": \"redCarbon\", \"radius\": 0.2}});\n\tviewer_1534457505100947.addStyle({\"resi\": \"53\", \"chain\": \"A\"},{\"sphere\": {\"color\": \"red\", \"opacity\": 0.6}});\n\tviewer_1534457505100947.addLabel(\"Q->* Pathogenic\",{\"fontSize\": 10, \"fontColor\": \"red\", \"backgroundColor\": \"ivory\"},{\"resi\": \"53\", \"chain\": \"A\"});\n\tviewer_1534457505100947.addStyle({\"resi\": \"153\", \"chain\": \"A\"},{\"stick\": {\"colorscheme\": \"palevioletredCarbon\", \"radius\": 0.2}});\n\tviewer_1534457505100947.addStyle({\"resi\": \"153\", \"chain\": \"A\"},{\"sphere\": {\"color\": \"palevioletred\", \"opacity\": 0.6}});\n\tviewer_1534457505100947.addLabel(\"I->T Likely pathogenic\",{\"fontSize\": 10, \"fontColor\": \"palevioletred\", \"backgroundColor\": \"ivory\"},{\"resi\": \"153\", \"chain\": \"A\"});\n\tviewer_1534457505100947.addStyle({\"resi\": \"113\", \"chain\": \"A\"},{\"stick\": {\"colorscheme\": \"redCarbon\", \"radius\": 0.2}});\n\tviewer_1534457505100947.addStyle({\"resi\": \"113\", \"chain\": \"A\"},{\"sphere\": {\"color\": \"red\", \"opacity\": 0.6}});\n\tviewer_1534457505100947.addLabel(\"P->TSL Pathogenic,Likely pathogenic\",{\"fontSize\": 10, \"fontColor\": \"red\", \"backgroundColor\": \"ivory\"},{\"resi\": \"113\", \"chain\": \"A\"});\n\tviewer_1534457505100947.addStyle({\"resi\": \"223\", \"chain\": \"A\"},{\"stick\": {\"colorscheme\": \"redCarbon\", \"radius\": 0.2}});\n\tviewer_1534457505100947.addStyle({\"resi\": \"223\", \"chain\": \"A\"},{\"sphere\": {\"color\": \"red\", \"opacity\": 0.6}});\n\tviewer_1534457505100947.addLabel(\"D->E Pathogenic\",{\"fontSize\": 10, \"fontColor\": \"red\", \"backgroundColor\": \"ivory\"},{\"resi\": \"223\", \"chain\": \"A\"});\n\tviewer_1534457505100947.addStyle({\"resi\": \"117\", \"chain\": \"A\"},{\"stick\": {\"colorscheme\": \"redCarbon\", \"radius\": 0.2}});\n\tviewer_1534457505100947.addStyle({\"resi\": \"117\", \"chain\": \"A\"},{\"sphere\": {\"color\": \"red\", \"opacity\": 0.6}});\n\tviewer_1534457505100947.addLabel(\"G->R Pathogenic\",{\"fontSize\": 10, \"fontColor\": \"red\", \"backgroundColor\": \"ivory\"},{\"resi\": \"117\", \"chain\": \"A\"});\n\tviewer_1534457505100947.addStyle({\"resi\": \"104\", \"chain\": \"A\"},{\"stick\": {\"colorscheme\": \"redCarbon\", \"radius\": 0.2}});\n\tviewer_1534457505100947.addStyle({\"resi\": \"104\", \"chain\": \"A\"},{\"sphere\": {\"color\": \"red\", \"opacity\": 0.6}});\n\tviewer_1534457505100947.addLabel(\"L->V Pathogenic\",{\"fontSize\": 10, \"fontColor\": \"red\", \"backgroundColor\": \"ivory\"},{\"resi\": \"104\", \"chain\": \"A\"});\n\tviewer_1534457505100947.addStyle({\"resi\": \"162\", \"chain\": \"A\"},{\"stick\": {\"colorscheme\": \"redCarbon\", \"radius\": 0.2}});\n\tviewer_1534457505100947.addStyle({\"resi\": \"162\", \"chain\": \"A\"},{\"sphere\": {\"color\": \"red\", \"opacity\": 0.6}});\n\tviewer_1534457505100947.addLabel(\"R->W Pathogenic\",{\"fontSize\": 10, \"fontColor\": \"red\", \"backgroundColor\": \"ivory\"},{\"resi\": \"162\", \"chain\": \"A\"});\n\tviewer_1534457505100947.addStyle({\"resi\": \"123\", \"chain\": \"A\"},{\"stick\": {\"colorscheme\": \"redCarbon\", \"radius\": 0.2}});\n\tviewer_1534457505100947.addStyle({\"resi\": \"123\", \"chain\": \"A\"},{\"sphere\": {\"color\": \"red\", \"opacity\": 0.6}});\n\tviewer_1534457505100947.addLabel(\"R->*Q Pathogenic\",{\"fontSize\": 10, \"fontColor\": \"red\", \"backgroundColor\": \"ivory\"},{\"resi\": \"123\", \"chain\": \"A\"});\n\tviewer_1534457505100947.zoomTo({\"resi\": [\"63\", \"132\", \"69\", \"171\", \"226\", \"187\", \"32\", \"157\", \"141\", \"188\", \"208\", \"148\", \"9\", \"231\", \"18\", \"241\", \"129\", \"116\", \"119\", \"108\", \"31\", \"194\", \"176\", \"106\", \"216\", \"207\", \"65\", \"237\", \"44\", \"218\", \"139\", \"43\", \"144\", \"53\", \"153\", \"113\", \"223\", \"117\", \"104\", \"162\", \"123\"], \"chain\": \"A\"});\nviewer_1534457505100947.render();\n})\n});\n</script>",
          "text/html": "<div id=\"3dmolviewer_1534457505100947\"  style=\"position: relative; width: 640px; height: 480px\">\n        <p id=\"3dmolwarning_1534457505100947\" style=\"background-color:#ffcccc;color:black\">You appear to be running in JupyterLab.  You need to install the 3dmol extension: <br>\n        <tt>jupyter labextension install jupyterlab_3dmol</tt></p>\n        </div>\n<script>\n\nvar loadScriptAsync = function(uri){\n  return new Promise((resolve, reject) => {\n    var tag = document.createElement('script');\n    tag.src = uri;\n    tag.async = true;\n    tag.onload = () => {\n      resolve();\n    };\n  var firstScriptTag = document.getElementsByTagName('script')[0];\n  firstScriptTag.parentNode.insertBefore(tag, firstScriptTag);\n});\n};\n\nif(typeof $3Dmolpromise === 'undefined') {\n$3Dmolpromise = null;\n  $3Dmolpromise = loadScriptAsync('https://3dmol.csb.pitt.edu/build/3Dmol.js');\n}\n\nvar viewer_1534457505100947 = null;\nvar warn = document.getElementById(\"3dmolwarning_1534457505100947\");\nif(warn) {\n    warn.parentNode.removeChild(warn);\n}\n$3Dmolpromise.then(function() {\nviewer_1534457505100947 = $3Dmol.createViewer($(\"#3dmolviewer_1534457505100947\"),{backgroundColor:\"white\"});\n$3Dmol.download(\"pdb:2AMY\", viewer_1534457505100947, {\"doAssembly\": false}, function() {\n\tviewer_1534457505100947.setStyle({\"cartoon\": {\"colorscheme\": \"chain\", \"width\": 0.6, \"opacity\": 0.9}});\n\tviewer_1534457505100947.setStyle({\"hetflag\": true},{\"stick\": {\"radius\": 0.3, \"singleBond\": false}});\n\tviewer_1534457505100947.addStyle({\"chain\": \"A\", \"resi\": [\"63\", \"132\", \"69\", \"171\", \"226\", \"187\", \"32\", \"157\", \"141\", \"188\", \"208\", \"148\", \"9\", \"231\", \"18\", \"241\", \"129\", \"116\", \"119\", \"108\", \"31\", \"194\", \"176\", \"106\", \"216\", \"207\", \"65\", \"237\", \"44\", \"218\", \"139\", \"43\", \"144\", \"53\", \"153\", \"113\", \"223\", \"117\", \"104\", \"162\", \"123\"], \"byres\": true, \"expand\": 6},{\"stick\": {\"colorscheme\": \"orangeCarbon\", \"radius\": 0.15}});\n\tviewer_1534457505100947.addStyle({\"resi\": \"63\", \"chain\": \"A\"},{\"stick\": {\"colorscheme\": \"palevioletredCarbon\", \"radius\": 0.2}});\n\tviewer_1534457505100947.addStyle({\"resi\": \"63\", \"chain\": \"A\"},{\"sphere\": {\"color\": \"palevioletred\", \"opacity\": 0.6}});\n\tviewer_1534457505100947.addLabel(\"K->N Likely pathogenic\",{\"fontSize\": 10, \"fontColor\": \"palevioletred\", \"backgroundColor\": \"ivory\"},{\"resi\": \"63\", \"chain\": \"A\"});\n\tviewer_1534457505100947.addStyle({\"resi\": \"132\", \"chain\": \"A\"},{\"stick\": {\"colorscheme\": \"palevioletredCarbon\", \"radius\": 0.2}});\n\tviewer_1534457505100947.addStyle({\"resi\": \"132\", \"chain\": \"A\"},{\"sphere\": {\"color\": \"palevioletred\", \"opacity\": 0.6}});\n\tviewer_1534457505100947.addLabel(\"I->T Likely pathogenic\",{\"fontSize\": 10, \"fontColor\": \"palevioletred\", \"backgroundColor\": \"ivory\"},{\"resi\": \"132\", \"chain\": \"A\"});\n\tviewer_1534457505100947.addStyle({\"resi\": \"69\", \"chain\": \"A\"},{\"stick\": {\"colorscheme\": \"palevioletredCarbon\", \"radius\": 0.2}});\n\tviewer_1534457505100947.addStyle({\"resi\": \"69\", \"chain\": \"A\"},{\"sphere\": {\"color\": \"palevioletred\", \"opacity\": 0.6}});\n\tviewer_1534457505100947.addLabel(\"P->SA Likely pathogenic\",{\"fontSize\": 10, \"fontColor\": \"palevioletred\", \"backgroundColor\": \"ivory\"},{\"resi\": \"69\", \"chain\": \"A\"});\n\tviewer_1534457505100947.addStyle({\"resi\": \"171\", \"chain\": \"A\"},{\"stick\": {\"colorscheme\": \"palevioletredCarbon\", \"radius\": 0.2}});\n\tviewer_1534457505100947.addStyle({\"resi\": \"171\", \"chain\": \"A\"},{\"sphere\": {\"color\": \"palevioletred\", \"opacity\": 0.6}});\n\tviewer_1534457505100947.addLabel(\"T->N Likely pathogenic\",{\"fontSize\": 10, \"fontColor\": \"palevioletred\", \"backgroundColor\": \"ivory\"},{\"resi\": \"171\", \"chain\": \"A\"});\n\tviewer_1534457505100947.addStyle({\"resi\": \"226\", \"chain\": \"A\"},{\"stick\": {\"colorscheme\": \"redCarbon\", \"radius\": 0.2}});\n\tviewer_1534457505100947.addStyle({\"resi\": \"226\", \"chain\": \"A\"},{\"sphere\": {\"color\": \"red\", \"opacity\": 0.6}});\n\tviewer_1534457505100947.addLabel(\"T->S Pathogenic\",{\"fontSize\": 10, \"fontColor\": \"red\", \"backgroundColor\": \"ivory\"},{\"resi\": \"226\", \"chain\": \"A\"});\n\tviewer_1534457505100947.addStyle({\"resi\": \"187\", \"chain\": \"A\"},{\"stick\": {\"colorscheme\": \"palevioletredCarbon\", \"radius\": 0.2}});\n\tviewer_1534457505100947.addStyle({\"resi\": \"187\", \"chain\": \"A\"},{\"sphere\": {\"color\": \"palevioletred\", \"opacity\": 0.6}});\n\tviewer_1534457505100947.addLabel(\"W->* Likely pathogenic\",{\"fontSize\": 10, \"fontColor\": \"palevioletred\", \"backgroundColor\": \"ivory\"},{\"resi\": \"187\", \"chain\": \"A\"});\n\tviewer_1534457505100947.addStyle({\"resi\": \"32\", \"chain\": \"A\"},{\"stick\": {\"colorscheme\": \"redCarbon\", \"radius\": 0.2}});\n\tviewer_1534457505100947.addStyle({\"resi\": \"32\", \"chain\": \"A\"},{\"sphere\": {\"color\": \"red\", \"opacity\": 0.6}});\n\tviewer_1534457505100947.addLabel(\"L->R Pathogenic\",{\"fontSize\": 10, \"fontColor\": \"red\", \"backgroundColor\": \"ivory\"},{\"resi\": \"32\", \"chain\": \"A\"});\n\tviewer_1534457505100947.addStyle({\"resi\": \"157\", \"chain\": \"A\"},{\"stick\": {\"colorscheme\": \"redCarbon\", \"radius\": 0.2}});\n\tviewer_1534457505100947.addStyle({\"resi\": \"157\", \"chain\": \"A\"},{\"sphere\": {\"color\": \"red\", \"opacity\": 0.6}});\n\tviewer_1534457505100947.addLabel(\"F->S Pathogenic\",{\"fontSize\": 10, \"fontColor\": \"red\", \"backgroundColor\": \"ivory\"},{\"resi\": \"157\", \"chain\": \"A\"});\n\tviewer_1534457505100947.addStyle({\"resi\": \"141\", \"chain\": \"A\"},{\"stick\": {\"colorscheme\": \"redCarbon\", \"radius\": 0.2}});\n\tviewer_1534457505100947.addStyle({\"resi\": \"141\", \"chain\": \"A\"},{\"sphere\": {\"color\": \"red\", \"opacity\": 0.6}});\n\tviewer_1534457505100947.addLabel(\"R->H Pathogenic\",{\"fontSize\": 10, \"fontColor\": \"red\", \"backgroundColor\": \"ivory\"},{\"resi\": \"141\", \"chain\": \"A\"});\n\tviewer_1534457505100947.addStyle({\"resi\": \"188\", \"chain\": \"A\"},{\"stick\": {\"colorscheme\": \"redCarbon\", \"radius\": 0.2}});\n\tviewer_1534457505100947.addStyle({\"resi\": \"188\", \"chain\": \"A\"},{\"sphere\": {\"color\": \"red\", \"opacity\": 0.6}});\n\tviewer_1534457505100947.addLabel(\"D->G Pathogenic\",{\"fontSize\": 10, \"fontColor\": \"red\", \"backgroundColor\": \"ivory\"},{\"resi\": \"188\", \"chain\": \"A\"});\n\tviewer_1534457505100947.addStyle({\"resi\": \"208\", \"chain\": \"A\"},{\"stick\": {\"colorscheme\": \"redCarbon\", \"radius\": 0.2}});\n\tviewer_1534457505100947.addStyle({\"resi\": \"208\", \"chain\": \"A\"},{\"sphere\": {\"color\": \"red\", \"opacity\": 0.6}});\n\tviewer_1534457505100947.addLabel(\"G->EA Pathogenic\",{\"fontSize\": 10, \"fontColor\": \"red\", \"backgroundColor\": \"ivory\"},{\"resi\": \"208\", \"chain\": \"A\"});\n\tviewer_1534457505100947.addStyle({\"resi\": \"148\", \"chain\": \"A\"},{\"stick\": {\"colorscheme\": \"redCarbon\", \"radius\": 0.2}});\n\tviewer_1534457505100947.addStyle({\"resi\": \"148\", \"chain\": \"A\"},{\"sphere\": {\"color\": \"red\", \"opacity\": 0.6}});\n\tviewer_1534457505100947.addLabel(\"D->N Pathogenic\",{\"fontSize\": 10, \"fontColor\": \"red\", \"backgroundColor\": \"ivory\"},{\"resi\": \"148\", \"chain\": \"A\"});\n\tviewer_1534457505100947.addStyle({\"resi\": \"9\", \"chain\": \"A\"},{\"stick\": {\"colorscheme\": \"palevioletredCarbon\", \"radius\": 0.2}});\n\tviewer_1534457505100947.addStyle({\"resi\": \"9\", \"chain\": \"A\"},{\"sphere\": {\"color\": \"palevioletred\", \"opacity\": 0.6}});\n\tviewer_1534457505100947.addLabel(\"C->*AY Likely pathogenic\",{\"fontSize\": 10, \"fontColor\": \"palevioletred\", \"backgroundColor\": \"ivory\"},{\"resi\": \"9\", \"chain\": \"A\"});\n\tviewer_1534457505100947.addStyle({\"resi\": \"231\", \"chain\": \"A\"},{\"stick\": {\"colorscheme\": \"redCarbon\", \"radius\": 0.2}});\n\tviewer_1534457505100947.addStyle({\"resi\": \"231\", \"chain\": \"A\"},{\"sphere\": {\"color\": \"red\", \"opacity\": 0.6}});\n\tviewer_1534457505100947.addLabel(\"V->M Pathogenic\",{\"fontSize\": 10, \"fontColor\": \"red\", \"backgroundColor\": \"ivory\"},{\"resi\": \"231\", \"chain\": \"A\"});\n\tviewer_1534457505100947.addStyle({\"resi\": \"18\", \"chain\": \"A\"},{\"stick\": {\"colorscheme\": \"palevioletredCarbon\", \"radius\": 0.2}});\n\tviewer_1534457505100947.addStyle({\"resi\": \"18\", \"chain\": \"A\"},{\"sphere\": {\"color\": \"palevioletred\", \"opacity\": 0.6}});\n\tviewer_1534457505100947.addLabel(\"T->S Likely pathogenic\",{\"fontSize\": 10, \"fontColor\": \"palevioletred\", \"backgroundColor\": \"ivory\"},{\"resi\": \"18\", \"chain\": \"A\"});\n\tviewer_1534457505100947.addStyle({\"resi\": \"241\", \"chain\": \"A\"},{\"stick\": {\"colorscheme\": \"redCarbon\", \"radius\": 0.2}});\n\tviewer_1534457505100947.addStyle({\"resi\": \"241\", \"chain\": \"A\"},{\"sphere\": {\"color\": \"red\", \"opacity\": 0.6}});\n\tviewer_1534457505100947.addLabel(\"C->S Pathogenic\",{\"fontSize\": 10, \"fontColor\": \"red\", \"backgroundColor\": \"ivory\"},{\"resi\": \"241\", \"chain\": \"A\"});\n\tviewer_1534457505100947.addStyle({\"resi\": \"129\", \"chain\": \"A\"},{\"stick\": {\"colorscheme\": \"redCarbon\", \"radius\": 0.2}});\n\tviewer_1534457505100947.addStyle({\"resi\": \"129\", \"chain\": \"A\"},{\"sphere\": {\"color\": \"red\", \"opacity\": 0.6}});\n\tviewer_1534457505100947.addLabel(\"V->M Pathogenic\",{\"fontSize\": 10, \"fontColor\": \"red\", \"backgroundColor\": \"ivory\"},{\"resi\": \"129\", \"chain\": \"A\"});\n\tviewer_1534457505100947.addStyle({\"resi\": \"116\", \"chain\": \"A\"},{\"stick\": {\"colorscheme\": \"palevioletredCarbon\", \"radius\": 0.2}});\n\tviewer_1534457505100947.addStyle({\"resi\": \"116\", \"chain\": \"A\"},{\"sphere\": {\"color\": \"palevioletred\", \"opacity\": 0.6}});\n\tviewer_1534457505100947.addLabel(\"R->E Likely pathogenic\",{\"fontSize\": 10, \"fontColor\": \"palevioletred\", \"backgroundColor\": \"ivory\"},{\"resi\": \"116\", \"chain\": \"A\"});\n\tviewer_1534457505100947.addStyle({\"resi\": \"119\", \"chain\": \"A\"},{\"stick\": {\"colorscheme\": \"redCarbon\", \"radius\": 0.2}});\n\tviewer_1534457505100947.addStyle({\"resi\": \"119\", \"chain\": \"A\"},{\"sphere\": {\"color\": \"red\", \"opacity\": 0.6}});\n\tviewer_1534457505100947.addLabel(\"F->L Pathogenic\",{\"fontSize\": 10, \"fontColor\": \"red\", \"backgroundColor\": \"ivory\"},{\"resi\": \"119\", \"chain\": \"A\"});\n\tviewer_1534457505100947.addStyle({\"resi\": \"108\", \"chain\": \"A\"},{\"stick\": {\"colorscheme\": \"redCarbon\", \"radius\": 0.2}});\n\tviewer_1534457505100947.addStyle({\"resi\": \"108\", \"chain\": \"A\"},{\"sphere\": {\"color\": \"red\", \"opacity\": 0.6}});\n\tviewer_1534457505100947.addLabel(\"A->V Pathogenic\",{\"fontSize\": 10, \"fontColor\": \"red\", \"backgroundColor\": \"ivory\"},{\"resi\": \"108\", \"chain\": \"A\"});\n\tviewer_1534457505100947.addStyle({\"resi\": \"31\", \"chain\": \"A\"},{\"stick\": {\"colorscheme\": \"palevioletredCarbon\", \"radius\": 0.2}});\n\tviewer_1534457505100947.addStyle({\"resi\": \"31\", \"chain\": \"A\"},{\"sphere\": {\"color\": \"palevioletred\", \"opacity\": 0.6}});\n\tviewer_1534457505100947.addLabel(\"F->L Likely pathogenic\",{\"fontSize\": 10, \"fontColor\": \"palevioletred\", \"backgroundColor\": \"ivory\"},{\"resi\": \"31\", \"chain\": \"A\"});\n\tviewer_1534457505100947.addStyle({\"resi\": \"194\", \"chain\": \"A\"},{\"stick\": {\"colorscheme\": \"palevioletredCarbon\", \"radius\": 0.2}});\n\tviewer_1534457505100947.addStyle({\"resi\": \"194\", \"chain\": \"A\"},{\"sphere\": {\"color\": \"palevioletred\", \"opacity\": 0.6}});\n\tviewer_1534457505100947.addLabel(\"R->* Likely pathogenic\",{\"fontSize\": 10, \"fontColor\": \"palevioletred\", \"backgroundColor\": \"ivory\"},{\"resi\": \"194\", \"chain\": \"A\"});\n\tviewer_1534457505100947.addStyle({\"resi\": \"176\", \"chain\": \"A\"},{\"stick\": {\"colorscheme\": \"palevioletredCarbon\", \"radius\": 0.2}});\n\tviewer_1534457505100947.addStyle({\"resi\": \"176\", \"chain\": \"A\"},{\"sphere\": {\"color\": \"palevioletred\", \"opacity\": 0.6}});\n\tviewer_1534457505100947.addLabel(\"G->D Likely pathogenic\",{\"fontSize\": 10, \"fontColor\": \"palevioletred\", \"backgroundColor\": \"ivory\"},{\"resi\": \"176\", \"chain\": \"A\"});\n\tviewer_1534457505100947.addStyle({\"resi\": \"106\", \"chain\": \"A\"},{\"stick\": {\"colorscheme\": \"redCarbon\", \"radius\": 0.2}});\n\tviewer_1534457505100947.addStyle({\"resi\": \"106\", \"chain\": \"A\"},{\"sphere\": {\"color\": \"red\", \"opacity\": 0.6}});\n\tviewer_1534457505100947.addLabel(\"Y->F Pathogenic\",{\"fontSize\": 10, \"fontColor\": \"red\", \"backgroundColor\": \"ivory\"},{\"resi\": \"106\", \"chain\": \"A\"});\n\tviewer_1534457505100947.addStyle({\"resi\": \"216\", \"chain\": \"A\"},{\"stick\": {\"colorscheme\": \"redCarbon\", \"radius\": 0.2}});\n\tviewer_1534457505100947.addStyle({\"resi\": \"216\", \"chain\": \"A\"},{\"sphere\": {\"color\": \"red\", \"opacity\": 0.6}});\n\tviewer_1534457505100947.addLabel(\"N->S Pathogenic,Likely pathogenic\",{\"fontSize\": 10, \"fontColor\": \"red\", \"backgroundColor\": \"ivory\"},{\"resi\": \"216\", \"chain\": \"A\"});\n\tviewer_1534457505100947.addStyle({\"resi\": \"207\", \"chain\": \"A\"},{\"stick\": {\"colorscheme\": \"palevioletredCarbon\", \"radius\": 0.2}});\n\tviewer_1534457505100947.addStyle({\"resi\": \"207\", \"chain\": \"A\"},{\"sphere\": {\"color\": \"palevioletred\", \"opacity\": 0.6}});\n\tviewer_1534457505100947.addLabel(\"F->S Likely pathogenic\",{\"fontSize\": 10, \"fontColor\": \"palevioletred\", \"backgroundColor\": \"ivory\"},{\"resi\": \"207\", \"chain\": \"A\"});\n\tviewer_1534457505100947.addStyle({\"resi\": \"65\", \"chain\": \"A\"},{\"stick\": {\"colorscheme\": \"redCarbon\", \"radius\": 0.2}});\n\tviewer_1534457505100947.addStyle({\"resi\": \"65\", \"chain\": \"A\"},{\"sphere\": {\"color\": \"red\", \"opacity\": 0.6}});\n\tviewer_1534457505100947.addLabel(\"D->Y Pathogenic\",{\"fontSize\": 10, \"fontColor\": \"red\", \"backgroundColor\": \"ivory\"},{\"resi\": \"65\", \"chain\": \"A\"});\n\tviewer_1534457505100947.addStyle({\"resi\": \"237\", \"chain\": \"A\"},{\"stick\": {\"colorscheme\": \"redCarbon\", \"radius\": 0.2}});\n\tviewer_1534457505100947.addStyle({\"resi\": \"237\", \"chain\": \"A\"},{\"sphere\": {\"color\": \"red\", \"opacity\": 0.6}});\n\tviewer_1534457505100947.addLabel(\"T->MR Pathogenic\",{\"fontSize\": 10, \"fontColor\": \"red\", \"backgroundColor\": \"ivory\"},{\"resi\": \"237\", \"chain\": \"A\"});\n\tviewer_1534457505100947.addStyle({\"resi\": \"44\", \"chain\": \"A\"},{\"stick\": {\"colorscheme\": \"palevioletredCarbon\", \"radius\": 0.2}});\n\tviewer_1534457505100947.addStyle({\"resi\": \"44\", \"chain\": \"A\"},{\"sphere\": {\"color\": \"palevioletred\", \"opacity\": 0.6}});\n\tviewer_1534457505100947.addLabel(\"V->A Likely pathogenic\",{\"fontSize\": 10, \"fontColor\": \"palevioletred\", \"backgroundColor\": \"ivory\"},{\"resi\": \"44\", \"chain\": \"A\"});\n\tviewer_1534457505100947.addStyle({\"resi\": \"218\", \"chain\": \"A\"},{\"stick\": {\"colorscheme\": \"redCarbon\", \"radius\": 0.2}});\n\tviewer_1534457505100947.addStyle({\"resi\": \"218\", \"chain\": \"A\"},{\"sphere\": {\"color\": \"red\", \"opacity\": 0.6}});\n\tviewer_1534457505100947.addLabel(\"H->LD Pathogenic,Likely pathogenic\",{\"fontSize\": 10, \"fontColor\": \"red\", \"backgroundColor\": \"ivory\"},{\"resi\": \"218\", \"chain\": \"A\"});\n\tviewer_1534457505100947.addStyle({\"resi\": \"139\", \"chain\": \"A\"},{\"stick\": {\"colorscheme\": \"redCarbon\", \"radius\": 0.2}});\n\tviewer_1534457505100947.addStyle({\"resi\": \"139\", \"chain\": \"A\"},{\"sphere\": {\"color\": \"red\", \"opacity\": 0.6}});\n\tviewer_1534457505100947.addLabel(\"E->K Pathogenic,Likely pathogenic\",{\"fontSize\": 10, \"fontColor\": \"red\", \"backgroundColor\": \"ivory\"},{\"resi\": \"139\", \"chain\": \"A\"});\n\tviewer_1534457505100947.addStyle({\"resi\": \"43\", \"chain\": \"A\"},{\"stick\": {\"colorscheme\": \"palevioletredCarbon\", \"radius\": 0.2}});\n\tviewer_1534457505100947.addStyle({\"resi\": \"43\", \"chain\": \"A\"},{\"sphere\": {\"color\": \"palevioletred\", \"opacity\": 0.6}});\n\tviewer_1534457505100947.addLabel(\"V->L Likely pathogenic\",{\"fontSize\": 10, \"fontColor\": \"palevioletred\", \"backgroundColor\": \"ivory\"},{\"resi\": \"43\", \"chain\": \"A\"});\n\tviewer_1534457505100947.addStyle({\"resi\": \"144\", \"chain\": \"A\"},{\"stick\": {\"colorscheme\": \"palevioletredCarbon\", \"radius\": 0.2}});\n\tviewer_1534457505100947.addStyle({\"resi\": \"144\", \"chain\": \"A\"},{\"sphere\": {\"color\": \"palevioletred\", \"opacity\": 0.6}});\n\tviewer_1534457505100947.addLabel(\"F->L Likely pathogenic\",{\"fontSize\": 10, \"fontColor\": \"palevioletred\", \"backgroundColor\": \"ivory\"},{\"resi\": \"144\", \"chain\": \"A\"});\n\tviewer_1534457505100947.addStyle({\"resi\": \"53\", \"chain\": \"A\"},{\"stick\": {\"colorscheme\": \"redCarbon\", \"radius\": 0.2}});\n\tviewer_1534457505100947.addStyle({\"resi\": \"53\", \"chain\": \"A\"},{\"sphere\": {\"color\": \"red\", \"opacity\": 0.6}});\n\tviewer_1534457505100947.addLabel(\"Q->* Pathogenic\",{\"fontSize\": 10, \"fontColor\": \"red\", \"backgroundColor\": \"ivory\"},{\"resi\": \"53\", \"chain\": \"A\"});\n\tviewer_1534457505100947.addStyle({\"resi\": \"153\", \"chain\": \"A\"},{\"stick\": {\"colorscheme\": \"palevioletredCarbon\", \"radius\": 0.2}});\n\tviewer_1534457505100947.addStyle({\"resi\": \"153\", \"chain\": \"A\"},{\"sphere\": {\"color\": \"palevioletred\", \"opacity\": 0.6}});\n\tviewer_1534457505100947.addLabel(\"I->T Likely pathogenic\",{\"fontSize\": 10, \"fontColor\": \"palevioletred\", \"backgroundColor\": \"ivory\"},{\"resi\": \"153\", \"chain\": \"A\"});\n\tviewer_1534457505100947.addStyle({\"resi\": \"113\", \"chain\": \"A\"},{\"stick\": {\"colorscheme\": \"redCarbon\", \"radius\": 0.2}});\n\tviewer_1534457505100947.addStyle({\"resi\": \"113\", \"chain\": \"A\"},{\"sphere\": {\"color\": \"red\", \"opacity\": 0.6}});\n\tviewer_1534457505100947.addLabel(\"P->TSL Pathogenic,Likely pathogenic\",{\"fontSize\": 10, \"fontColor\": \"red\", \"backgroundColor\": \"ivory\"},{\"resi\": \"113\", \"chain\": \"A\"});\n\tviewer_1534457505100947.addStyle({\"resi\": \"223\", \"chain\": \"A\"},{\"stick\": {\"colorscheme\": \"redCarbon\", \"radius\": 0.2}});\n\tviewer_1534457505100947.addStyle({\"resi\": \"223\", \"chain\": \"A\"},{\"sphere\": {\"color\": \"red\", \"opacity\": 0.6}});\n\tviewer_1534457505100947.addLabel(\"D->E Pathogenic\",{\"fontSize\": 10, \"fontColor\": \"red\", \"backgroundColor\": \"ivory\"},{\"resi\": \"223\", \"chain\": \"A\"});\n\tviewer_1534457505100947.addStyle({\"resi\": \"117\", \"chain\": \"A\"},{\"stick\": {\"colorscheme\": \"redCarbon\", \"radius\": 0.2}});\n\tviewer_1534457505100947.addStyle({\"resi\": \"117\", \"chain\": \"A\"},{\"sphere\": {\"color\": \"red\", \"opacity\": 0.6}});\n\tviewer_1534457505100947.addLabel(\"G->R Pathogenic\",{\"fontSize\": 10, \"fontColor\": \"red\", \"backgroundColor\": \"ivory\"},{\"resi\": \"117\", \"chain\": \"A\"});\n\tviewer_1534457505100947.addStyle({\"resi\": \"104\", \"chain\": \"A\"},{\"stick\": {\"colorscheme\": \"redCarbon\", \"radius\": 0.2}});\n\tviewer_1534457505100947.addStyle({\"resi\": \"104\", \"chain\": \"A\"},{\"sphere\": {\"color\": \"red\", \"opacity\": 0.6}});\n\tviewer_1534457505100947.addLabel(\"L->V Pathogenic\",{\"fontSize\": 10, \"fontColor\": \"red\", \"backgroundColor\": \"ivory\"},{\"resi\": \"104\", \"chain\": \"A\"});\n\tviewer_1534457505100947.addStyle({\"resi\": \"162\", \"chain\": \"A\"},{\"stick\": {\"colorscheme\": \"redCarbon\", \"radius\": 0.2}});\n\tviewer_1534457505100947.addStyle({\"resi\": \"162\", \"chain\": \"A\"},{\"sphere\": {\"color\": \"red\", \"opacity\": 0.6}});\n\tviewer_1534457505100947.addLabel(\"R->W Pathogenic\",{\"fontSize\": 10, \"fontColor\": \"red\", \"backgroundColor\": \"ivory\"},{\"resi\": \"162\", \"chain\": \"A\"});\n\tviewer_1534457505100947.addStyle({\"resi\": \"123\", \"chain\": \"A\"},{\"stick\": {\"colorscheme\": \"redCarbon\", \"radius\": 0.2}});\n\tviewer_1534457505100947.addStyle({\"resi\": \"123\", \"chain\": \"A\"},{\"sphere\": {\"color\": \"red\", \"opacity\": 0.6}});\n\tviewer_1534457505100947.addLabel(\"R->*Q Pathogenic\",{\"fontSize\": 10, \"fontColor\": \"red\", \"backgroundColor\": \"ivory\"},{\"resi\": \"123\", \"chain\": \"A\"});\n\tviewer_1534457505100947.zoomTo({\"resi\": [\"63\", \"132\", \"69\", \"171\", \"226\", \"187\", \"32\", \"157\", \"141\", \"188\", \"208\", \"148\", \"9\", \"231\", \"18\", \"241\", \"129\", \"116\", \"119\", \"108\", \"31\", \"194\", \"176\", \"106\", \"216\", \"207\", \"65\", \"237\", \"44\", \"218\", \"139\", \"43\", \"144\", \"53\", \"153\", \"113\", \"223\", \"117\", \"104\", \"162\", \"123\"], \"chain\": \"A\"});\nviewer_1534457505100947.render();\n})\n});\n</script>"
         },
         "metadata": {},
         "output_type": "display_data"
        }
       ]
      }
     },
     "e7b5b78f25c54b7d9fbe0045680a5e41": {
      "model_module": "@jupyter-widgets/controls",
      "model_module_version": "1.3.0",
      "model_name": "CheckboxModel",
      "state": {
       "description": "show_surface",
       "disabled": false,
       "layout": "IPY_MODEL_af031df67a634a8b92c3b3ee961f524d",
       "style": "IPY_MODEL_12eed0b4750a45ffaa84abe7f64110b5",
       "value": false
      }
     },
     "e945c9f0cd854d66b8cb4a53e20f149e": {
      "model_module": "@jupyter-widgets/controls",
      "model_module_version": "1.3.0",
      "model_name": "DescriptionStyleModel",
      "state": {
       "description_width": ""
      }
     },
     "f2bc9ba70ef54d8b8953ccb0f91656a4": {
      "model_module": "@jupyter-widgets/controls",
      "model_module_version": "1.3.0",
      "model_name": "DescriptionStyleModel",
      "state": {
       "description_width": ""
      }
     },
     "f9404ad7c8d34884b71bb98140700df8": {
      "model_module": "@jupyter-widgets/controls",
      "model_module_version": "1.3.0",
      "model_name": "CheckboxModel",
      "state": {
       "description": "show_bio_assembly",
       "disabled": false,
       "layout": "IPY_MODEL_24e587f44d024fe28ba757025afa2919",
       "style": "IPY_MODEL_139353bec67848d8a38af3bdf2ef1fe7",
       "value": false
      }
     }
    },
    "version_major": 2,
    "version_minor": 0
   }
  }
 },
 "nbformat": 4,
 "nbformat_minor": 2
}
