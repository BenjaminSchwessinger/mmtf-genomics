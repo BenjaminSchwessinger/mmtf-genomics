{
 "cells": [
  {
   "cell_type": "markdown",
   "metadata": {},
   "source": [
    "## Map Mutations to Protein-Ligand Interactions\n",
    "Here we find and visualize the mutations at protein-ligand binding sites."
   ]
  },
  {
   "cell_type": "code",
   "execution_count": 1,
   "metadata": {},
   "outputs": [],
   "source": [
    "from pyspark.sql import SparkSession\n",
    "from mmtfPyspark.io import mmtfReader\n",
    "from mmtfPyspark.interactions import InteractionExtractor, InteractionFilter\n",
    "from ipywidgets import interact, IntSlider\n",
    "import py3Dmol\n",
    "import pandas as pd"
   ]
  },
  {
   "cell_type": "code",
   "execution_count": null,
   "metadata": {
    "code_folding": [
     0
    ]
   },
   "outputs": [],
   "source": [
    "# Initialize Spark\n",
    "spark = SparkSession.builder.master(\"local[4]\").appName(\"4-MapLigandInteractions\").getOrCreate()"
   ]
  },
  {
   "cell_type": "markdown",
   "metadata": {},
   "source": [
    "#### Input parameters"
   ]
  },
  {
   "cell_type": "code",
   "execution_count": 2,
   "metadata": {},
   "outputs": [],
   "source": [
    "distance_cutoff = 8  # distance cutoff for finding and visualizing interactions\n",
    "input_file_name = 'mutations3d.csv'  # mutations mapped to 3D protein structures\n",
    "output_file_name = 'mutations3d_ligand.csv'  # mutations mapped to protein-ligand binding sites"
   ]
  },
  {
   "cell_type": "markdown",
   "metadata": {},
   "source": [
    "### Read 'mutations3d.csv' file created in the previous step"
   ]
  },
  {
   "cell_type": "code",
   "execution_count": 3,
   "metadata": {
    "scrolled": true
   },
   "outputs": [
    {
     "data": {
      "text/html": [
       "<div>\n",
       "<style scoped>\n",
       "    .dataframe tbody tr th:only-of-type {\n",
       "        vertical-align: middle;\n",
       "    }\n",
       "\n",
       "    .dataframe tbody tr th {\n",
       "        vertical-align: top;\n",
       "    }\n",
       "\n",
       "    .dataframe thead th {\n",
       "        text-align: right;\n",
       "    }\n",
       "</style>\n",
       "<table border=\"1\" class=\"dataframe\">\n",
       "  <thead>\n",
       "    <tr style=\"text-align: right;\">\n",
       "      <th></th>\n",
       "      <th>structureId</th>\n",
       "      <th>chainId</th>\n",
       "      <th>pdbPosition</th>\n",
       "      <th>pdbAminoAcid</th>\n",
       "      <th>refGenome</th>\n",
       "      <th>variationId</th>\n",
       "      <th>tax_id</th>\n",
       "      <th>scientific_name</th>\n",
       "      <th>structureChainId</th>\n",
       "    </tr>\n",
       "  </thead>\n",
       "  <tbody>\n",
       "    <tr>\n",
       "      <th>0</th>\n",
       "      <td>1GUH</td>\n",
       "      <td>A</td>\n",
       "      <td>83</td>\n",
       "      <td>G</td>\n",
       "      <td>hgvs-grch37</td>\n",
       "      <td>chr6:g.52619766C&gt;T</td>\n",
       "      <td>9606</td>\n",
       "      <td>Homo sapiens</td>\n",
       "      <td>1GUH.A</td>\n",
       "    </tr>\n",
       "    <tr>\n",
       "      <th>1</th>\n",
       "      <td>1XZ7</td>\n",
       "      <td>B</td>\n",
       "      <td>108</td>\n",
       "      <td>N</td>\n",
       "      <td>hgvs-grch37</td>\n",
       "      <td>chr11:g.5246945G&gt;T</td>\n",
       "      <td>9606</td>\n",
       "      <td>Homo sapiens</td>\n",
       "      <td>1XZ7.B</td>\n",
       "    </tr>\n",
       "    <tr>\n",
       "      <th>2</th>\n",
       "      <td>2VCT</td>\n",
       "      <td>D</td>\n",
       "      <td>83</td>\n",
       "      <td>G</td>\n",
       "      <td>hgvs-grch37</td>\n",
       "      <td>chr6:g.52619766C&gt;T</td>\n",
       "      <td>9606</td>\n",
       "      <td>Homo sapiens</td>\n",
       "      <td>2VCT.D</td>\n",
       "    </tr>\n",
       "    <tr>\n",
       "      <th>3</th>\n",
       "      <td>3KMF</td>\n",
       "      <td>G</td>\n",
       "      <td>708</td>\n",
       "      <td>N</td>\n",
       "      <td>hgvs-grch37</td>\n",
       "      <td>chr11:g.5246945G&gt;T</td>\n",
       "      <td>9606</td>\n",
       "      <td>Homo sapiens</td>\n",
       "      <td>3KMF.G</td>\n",
       "    </tr>\n",
       "    <tr>\n",
       "      <th>4</th>\n",
       "      <td>1GSF</td>\n",
       "      <td>D</td>\n",
       "      <td>83</td>\n",
       "      <td>G</td>\n",
       "      <td>hgvs-grch37</td>\n",
       "      <td>chr6:g.52619766C&gt;T</td>\n",
       "      <td>9606</td>\n",
       "      <td>Homo sapiens</td>\n",
       "      <td>1GSF.D</td>\n",
       "    </tr>\n",
       "  </tbody>\n",
       "</table>\n",
       "</div>"
      ],
      "text/plain": [
       "  structureId chainId pdbPosition pdbAminoAcid    refGenome  \\\n",
       "0        1GUH       A          83            G  hgvs-grch37   \n",
       "1        1XZ7       B         108            N  hgvs-grch37   \n",
       "2        2VCT       D          83            G  hgvs-grch37   \n",
       "3        3KMF       G         708            N  hgvs-grch37   \n",
       "4        1GSF       D          83            G  hgvs-grch37   \n",
       "\n",
       "          variationId  tax_id scientific_name structureChainId  \n",
       "0  chr6:g.52619766C>T    9606    Homo sapiens           1GUH.A  \n",
       "1  chr11:g.5246945G>T    9606    Homo sapiens           1XZ7.B  \n",
       "2  chr6:g.52619766C>T    9606    Homo sapiens           2VCT.D  \n",
       "3  chr11:g.5246945G>T    9606    Homo sapiens           3KMF.G  \n",
       "4  chr6:g.52619766C>T    9606    Homo sapiens           1GSF.D  "
      ]
     },
     "execution_count": 3,
     "metadata": {},
     "output_type": "execute_result"
    }
   ],
   "source": [
    "df = pd.read_csv(input_file_name)\n",
    "df['pdbPosition'] = df['pdbPosition'].astype('str')  # PDB residue numbers must be string to handle insertion codes\n",
    "df.head()"
   ]
  },
  {
   "cell_type": "markdown",
   "metadata": {},
   "source": [
    "## Create a list of unique PDB IDs"
   ]
  },
  {
   "cell_type": "code",
   "execution_count": 4,
   "metadata": {
    "scrolled": true
   },
   "outputs": [
    {
     "name": "stdout",
     "output_type": "stream",
     "text": [
      "PDB Ids: ['1GUH', '1XZ7', '2VCT', '3KMF', '1GSF', '1YDZ', '6ATQ', '1Y09', '6ATO', '2FO0', '1XYE', '4ACS', '2WJU', '4WA9', '2G1T', '1XY0', '4TWP', '1K3Y', '1YHE', '1OPL', '2V7A', '1YHR', '1YZI', '1QXD', '1XZV', '1VWT', '3UE4', '2R6K', '1PL1', '3QRI', '1DXT', '6FQF', '2HIW', '2GQG', '1XZ4', '6ATR', '2F4J', '1Y0A', '1Y0D', '1XZU', '2W6V', '1YH9', '2G2H', '5JCU', '4ZOG', '1XZ5', '1GSE', '1Y0C', '1Y8W', '2HZI', '1PKW', '3KTL', '3QRK', '1XXT', '1XZ2', '6ATP', '1K3L', '4XS0', '2G2F', '5MO4']\n"
     ]
    }
   ],
   "source": [
    "pdb_ids = list(df.structureId.drop_duplicates())\n",
    "print(\"PDB Ids:\", pdb_ids)"
   ]
  },
  {
   "cell_type": "markdown",
   "metadata": {},
   "source": [
    "## Find all polymer-ligand interactions"
   ]
  },
  {
   "cell_type": "code",
   "execution_count": 5,
   "metadata": {},
   "outputs": [],
   "source": [
    "structures = mmtfReader.download_mmtf_files(pdb_ids)"
   ]
  },
  {
   "cell_type": "code",
   "execution_count": 6,
   "metadata": {},
   "outputs": [
    {
     "data": {
      "text/html": [
       "<div>\n",
       "<style scoped>\n",
       "    .dataframe tbody tr th:only-of-type {\n",
       "        vertical-align: middle;\n",
       "    }\n",
       "\n",
       "    .dataframe tbody tr th {\n",
       "        vertical-align: top;\n",
       "    }\n",
       "\n",
       "    .dataframe thead th {\n",
       "        text-align: right;\n",
       "    }\n",
       "</style>\n",
       "<table border=\"1\" class=\"dataframe\">\n",
       "  <thead>\n",
       "    <tr style=\"text-align: right;\">\n",
       "      <th></th>\n",
       "      <th>structureChainId</th>\n",
       "      <th>queryGroupId</th>\n",
       "      <th>queryChainId</th>\n",
       "      <th>queryGroupNumber</th>\n",
       "      <th>targetGroupId</th>\n",
       "      <th>targetChainId</th>\n",
       "      <th>targetGroupNumber</th>\n",
       "      <th>sequenceIndex</th>\n",
       "      <th>sequence</th>\n",
       "    </tr>\n",
       "  </thead>\n",
       "  <tbody>\n",
       "    <tr>\n",
       "      <th>0</th>\n",
       "      <td>5MO4.A</td>\n",
       "      <td>NIL</td>\n",
       "      <td>A</td>\n",
       "      <td>601</td>\n",
       "      <td>ASN</td>\n",
       "      <td>A</td>\n",
       "      <td>316</td>\n",
       "      <td>276</td>\n",
       "      <td>GAMDPSEALQRPVASDFEPQGLSEAARWNSKENLLAGPSENDPNLF...</td>\n",
       "    </tr>\n",
       "    <tr>\n",
       "      <th>1</th>\n",
       "      <td>5MO4.A</td>\n",
       "      <td>AY7</td>\n",
       "      <td>A</td>\n",
       "      <td>602</td>\n",
       "      <td>LEU</td>\n",
       "      <td>A</td>\n",
       "      <td>447</td>\n",
       "      <td>407</td>\n",
       "      <td>GAMDPSEALQRPVASDFEPQGLSEAARWNSKENLLAGPSENDPNLF...</td>\n",
       "    </tr>\n",
       "    <tr>\n",
       "      <th>2</th>\n",
       "      <td>5MO4.A</td>\n",
       "      <td>NIL</td>\n",
       "      <td>A</td>\n",
       "      <td>601</td>\n",
       "      <td>MET</td>\n",
       "      <td>A</td>\n",
       "      <td>309</td>\n",
       "      <td>269</td>\n",
       "      <td>GAMDPSEALQRPVASDFEPQGLSEAARWNSKENLLAGPSENDPNLF...</td>\n",
       "    </tr>\n",
       "    <tr>\n",
       "      <th>3</th>\n",
       "      <td>5MO4.A</td>\n",
       "      <td>NIL</td>\n",
       "      <td>A</td>\n",
       "      <td>601</td>\n",
       "      <td>VAL</td>\n",
       "      <td>A</td>\n",
       "      <td>318</td>\n",
       "      <td>278</td>\n",
       "      <td>GAMDPSEALQRPVASDFEPQGLSEAARWNSKENLLAGPSENDPNLF...</td>\n",
       "    </tr>\n",
       "    <tr>\n",
       "      <th>4</th>\n",
       "      <td>5MO4.A</td>\n",
       "      <td>NIL</td>\n",
       "      <td>A</td>\n",
       "      <td>601</td>\n",
       "      <td>LEU</td>\n",
       "      <td>A</td>\n",
       "      <td>303</td>\n",
       "      <td>263</td>\n",
       "      <td>GAMDPSEALQRPVASDFEPQGLSEAARWNSKENLLAGPSENDPNLF...</td>\n",
       "    </tr>\n",
       "  </tbody>\n",
       "</table>\n",
       "</div>"
      ],
      "text/plain": [
       "  structureChainId queryGroupId queryChainId queryGroupNumber targetGroupId  \\\n",
       "0           5MO4.A          NIL            A              601           ASN   \n",
       "1           5MO4.A          AY7            A              602           LEU   \n",
       "2           5MO4.A          NIL            A              601           MET   \n",
       "3           5MO4.A          NIL            A              601           VAL   \n",
       "4           5MO4.A          NIL            A              601           LEU   \n",
       "\n",
       "  targetChainId targetGroupNumber  sequenceIndex  \\\n",
       "0             A               316            276   \n",
       "1             A               447            407   \n",
       "2             A               309            269   \n",
       "3             A               318            278   \n",
       "4             A               303            263   \n",
       "\n",
       "                                            sequence  \n",
       "0  GAMDPSEALQRPVASDFEPQGLSEAARWNSKENLLAGPSENDPNLF...  \n",
       "1  GAMDPSEALQRPVASDFEPQGLSEAARWNSKENLLAGPSENDPNLF...  \n",
       "2  GAMDPSEALQRPVASDFEPQGLSEAARWNSKENLLAGPSENDPNLF...  \n",
       "3  GAMDPSEALQRPVASDFEPQGLSEAARWNSKENLLAGPSENDPNLF...  \n",
       "4  GAMDPSEALQRPVASDFEPQGLSEAARWNSKENLLAGPSENDPNLF...  "
      ]
     },
     "execution_count": 6,
     "metadata": {},
     "output_type": "execute_result"
    }
   ],
   "source": [
    "interaction_filter = InteractionFilter(distanceCutoff=distance_cutoff)\n",
    "interaction_filter.set_query_groups(False, [\"HOH\", \"DOD\"])  # exclude water interactions\n",
    "\n",
    "interactions = InteractionExtractor().get_ligand_polymer_interactions(structures, interaction_filter, level='group').toPandas()\n",
    "interactions.head()"
   ]
  },
  {
   "cell_type": "markdown",
   "metadata": {},
   "source": [
    "## Filter mutations by joining with the interaction data"
   ]
  },
  {
   "cell_type": "code",
   "execution_count": 7,
   "metadata": {
    "scrolled": false
   },
   "outputs": [
    {
     "data": {
      "text/html": [
       "<div>\n",
       "<style scoped>\n",
       "    .dataframe tbody tr th:only-of-type {\n",
       "        vertical-align: middle;\n",
       "    }\n",
       "\n",
       "    .dataframe tbody tr th {\n",
       "        vertical-align: top;\n",
       "    }\n",
       "\n",
       "    .dataframe thead th {\n",
       "        text-align: right;\n",
       "    }\n",
       "</style>\n",
       "<table border=\"1\" class=\"dataframe\">\n",
       "  <thead>\n",
       "    <tr style=\"text-align: right;\">\n",
       "      <th></th>\n",
       "      <th>structureId</th>\n",
       "      <th>chainId</th>\n",
       "      <th>pdbPosition</th>\n",
       "      <th>pdbAminoAcid</th>\n",
       "      <th>refGenome</th>\n",
       "      <th>variationId</th>\n",
       "      <th>tax_id</th>\n",
       "      <th>scientific_name</th>\n",
       "      <th>structureChainId</th>\n",
       "      <th>queryGroupId</th>\n",
       "      <th>queryChainId</th>\n",
       "      <th>queryGroupNumber</th>\n",
       "      <th>targetGroupId</th>\n",
       "      <th>targetChainId</th>\n",
       "      <th>targetGroupNumber</th>\n",
       "      <th>sequenceIndex</th>\n",
       "      <th>sequence</th>\n",
       "    </tr>\n",
       "  </thead>\n",
       "  <tbody>\n",
       "    <tr>\n",
       "      <th>0</th>\n",
       "      <td>3KMF</td>\n",
       "      <td>C</td>\n",
       "      <td>308</td>\n",
       "      <td>N</td>\n",
       "      <td>hgvs-grch37</td>\n",
       "      <td>chr11:g.5246945G&gt;T</td>\n",
       "      <td>9606</td>\n",
       "      <td>Homo sapiens</td>\n",
       "      <td>3KMF.C</td>\n",
       "      <td>HEM</td>\n",
       "      <td>C</td>\n",
       "      <td>347</td>\n",
       "      <td>ASN</td>\n",
       "      <td>C</td>\n",
       "      <td>308</td>\n",
       "      <td>107</td>\n",
       "      <td>VHLTPEEKSAVTALWGKVNVDEVGGEALGRLLVVYPWTQRFFESFG...</td>\n",
       "    </tr>\n",
       "    <tr>\n",
       "      <th>1</th>\n",
       "      <td>2FO0</td>\n",
       "      <td>A</td>\n",
       "      <td>272</td>\n",
       "      <td>Y</td>\n",
       "      <td>hgvs-grch37</td>\n",
       "      <td>chr9:g.133738358A&gt;T</td>\n",
       "      <td>9606</td>\n",
       "      <td>Homo sapiens</td>\n",
       "      <td>2FO0.A</td>\n",
       "      <td>P16</td>\n",
       "      <td>A</td>\n",
       "      <td>2</td>\n",
       "      <td>TYR</td>\n",
       "      <td>A</td>\n",
       "      <td>272</td>\n",
       "      <td>229</td>\n",
       "      <td>MGQQPGKVLGDQRREPQGLSEAARWNSKENLLAGPSENDPNLFVAL...</td>\n",
       "    </tr>\n",
       "    <tr>\n",
       "      <th>2</th>\n",
       "      <td>4WA9</td>\n",
       "      <td>B</td>\n",
       "      <td>253</td>\n",
       "      <td>Y</td>\n",
       "      <td>hgvs-grch37</td>\n",
       "      <td>chr9:g.133738358A&gt;T</td>\n",
       "      <td>9606</td>\n",
       "      <td>Homo sapiens</td>\n",
       "      <td>4WA9.B</td>\n",
       "      <td>AXI</td>\n",
       "      <td>B</td>\n",
       "      <td>9000</td>\n",
       "      <td>TYR</td>\n",
       "      <td>B</td>\n",
       "      <td>253</td>\n",
       "      <td>26</td>\n",
       "      <td>GSSPNYDKWEMERTDITMKHKLGGGQYGEVYEGVWKKYSLTVAVKT...</td>\n",
       "    </tr>\n",
       "    <tr>\n",
       "      <th>3</th>\n",
       "      <td>2G1T</td>\n",
       "      <td>C</td>\n",
       "      <td>253</td>\n",
       "      <td>Y</td>\n",
       "      <td>hgvs-grch37</td>\n",
       "      <td>chr9:g.133738358A&gt;T</td>\n",
       "      <td>9606</td>\n",
       "      <td>Homo sapiens</td>\n",
       "      <td>2G1T.C</td>\n",
       "      <td>MG</td>\n",
       "      <td>C</td>\n",
       "      <td>1701</td>\n",
       "      <td>TYR</td>\n",
       "      <td>C</td>\n",
       "      <td>253</td>\n",
       "      <td>27</td>\n",
       "      <td>GHMSPNYDKWEMERTDITMKHKLGGGQYGEVYEGVWKKYSLTVAVK...</td>\n",
       "    </tr>\n",
       "    <tr>\n",
       "      <th>4</th>\n",
       "      <td>2G1T</td>\n",
       "      <td>C</td>\n",
       "      <td>253</td>\n",
       "      <td>Y</td>\n",
       "      <td>hgvs-grch37</td>\n",
       "      <td>chr9:g.133738358A&gt;T</td>\n",
       "      <td>9606</td>\n",
       "      <td>Homo sapiens</td>\n",
       "      <td>2G1T.C</td>\n",
       "      <td>112</td>\n",
       "      <td>G</td>\n",
       "      <td>1301</td>\n",
       "      <td>TYR</td>\n",
       "      <td>C</td>\n",
       "      <td>253</td>\n",
       "      <td>27</td>\n",
       "      <td>GHMSPNYDKWEMERTDITMKHKLGGGQYGEVYEGVWKKYSLTVAVK...</td>\n",
       "    </tr>\n",
       "  </tbody>\n",
       "</table>\n",
       "</div>"
      ],
      "text/plain": [
       "  structureId chainId pdbPosition pdbAminoAcid    refGenome  \\\n",
       "0        3KMF       C         308            N  hgvs-grch37   \n",
       "1        2FO0       A         272            Y  hgvs-grch37   \n",
       "2        4WA9       B         253            Y  hgvs-grch37   \n",
       "3        2G1T       C         253            Y  hgvs-grch37   \n",
       "4        2G1T       C         253            Y  hgvs-grch37   \n",
       "\n",
       "           variationId  tax_id scientific_name structureChainId queryGroupId  \\\n",
       "0   chr11:g.5246945G>T    9606    Homo sapiens           3KMF.C          HEM   \n",
       "1  chr9:g.133738358A>T    9606    Homo sapiens           2FO0.A          P16   \n",
       "2  chr9:g.133738358A>T    9606    Homo sapiens           4WA9.B          AXI   \n",
       "3  chr9:g.133738358A>T    9606    Homo sapiens           2G1T.C           MG   \n",
       "4  chr9:g.133738358A>T    9606    Homo sapiens           2G1T.C          112   \n",
       "\n",
       "  queryChainId queryGroupNumber targetGroupId targetChainId targetGroupNumber  \\\n",
       "0            C              347           ASN             C               308   \n",
       "1            A                2           TYR             A               272   \n",
       "2            B             9000           TYR             B               253   \n",
       "3            C             1701           TYR             C               253   \n",
       "4            G             1301           TYR             C               253   \n",
       "\n",
       "   sequenceIndex                                           sequence  \n",
       "0            107  VHLTPEEKSAVTALWGKVNVDEVGGEALGRLLVVYPWTQRFFESFG...  \n",
       "1            229  MGQQPGKVLGDQRREPQGLSEAARWNSKENLLAGPSENDPNLFVAL...  \n",
       "2             26  GSSPNYDKWEMERTDITMKHKLGGGQYGEVYEGVWKKYSLTVAVKT...  \n",
       "3             27  GHMSPNYDKWEMERTDITMKHKLGGGQYGEVYEGVWKKYSLTVAVK...  \n",
       "4             27  GHMSPNYDKWEMERTDITMKHKLGGGQYGEVYEGVWKKYSLTVAVK...  "
      ]
     },
     "execution_count": 7,
     "metadata": {},
     "output_type": "execute_result"
    }
   ],
   "source": [
    "mt = df.merge(interactions, left_on=['structureChainId','pdbPosition'], right_on=['structureChainId','targetGroupNumber'], how='inner')\n",
    "mt.head()"
   ]
  },
  {
   "cell_type": "markdown",
   "metadata": {},
   "source": [
    "## Save protein-ligand mapping"
   ]
  },
  {
   "cell_type": "code",
   "execution_count": 8,
   "metadata": {},
   "outputs": [],
   "source": [
    "mt.to_csv(output_file_name, index=False)"
   ]
  },
  {
   "cell_type": "markdown",
   "metadata": {},
   "source": [
    "## View mutations grouped by protein chain\n",
    "Use the slider to view each protein chain. Turn labels off for an unobstructed view of the mutations. Interacting ligands are rendered as spheres with green carbon atoms."
   ]
  },
  {
   "cell_type": "code",
   "execution_count": 9,
   "metadata": {},
   "outputs": [
    {
     "name": "stdout",
     "output_type": "stream",
     "text": [
      "Chains: ['1OPL.A', '1QXD.D', '1YZI.B', '2F4J.A', '2FO0.A', '2G1T.C', '2G2F.A', '2G2H.A', '2GQG.B', '2HIW.A', '2HZI.A', '2V7A.A', '2W6V.D', '3KMF.C', '3QRI.A', '3QRK.A', '3UE4.A', '4TWP.B', '4WA9.B', '4XS0.B', '4ZOG.A', '5MO4.A', '6FQF.D']\n"
     ]
    }
   ],
   "source": [
    "chains = mt.groupby('structureChainId')\n",
    "print(\"Chains:\", list(chains.groups.keys()))"
   ]
  },
  {
   "cell_type": "code",
   "execution_count": 10,
   "metadata": {
    "code_folding": [
     0
    ]
   },
   "outputs": [],
   "source": [
    "def view_grouped_mutations(grouped_df, *args):\n",
    "    chainIds = list(grouped_df.groups.keys())\n",
    "\n",
    "    def view3d(show_bio_assembly=False, show_surface=False, show_labels=True, i=0):\n",
    "        group = grouped_df.get_group(chainIds[i])\n",
    "        \n",
    "        pdb_id, chain_id = chainIds[i].split('.')\n",
    "        viewer = py3Dmol.view(query='pdb:' + pdb_id, options={'doAssembly': show_bio_assembly})\n",
    "\n",
    "        # polymer style\n",
    "        viewer.setStyle({'cartoon': {'colorscheme': 'chain', 'width': 0.6, 'opacity':0.9}})\n",
    "\n",
    "        # highlight chain of interest in blue\n",
    "        viewer.setStyle({'chain': chain_id},{'cartoon': {'color': 'blue'}})\n",
    "   \n",
    "        # non-polymer style\n",
    "        viewer.setStyle({'hetflag': True}, {'stick':{'radius': 0.3, 'singleBond': False}})\n",
    "        \n",
    "        # don't display water molecules\n",
    "        viewer.setStyle({'resn': ['HOH','DOD']}, {})\n",
    "        \n",
    "        rows = group.shape[0]\n",
    "        for j in range(0, rows):\n",
    "            # interacting residue info\n",
    "            res_num = str(group.iloc[j]['pdbPosition'])\n",
    "            mod_res = {'resi': res_num, 'chain': chain_id}\n",
    "            \n",
    "            # interacting ligand info\n",
    "            lig_id = group.iloc[j]['queryGroupId']\n",
    "            lig_chain = group.iloc[j]['queryChainId']\n",
    "            lig_num = group.iloc[j]['queryGroupNumber']\n",
    "            lig_res = {'resi': lig_num, 'chain': lig_chain}\n",
    "            \n",
    "            col = 'red'\n",
    "            c_col = col + 'Carbon'\n",
    "            viewer.addStyle(mod_res, {'stick':{'colorscheme':c_col, 'radius': 0.2}})\n",
    "            viewer.addStyle(mod_res, {'sphere':{'color':col, 'opacity': 0.6}})   \n",
    "            viewer.addStyle(lig_res, {'sphere': {'colorscheme': 'greenCarbon'}})\n",
    "            \n",
    "            if show_labels:\n",
    "                label = group.iloc[j]['variationId']\n",
    "                viewer.addLabel(label, {'fontSize':8,'fontColor': 'black','backgroundColor':'ivory'}, mod_res)\n",
    "                viewer.addLabel(lig_id + lig_num, {'fontSize':8}, lig_res)\n",
    "\n",
    "        viewer.zoomTo({'chain': chain_id})\n",
    "        \n",
    "        if show_surface:\n",
    "             viewer.addSurface(py3Dmol.SES,{'opacity':0.8,'color':'lightblue'},{'chain': chain_id})\n",
    "                \n",
    "        #print header\n",
    "        print(\"PDB Id: \" + pdb_id + \" chain Id: \" + chain_id)\n",
    "        \n",
    "        # print any specified additional columns from the dataframe\n",
    "        for a in args:\n",
    "            print(a + \": \" + group.iloc[j][a])\n",
    "                \n",
    "        return viewer.show()\n",
    "       \n",
    "    s_widget = IntSlider(min=0, max=len(chainIds)-1, description='Structure', continuous_update=False)\n",
    "    \n",
    "    return interact(view3d, show_bio_assembly=False, show_surface=False, show_labels=True, i=s_widget)"
   ]
  },
  {
   "cell_type": "code",
   "execution_count": 12,
   "metadata": {
    "scrolled": true
   },
   "outputs": [
    {
     "data": {
      "application/vnd.jupyter.widget-view+json": {
       "model_id": "e75e0d1ac08a4ebea785fc6957e640c7",
       "version_major": 2,
       "version_minor": 0
      },
      "text/plain": [
       "interactive(children=(Checkbox(value=False, description='show_bio_assembly'), Checkbox(value=False, descriptio…"
      ]
     },
     "metadata": {},
     "output_type": "display_data"
    }
   ],
   "source": [
    "view_grouped_mutations(chains);"
   ]
  },
  {
   "cell_type": "markdown",
   "metadata": {},
   "source": [
    "## View one mutation at a time\n",
    "Use the slider to view each mutation. Surrounding residues within the `distance_cutoff` are rendered as orange sticks. Interacting ligands are rendered as spheres with green carbon atoms."
   ]
  },
  {
   "cell_type": "code",
   "execution_count": 13,
   "metadata": {
    "code_folding": [
     0
    ]
   },
   "outputs": [],
   "source": [
    "def view_single_mutation(df, distance_cutoff, *args):\n",
    "\n",
    "    def view3d(show_bio_assembly=False, show_surface=False, show_labels=True, i=0):        \n",
    "        pdb_id, chain_id = df.iloc[i]['structureChainId'].split('.')\n",
    "        \n",
    "        viewer = py3Dmol.view(query='pdb:' + pdb_id, options={'doAssembly': show_bio_assembly})\n",
    "\n",
    "        # polymer style\n",
    "        viewer.setStyle({'cartoon': {'colorscheme': 'chain', 'width': 0.6, 'opacity':0.7}})\n",
    "       \n",
    "        # highlight chain of interest in blue\n",
    "        viewer.setStyle({'chain': chain_id},{'cartoon': {'color': 'blue', 'width': 0.6, 'opacity':0.5}})\n",
    "        \n",
    "        # non-polymer style\n",
    "        viewer.setStyle({'hetflag': True}, {'stick':{'radius': 0.3, 'singleBond': False}})\n",
    "        \n",
    "        # don't display water molecules\n",
    "        viewer.setStyle({'resn': ['HOH','DOD']}, {})\n",
    "        \n",
    "        # interacting residue info\n",
    "        res_num = str(df.iloc[i]['pdbPosition'])\n",
    "        mod_res = {'resi': res_num, 'chain': chain_id}\n",
    "        \n",
    "        # interacting ligand info\n",
    "        label = df.iloc[i]['variationId']  \n",
    "        lig_id = df.iloc[i]['queryGroupId']\n",
    "        lig_chain = df.iloc[i]['queryChainId']\n",
    "        lig_num = df.iloc[i]['queryGroupNumber']\n",
    "        lig_res = {'resi': lig_num, 'chain': lig_chain}\n",
    "        lig_label = lig_id + \"-\" + lig_chain + lig_num\n",
    "        \n",
    "        col = 'red'\n",
    "        c_col = col + 'Carbon'\n",
    "        viewer.addStyle(mod_res, {'stick':{'colorscheme': c_col, 'radius': 0.2}})\n",
    "        viewer.addStyle(mod_res, {'sphere':{'color': col, 'opacity': 0.8}})  \n",
    "\n",
    "        if show_labels:\n",
    "            viewer.addLabel(label, {'fontSize':12,'fontColor': 'black','backgroundColor':'ivory'}, mod_res) \n",
    "            viewer.addLabel(lig_label, {'fontSize':10}, lig_res) \n",
    "            \n",
    "        # select neigboring residues by distance\n",
    "        surroundings = {'chain': chain_id, 'resi': res_num, 'byres': True, 'expand': distance_cutoff}\n",
    "        \n",
    "        # residues surrounding mutation site\n",
    "        viewer.addStyle(surroundings,{'stick':{'colorscheme':'orangeCarbon', 'radius': 0.15}})\n",
    "\n",
    "        \n",
    "        # interacting ligand style\n",
    "        viewer.addStyle(lig_res, {'sphere': {'colorscheme': 'greenCarbon'}})  \n",
    "    \n",
    "        if show_surface:\n",
    "             viewer.addSurface(py3Dmol.SES, {'opacity':0.8,'color':'lightblue'}, {'chain': chain_id})\n",
    "         \n",
    "        viewer.zoomTo(surroundings)\n",
    "        \n",
    "        # print header\n",
    "        print(\"PDB Id:\", pdb_id, \"chain Id:\" , chain_id, \"residue:\", res_num, \"ligand:\", lig_label, \"mutation:\", label)\n",
    "        \n",
    "        # print any specified additional columns from the dataframe\n",
    "        for a in args:\n",
    "            print(a + \": \" + df.iloc[i][a])\n",
    "                \n",
    "        return viewer.show()\n",
    "       \n",
    "    s_widget = IntSlider(min=0, max=len(df)-1, description='Structure', continuous_update=False)\n",
    "    \n",
    "    return interact(view3d, show_bio_assembly=False, show_surface=False, show_labels=True, i=s_widget)"
   ]
  },
  {
   "cell_type": "code",
   "execution_count": 14,
   "metadata": {
    "scrolled": true
   },
   "outputs": [
    {
     "data": {
      "application/vnd.jupyter.widget-view+json": {
       "model_id": "59ff361dddc445ff92a20772b605bbd9",
       "version_major": 2,
       "version_minor": 0
      },
      "text/plain": [
       "interactive(children=(Checkbox(value=False, description='show_bio_assembly'), Checkbox(value=False, descriptio…"
      ]
     },
     "metadata": {},
     "output_type": "display_data"
    }
   ],
   "source": [
    "view_single_mutation(mt, distance_cutoff);"
   ]
  },
  {
   "cell_type": "code",
   "execution_count": 15,
   "metadata": {
    "code_folding": [
     0
    ]
   },
   "outputs": [],
   "source": [
    "# Shutdown Spark\n",
    "spark.stop()"
   ]
  },
  {
   "cell_type": "markdown",
   "metadata": {},
   "source": [
    "## Now run the next step\n",
    "Map mutations occuring at protein-polymer interfaces: [5-MapToDrugInteractions.ipynb](5-MapToDrugInteractions.ipynb)"
   ]
  }
 ],
 "metadata": {
  "kernelspec": {
   "display_name": "Python 3",
   "language": "python",
   "name": "python3"
  },
  "language_info": {
   "codemirror_mode": {
    "name": "ipython",
    "version": 3
   },
   "file_extension": ".py",
   "mimetype": "text/x-python",
   "name": "python",
   "nbconvert_exporter": "python",
   "pygments_lexer": "ipython3",
   "version": "3.7.1"
  }
 },
 "nbformat": 4,
 "nbformat_minor": 2
}
