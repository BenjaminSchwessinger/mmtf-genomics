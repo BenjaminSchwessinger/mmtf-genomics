{
 "cells": [
  {
   "cell_type": "markdown",
   "metadata": {},
   "source": [
    "## Map Mutations to 3D Structures in the Protein Data Bank"
   ]
  },
  {
   "cell_type": "code",
   "execution_count": 1,
   "metadata": {},
   "outputs": [],
   "source": [
    "from pyspark.sql import SparkSession\n",
    "from mmtfPyspark.datasets import g2sDataset, pdbjMineDataset\n",
    "from ipywidgets import interact, IntSlider\n",
    "import py3Dmol\n",
    "import pandas as pd"
   ]
  },
  {
   "cell_type": "markdown",
   "metadata": {},
   "source": [
    "#### Input parameters"
   ]
  },
  {
   "cell_type": "code",
   "execution_count": 2,
   "metadata": {},
   "outputs": [],
   "source": [
    "distance_cutoff = 8 # distance cutoff for visualizing interactions\n",
    "input_file_name = 'mutations.csv' # mutations in standard format (e.g., chr5:g.149440497C>T)\n",
    "output_file_name = 'mutations3d.csv' # mutations mapped to 3D protein structures"
   ]
  },
  {
   "cell_type": "markdown",
   "metadata": {},
   "source": [
    "## Read 'mutations.csv' file created in the previous step"
   ]
  },
  {
   "cell_type": "code",
   "execution_count": 3,
   "metadata": {},
   "outputs": [],
   "source": [
    "df = pd.read_csv(input_file_name)"
   ]
  },
  {
   "cell_type": "markdown",
   "metadata": {},
   "source": [
    "## Create a list of the variants"
   ]
  },
  {
   "cell_type": "code",
   "execution_count": 4,
   "metadata": {},
   "outputs": [
    {
     "data": {
      "text/plain": [
       "['chr6:g.52619766C>T', 'chr9:g.133738358A>T', 'chr11:g.5246945G>T']"
      ]
     },
     "execution_count": 4,
     "metadata": {},
     "output_type": "execute_result"
    }
   ],
   "source": [
    "var_ids = df['var_id'].tolist()\n",
    "var_ids"
   ]
  },
  {
   "cell_type": "markdown",
   "metadata": {},
   "source": [
    "## Map the mutations from genome locations to 3D PDB positions¶\n",
    "Here we use [g2sDataset](https://github.com/sbl-sdsc/mmtf-pyspark/blob/master/mmtfPyspark/datasets/g2sDataset.py) to retrieve genome to PDB mapping information using the [G2S](https://g2s.genomenexus.org/) (Genome to Structure) web services.\n",
    "\n",
    "Note, this step may take several minutes to complete."
   ]
  },
  {
   "cell_type": "code",
   "execution_count": 5,
   "metadata": {
    "scrolled": true
   },
   "outputs": [],
   "source": [
    "pdb_map = g2sDataset.get_position_dataset(var_ids, ref_genome='hgvs-grch37').toPandas()"
   ]
  },
  {
   "cell_type": "markdown",
   "metadata": {},
   "source": [
    "### Reduce redundant data to speed up this demo.\n",
    "For you own data you may want to comment out this step to make sure you are getting all PDB mappings"
   ]
  },
  {
   "cell_type": "code",
   "execution_count": 6,
   "metadata": {},
   "outputs": [],
   "source": [
    "pdb_map = pdb_map.drop_duplicates(subset=['structureId','pdbPosition','pdbAminoAcid','variationId'])"
   ]
  },
  {
   "cell_type": "code",
   "execution_count": 7,
   "metadata": {},
   "outputs": [
    {
     "data": {
      "text/html": [
       "<div>\n",
       "<style scoped>\n",
       "    .dataframe tbody tr th:only-of-type {\n",
       "        vertical-align: middle;\n",
       "    }\n",
       "\n",
       "    .dataframe tbody tr th {\n",
       "        vertical-align: top;\n",
       "    }\n",
       "\n",
       "    .dataframe thead th {\n",
       "        text-align: right;\n",
       "    }\n",
       "</style>\n",
       "<table border=\"1\" class=\"dataframe\">\n",
       "  <thead>\n",
       "    <tr style=\"text-align: right;\">\n",
       "      <th></th>\n",
       "      <th>structureId</th>\n",
       "      <th>chainId</th>\n",
       "      <th>pdbPosition</th>\n",
       "      <th>pdbAminoAcid</th>\n",
       "      <th>refGenome</th>\n",
       "      <th>variationId</th>\n",
       "    </tr>\n",
       "  </thead>\n",
       "  <tbody>\n",
       "    <tr>\n",
       "      <th>0</th>\n",
       "      <td>1GUH</td>\n",
       "      <td>A</td>\n",
       "      <td>83</td>\n",
       "      <td>G</td>\n",
       "      <td>hgvs-grch37</td>\n",
       "      <td>chr6:g.52619766C&gt;T</td>\n",
       "    </tr>\n",
       "    <tr>\n",
       "      <th>1</th>\n",
       "      <td>1XZ7</td>\n",
       "      <td>B</td>\n",
       "      <td>108</td>\n",
       "      <td>N</td>\n",
       "      <td>hgvs-grch37</td>\n",
       "      <td>chr11:g.5246945G&gt;T</td>\n",
       "    </tr>\n",
       "    <tr>\n",
       "      <th>2</th>\n",
       "      <td>2VCT</td>\n",
       "      <td>D</td>\n",
       "      <td>83</td>\n",
       "      <td>G</td>\n",
       "      <td>hgvs-grch37</td>\n",
       "      <td>chr6:g.52619766C&gt;T</td>\n",
       "    </tr>\n",
       "    <tr>\n",
       "      <th>3</th>\n",
       "      <td>3KMF</td>\n",
       "      <td>G</td>\n",
       "      <td>708</td>\n",
       "      <td>N</td>\n",
       "      <td>hgvs-grch37</td>\n",
       "      <td>chr11:g.5246945G&gt;T</td>\n",
       "    </tr>\n",
       "    <tr>\n",
       "      <th>4</th>\n",
       "      <td>6HD6</td>\n",
       "      <td>A</td>\n",
       "      <td>272</td>\n",
       "      <td>Y</td>\n",
       "      <td>hgvs-grch37</td>\n",
       "      <td>chr9:g.133738358A&gt;T</td>\n",
       "    </tr>\n",
       "  </tbody>\n",
       "</table>\n",
       "</div>"
      ],
      "text/plain": [
       "  structureId chainId  pdbPosition pdbAminoAcid    refGenome  \\\n",
       "0        1GUH       A           83            G  hgvs-grch37   \n",
       "1        1XZ7       B          108            N  hgvs-grch37   \n",
       "2        2VCT       D           83            G  hgvs-grch37   \n",
       "3        3KMF       G          708            N  hgvs-grch37   \n",
       "4        6HD6       A          272            Y  hgvs-grch37   \n",
       "\n",
       "           variationId  \n",
       "0   chr6:g.52619766C>T  \n",
       "1   chr11:g.5246945G>T  \n",
       "2   chr6:g.52619766C>T  \n",
       "3   chr11:g.5246945G>T  \n",
       "4  chr9:g.133738358A>T  "
      ]
     },
     "execution_count": 7,
     "metadata": {},
     "output_type": "execute_result"
    }
   ],
   "source": [
    "pdb_map.head()"
   ]
  },
  {
   "cell_type": "code",
   "execution_count": 8,
   "metadata": {},
   "outputs": [],
   "source": [
    "# You can also get the mapping for a specific PDB chain, e.g.,\n",
    "\n",
    "#pdb_map = g2sDataset.get_position_dataset(var_ids, '4ACS', 'B', ref_genome='hgvs-grch37').toPandas()"
   ]
  },
  {
   "cell_type": "markdown",
   "metadata": {},
   "source": [
    "## Filter PDB Chains"
   ]
  },
  {
   "cell_type": "markdown",
   "metadata": {},
   "source": [
    "Here we use the SIFTS annotation provided by EBI to filter by taxonomy. To learn more about how to [retrieve SIFTS annotation](\n",
    "https://github.com/sbl-sdsc/mmtf-pyspark/blob/master/demos/datasets/SiftsDataDemo.ipynb)."
   ]
  },
  {
   "cell_type": "markdown",
   "metadata": {},
   "source": [
    "#### To filter by organism, we first retrieve the SIFTS taxonomy annotations on a PDB chain level\n",
    "Here we are only interested in human proteins."
   ]
  },
  {
   "cell_type": "code",
   "execution_count": 9,
   "metadata": {},
   "outputs": [
    {
     "data": {
      "text/html": [
       "<div>\n",
       "<style scoped>\n",
       "    .dataframe tbody tr th:only-of-type {\n",
       "        vertical-align: middle;\n",
       "    }\n",
       "\n",
       "    .dataframe tbody tr th {\n",
       "        vertical-align: top;\n",
       "    }\n",
       "\n",
       "    .dataframe thead th {\n",
       "        text-align: right;\n",
       "    }\n",
       "</style>\n",
       "<table border=\"1\" class=\"dataframe\">\n",
       "  <thead>\n",
       "    <tr style=\"text-align: right;\">\n",
       "      <th></th>\n",
       "      <th>pdbid</th>\n",
       "      <th>chain</th>\n",
       "      <th>tax_id</th>\n",
       "      <th>scientific_name</th>\n",
       "      <th>structureChainId</th>\n",
       "    </tr>\n",
       "  </thead>\n",
       "  <tbody>\n",
       "    <tr>\n",
       "      <th>0</th>\n",
       "      <td>10GS</td>\n",
       "      <td>A</td>\n",
       "      <td>9606</td>\n",
       "      <td>Homo sapiens</td>\n",
       "      <td>10GS.A</td>\n",
       "    </tr>\n",
       "    <tr>\n",
       "      <th>1</th>\n",
       "      <td>10GS</td>\n",
       "      <td>B</td>\n",
       "      <td>9606</td>\n",
       "      <td>Homo sapiens</td>\n",
       "      <td>10GS.B</td>\n",
       "    </tr>\n",
       "    <tr>\n",
       "      <th>2</th>\n",
       "      <td>11GS</td>\n",
       "      <td>A</td>\n",
       "      <td>9606</td>\n",
       "      <td>Homo sapiens</td>\n",
       "      <td>11GS.A</td>\n",
       "    </tr>\n",
       "    <tr>\n",
       "      <th>3</th>\n",
       "      <td>11GS</td>\n",
       "      <td>B</td>\n",
       "      <td>9606</td>\n",
       "      <td>Homo sapiens</td>\n",
       "      <td>11GS.B</td>\n",
       "    </tr>\n",
       "    <tr>\n",
       "      <th>4</th>\n",
       "      <td>121P</td>\n",
       "      <td>A</td>\n",
       "      <td>9606</td>\n",
       "      <td>Homo sapiens</td>\n",
       "      <td>121P.A</td>\n",
       "    </tr>\n",
       "  </tbody>\n",
       "</table>\n",
       "</div>"
      ],
      "text/plain": [
       "  pdbid chain  tax_id scientific_name structureChainId\n",
       "0  10GS     A    9606    Homo sapiens           10GS.A\n",
       "1  10GS     B    9606    Homo sapiens           10GS.B\n",
       "2  11GS     A    9606    Homo sapiens           11GS.A\n",
       "3  11GS     B    9606    Homo sapiens           11GS.B\n",
       "4  121P     A    9606    Homo sapiens           121P.A"
      ]
     },
     "execution_count": 9,
     "metadata": {},
     "output_type": "execute_result"
    }
   ],
   "source": [
    "taxonomyQuery = \"SELECT * FROM sifts.pdb_chain_taxonomy WHERE sifts.pdb_chain_taxonomy.scientific_name = 'Homo sapiens'\"\n",
    "taxonomy = pdbjMineDataset.get_dataset(taxonomyQuery).toPandas()\n",
    "taxonomy.head()"
   ]
  },
  {
   "cell_type": "markdown",
   "metadata": {},
   "source": [
    "## Filter the PDB chains by joining with the taxonomy data"
   ]
  },
  {
   "cell_type": "code",
   "execution_count": 10,
   "metadata": {},
   "outputs": [
    {
     "data": {
      "text/html": [
       "<div>\n",
       "<style scoped>\n",
       "    .dataframe tbody tr th:only-of-type {\n",
       "        vertical-align: middle;\n",
       "    }\n",
       "\n",
       "    .dataframe tbody tr th {\n",
       "        vertical-align: top;\n",
       "    }\n",
       "\n",
       "    .dataframe thead th {\n",
       "        text-align: right;\n",
       "    }\n",
       "</style>\n",
       "<table border=\"1\" class=\"dataframe\">\n",
       "  <thead>\n",
       "    <tr style=\"text-align: right;\">\n",
       "      <th></th>\n",
       "      <th>structureId</th>\n",
       "      <th>chainId</th>\n",
       "      <th>pdbPosition</th>\n",
       "      <th>pdbAminoAcid</th>\n",
       "      <th>refGenome</th>\n",
       "      <th>variationId</th>\n",
       "      <th>tax_id</th>\n",
       "      <th>scientific_name</th>\n",
       "      <th>structureChainId</th>\n",
       "    </tr>\n",
       "  </thead>\n",
       "  <tbody>\n",
       "    <tr>\n",
       "      <th>0</th>\n",
       "      <td>1GUH</td>\n",
       "      <td>A</td>\n",
       "      <td>83</td>\n",
       "      <td>G</td>\n",
       "      <td>hgvs-grch37</td>\n",
       "      <td>chr6:g.52619766C&gt;T</td>\n",
       "      <td>9606</td>\n",
       "      <td>Homo sapiens</td>\n",
       "      <td>1GUH.A</td>\n",
       "    </tr>\n",
       "    <tr>\n",
       "      <th>1</th>\n",
       "      <td>1XZ7</td>\n",
       "      <td>B</td>\n",
       "      <td>108</td>\n",
       "      <td>N</td>\n",
       "      <td>hgvs-grch37</td>\n",
       "      <td>chr11:g.5246945G&gt;T</td>\n",
       "      <td>9606</td>\n",
       "      <td>Homo sapiens</td>\n",
       "      <td>1XZ7.B</td>\n",
       "    </tr>\n",
       "    <tr>\n",
       "      <th>2</th>\n",
       "      <td>2VCT</td>\n",
       "      <td>D</td>\n",
       "      <td>83</td>\n",
       "      <td>G</td>\n",
       "      <td>hgvs-grch37</td>\n",
       "      <td>chr6:g.52619766C&gt;T</td>\n",
       "      <td>9606</td>\n",
       "      <td>Homo sapiens</td>\n",
       "      <td>2VCT.D</td>\n",
       "    </tr>\n",
       "    <tr>\n",
       "      <th>3</th>\n",
       "      <td>3KMF</td>\n",
       "      <td>G</td>\n",
       "      <td>708</td>\n",
       "      <td>N</td>\n",
       "      <td>hgvs-grch37</td>\n",
       "      <td>chr11:g.5246945G&gt;T</td>\n",
       "      <td>9606</td>\n",
       "      <td>Homo sapiens</td>\n",
       "      <td>3KMF.G</td>\n",
       "    </tr>\n",
       "    <tr>\n",
       "      <th>4</th>\n",
       "      <td>1GSF</td>\n",
       "      <td>D</td>\n",
       "      <td>83</td>\n",
       "      <td>G</td>\n",
       "      <td>hgvs-grch37</td>\n",
       "      <td>chr6:g.52619766C&gt;T</td>\n",
       "      <td>9606</td>\n",
       "      <td>Homo sapiens</td>\n",
       "      <td>1GSF.D</td>\n",
       "    </tr>\n",
       "  </tbody>\n",
       "</table>\n",
       "</div>"
      ],
      "text/plain": [
       "  structureId chainId  pdbPosition pdbAminoAcid    refGenome  \\\n",
       "0        1GUH       A           83            G  hgvs-grch37   \n",
       "1        1XZ7       B          108            N  hgvs-grch37   \n",
       "2        2VCT       D           83            G  hgvs-grch37   \n",
       "3        3KMF       G          708            N  hgvs-grch37   \n",
       "4        1GSF       D           83            G  hgvs-grch37   \n",
       "\n",
       "          variationId  tax_id scientific_name structureChainId  \n",
       "0  chr6:g.52619766C>T    9606    Homo sapiens           1GUH.A  \n",
       "1  chr11:g.5246945G>T    9606    Homo sapiens           1XZ7.B  \n",
       "2  chr6:g.52619766C>T    9606    Homo sapiens           2VCT.D  \n",
       "3  chr11:g.5246945G>T    9606    Homo sapiens           3KMF.G  \n",
       "4  chr6:g.52619766C>T    9606    Homo sapiens           1GSF.D  "
      ]
     },
     "execution_count": 10,
     "metadata": {},
     "output_type": "execute_result"
    }
   ],
   "source": [
    "pdb_filtered = pdb_map.merge(taxonomy, left_on=['structureId','chainId'], right_on=['pdbid','chain'], how='inner')\n",
    "pdb_filtered = pdb_filtered.drop(['pdbid','chain'], axis=1)  # remove redundant columns\n",
    "pdb_filtered.head()"
   ]
  },
  {
   "cell_type": "markdown",
   "metadata": {},
   "source": [
    "## Save mappings"
   ]
  },
  {
   "cell_type": "code",
   "execution_count": 11,
   "metadata": {},
   "outputs": [],
   "source": [
    "pdb_filtered.to_csv(output_file_name, index=False)"
   ]
  },
  {
   "cell_type": "markdown",
   "metadata": {},
   "source": [
    "## View mutations grouped by protein chain\n",
    "Use the slider to view each protein chain."
   ]
  },
  {
   "cell_type": "code",
   "execution_count": 12,
   "metadata": {},
   "outputs": [
    {
     "name": "stdout",
     "output_type": "stream",
     "text": [
      "Chains: ['1DXT.B', '1GSE.B', '1GSF.D', '1GUH.A', '1K3L.A', '1K3Y.B', '1OPL.A', '1PKW.A', '1PL1.A', '1QXD.D', '1VWT.D', '1XXT.D', '1XY0.B', '1XYE.B', '1XZ2.D', '1XZ4.B', '1XZ5.B', '1XZ7.B', '1XZU.D', '1XZV.B', '1Y09.D', '1Y0A.B', '1Y0C.B', '1Y0D.B', '1Y8W.B', '1YDZ.B', '1YH9.B', '1YHE.D', '1YHR.B', '1YZI.B', '2F4J.A', '2FO0.A', '2G1T.C', '2G2F.A', '2G2H.A', '2GQG.B', '2HIW.A', '2HZI.A', '2R6K.A', '2V7A.A', '2VCT.D', '2W6V.D', '2WJU.G', '3KMF.C', '3KMF.G', '3KTL.A', '3QRI.A', '3QRK.A', '3UE4.A', '4ACS.D', '4TWP.B', '4WA9.B', '4XS0.B', '4ZOG.A', '5JCU.C', '5MO4.A', '6ATO.A', '6ATP.A', '6ATQ.A', '6ATR.A', '6FQF.D']\n"
     ]
    }
   ],
   "source": [
    "chains = pdb_filtered.groupby('structureChainId')\n",
    "print(\"Chains:\", list(chains.groups.keys()))"
   ]
  },
  {
   "cell_type": "code",
   "execution_count": 13,
   "metadata": {
    "code_folding": [
     0
    ],
    "jupyter": {
     "source_hidden": true
    }
   },
   "outputs": [],
   "source": [
    "def view_grouped_mutations(grouped_df, *args):\n",
    "    chainIds = list(grouped_df.groups.keys())\n",
    "    print(chainIds)\n",
    "\n",
    "    def view3d(show_bio_assembly=False, show_surface=False, show_labels=True, i=0):\n",
    "        group = grouped_df.get_group(chainIds[i])\n",
    "        \n",
    "        pdb_id, chain_id = chainIds[i].split('.')\n",
    "        viewer = py3Dmol.view(query='pdb:' + pdb_id, options={'doAssembly': show_bio_assembly})\n",
    "\n",
    "#       # polymer style\n",
    "        viewer.setStyle({'cartoon': {'colorscheme': 'chain', 'width': 0.6, 'opacity':0.9}})\n",
    "\n",
    "#       # non-polymer style\n",
    "        viewer.setStyle({'hetflag': True}, {'stick':{'radius': 0.3, 'singleBond': False}})\n",
    "       \n",
    "        # highlight chain of interest in blue\n",
    "        viewer.setStyle({'chain': chain_id},{'cartoon': {'color': 'blue'}})\n",
    "        \n",
    "        rows = group.shape[0]\n",
    "        for j in range(0, rows):\n",
    "            res_num = str(group.iloc[j]['pdbPosition'])\n",
    "            mod_res = {'resi': res_num, 'chain': chain_id} \n",
    "            col = 'red'\n",
    "            c_col = col + 'Carbon'\n",
    "            viewer.addStyle(mod_res, {'stick':{'colorscheme':c_col, 'radius': 0.2}})\n",
    "            viewer.addStyle(mod_res, {'sphere':{'color':col, 'opacity': 0.6}})          \n",
    "            if show_labels:\n",
    "                label = group.iloc[j]['variationId']\n",
    "                viewer.addLabel(label, {'fontSize':7,'fontColor': 'black','backgroundColor':'ivory'}, {'resi': res_num, 'chain': chain_id})\n",
    "        \n",
    "        \n",
    "        #print header\n",
    "        print(\"PDB Id: \" + pdb_id + \" chain Id: \" + chain_id)\n",
    "        \n",
    "        # print any specified additional columns from the dataframe\n",
    "        for a in args:\n",
    "            print(a + \": \" + df.iloc[i][a])\n",
    "\n",
    "        viewer.zoomTo({'chain': chain_id})\n",
    "        \n",
    "        if show_surface:\n",
    "             viewer.addSurface(py3Dmol.SES,{'opacity':0.8,'color':'lightblue'},{'chain': chain_id})\n",
    "                \n",
    "        return viewer.show()\n",
    "       \n",
    "    s_widget = IntSlider(min=0, max=len(chainIds)-1, description='Structure', continuous_update=False)\n",
    "    \n",
    "    return interact(view3d, show_bio_assembly=False, show_surface=False, show_labels=True, i=s_widget)"
   ]
  },
  {
   "cell_type": "markdown",
   "metadata": {},
   "source": [
    "Turn off scrolling in the viewer cell below (in Jupyter Notebook)"
   ]
  },
  {
   "cell_type": "code",
   "execution_count": 14,
   "metadata": {
    "code_folding": []
   },
   "outputs": [],
   "source": [
    "#%%javascript \n",
    "#IPython.OutputArea.prototype._should_scroll = function(lines) {return false;}"
   ]
  },
  {
   "cell_type": "code",
   "execution_count": 15,
   "metadata": {
    "scrolled": false
   },
   "outputs": [
    {
     "name": "stdout",
     "output_type": "stream",
     "text": [
      "PDB Id: 1DXT chain Id: B\n"
     ]
    },
    {
     "data": {
      "application/3dmoljs_load.v0": "<div id=\"3dmolviewer_154906358559758\"  style=\"position: relative; width: 640px; height: 480px\">\n        <p id=\"3dmolwarning_154906358559758\" style=\"background-color:#ffcccc;color:black\">You appear to be running in JupyterLab (or JavaScript failed to load for some other reason).  You need to install the 3dmol extension: <br>\n        <tt>jupyter labextension install jupyterlab_3dmol</tt></p>\n        </div>\n<script>\n\nvar loadScriptAsync = function(uri){\n  return new Promise((resolve, reject) => {\n    var tag = document.createElement('script');\n    tag.src = uri;\n    tag.async = true;\n    tag.onload = () => {\n      resolve();\n    };\n  var firstScriptTag = document.getElementsByTagName('script')[0];\n  firstScriptTag.parentNode.insertBefore(tag, firstScriptTag);\n});\n};\n\nif(typeof $3Dmolpromise === 'undefined') {\n$3Dmolpromise = null;\n  $3Dmolpromise = loadScriptAsync('https://3dmol.csb.pitt.edu/build/3Dmol.js');\n}\n\nvar viewer_154906358559758 = null;\nvar warn = document.getElementById(\"3dmolwarning_154906358559758\");\nif(warn) {\n    warn.parentNode.removeChild(warn);\n}\n$3Dmolpromise.then(function() {\nviewer_154906358559758 = $3Dmol.createViewer($(\"#3dmolviewer_154906358559758\"),{backgroundColor:\"white\"});\n$3Dmol.download(\"pdb:1DXT\", viewer_154906358559758, {\"doAssembly\": false}, function() {\n\tviewer_154906358559758.setStyle({\"cartoon\": {\"colorscheme\": \"chain\", \"width\": 0.6, \"opacity\": 0.9}});\n\tviewer_154906358559758.setStyle({\"hetflag\": true},{\"stick\": {\"radius\": 0.3, \"singleBond\": false}});\n\tviewer_154906358559758.setStyle({\"chain\": \"B\"},{\"cartoon\": {\"color\": \"blue\"}});\n\tviewer_154906358559758.addStyle({\"resi\": \"109\", \"chain\": \"B\"},{\"stick\": {\"colorscheme\": \"redCarbon\", \"radius\": 0.2}});\n\tviewer_154906358559758.addStyle({\"resi\": \"109\", \"chain\": \"B\"},{\"sphere\": {\"color\": \"red\", \"opacity\": 0.6}});\n\tviewer_154906358559758.addLabel(\"chr11:g.5246945G>T\",{\"fontSize\": 7, \"fontColor\": \"black\", \"backgroundColor\": \"ivory\"},{\"resi\": \"109\", \"chain\": \"B\"});\n\tviewer_154906358559758.zoomTo({\"chain\": \"B\"});\nviewer_154906358559758.render();\n})\n});\n</script>",
      "text/html": [
       "<div id=\"3dmolviewer_154906358559758\"  style=\"position: relative; width: 640px; height: 480px\">\n",
       "        <p id=\"3dmolwarning_154906358559758\" style=\"background-color:#ffcccc;color:black\">You appear to be running in JupyterLab (or JavaScript failed to load for some other reason).  You need to install the 3dmol extension: <br>\n",
       "        <tt>jupyter labextension install jupyterlab_3dmol</tt></p>\n",
       "        </div>\n",
       "<script>\n",
       "\n",
       "var loadScriptAsync = function(uri){\n",
       "  return new Promise((resolve, reject) => {\n",
       "    var tag = document.createElement('script');\n",
       "    tag.src = uri;\n",
       "    tag.async = true;\n",
       "    tag.onload = () => {\n",
       "      resolve();\n",
       "    };\n",
       "  var firstScriptTag = document.getElementsByTagName('script')[0];\n",
       "  firstScriptTag.parentNode.insertBefore(tag, firstScriptTag);\n",
       "});\n",
       "};\n",
       "\n",
       "if(typeof $3Dmolpromise === 'undefined') {\n",
       "$3Dmolpromise = null;\n",
       "  $3Dmolpromise = loadScriptAsync('https://3dmol.csb.pitt.edu/build/3Dmol.js');\n",
       "}\n",
       "\n",
       "var viewer_154906358559758 = null;\n",
       "var warn = document.getElementById(\"3dmolwarning_154906358559758\");\n",
       "if(warn) {\n",
       "    warn.parentNode.removeChild(warn);\n",
       "}\n",
       "$3Dmolpromise.then(function() {\n",
       "viewer_154906358559758 = $3Dmol.createViewer($(\"#3dmolviewer_154906358559758\"),{backgroundColor:\"white\"});\n",
       "$3Dmol.download(\"pdb:1DXT\", viewer_154906358559758, {\"doAssembly\": false}, function() {\n",
       "\tviewer_154906358559758.setStyle({\"cartoon\": {\"colorscheme\": \"chain\", \"width\": 0.6, \"opacity\": 0.9}});\n",
       "\tviewer_154906358559758.setStyle({\"hetflag\": true},{\"stick\": {\"radius\": 0.3, \"singleBond\": false}});\n",
       "\tviewer_154906358559758.setStyle({\"chain\": \"B\"},{\"cartoon\": {\"color\": \"blue\"}});\n",
       "\tviewer_154906358559758.addStyle({\"resi\": \"109\", \"chain\": \"B\"},{\"stick\": {\"colorscheme\": \"redCarbon\", \"radius\": 0.2}});\n",
       "\tviewer_154906358559758.addStyle({\"resi\": \"109\", \"chain\": \"B\"},{\"sphere\": {\"color\": \"red\", \"opacity\": 0.6}});\n",
       "\tviewer_154906358559758.addLabel(\"chr11:g.5246945G>T\",{\"fontSize\": 7, \"fontColor\": \"black\", \"backgroundColor\": \"ivory\"},{\"resi\": \"109\", \"chain\": \"B\"});\n",
       "\tviewer_154906358559758.zoomTo({\"chain\": \"B\"});\n",
       "viewer_154906358559758.render();\n",
       "})\n",
       "});\n",
       "</script>"
      ]
     },
     "metadata": {},
     "output_type": "display_data"
    }
   ],
   "source": [
    "view_grouped_mutations(chains);"
   ]
  },
  {
   "cell_type": "markdown",
   "metadata": {},
   "source": [
    "## View one mutation at a time\n",
    "Use the slider to view each mutation. Surrounding residues within the `distance_cutoff` are rendered as orange sticks."
   ]
  },
  {
   "cell_type": "code",
   "execution_count": 16,
   "metadata": {
    "code_folding": [
     0
    ],
    "jupyter": {
     "source_hidden": true
    }
   },
   "outputs": [],
   "source": [
    "def view_single_mutation(df, distance_cutoff, *args):\n",
    "\n",
    "    def view3d(show_bio_assembly=False, show_surface=False, show_labels=True, i=0):        \n",
    "        pdb_id, chain_id = df.iloc[i]['structureChainId'].split('.')\n",
    "        \n",
    "        viewer = py3Dmol.view(query='pdb:' + pdb_id, options={'doAssembly': show_bio_assembly})\n",
    "\n",
    "        # polymer style\n",
    "        viewer.setStyle({'cartoon': {'colorscheme': 'chain', 'width': 0.6, 'opacity':0.9}})\n",
    "\n",
    "        # non-polymer style\n",
    "        viewer.setStyle({'hetflag': True}, {'stick':{'radius': 0.3, 'singleBond': False}})\n",
    "       \n",
    "        # highlight chain of interest in green\n",
    "        viewer.setStyle({'chain': chain_id},{'cartoon': {'color': 'blue', 'opacity':0.5}})\n",
    "        \n",
    "        # \n",
    "        res_num = str(df.iloc[i]['pdbPosition'])\n",
    "        label = df.iloc[i]['variationId']\n",
    "        mod_res = {'resi': res_num, 'chain': chain_id} \n",
    "        col = 'red'\n",
    "        c_col = col + 'Carbon'\n",
    "        viewer.addStyle(mod_res, {'stick':{'colorscheme':c_col, 'radius': 0.2}})\n",
    "        viewer.addStyle(mod_res, {'sphere':{'color':col, 'opacity': 0.8}})          \n",
    "        \n",
    "        if show_labels:\n",
    "            viewer.addLabel(label, {'fontSize':12,'fontColor': 'black','backgroundColor':'ivory'}, {'resi': res_num, 'chain': chain_id})\n",
    "\n",
    "        # select neigboring residues by distance\n",
    "        surroundings = {'chain': chain_id, 'resi': res_num, 'byres': True, 'expand': distance_cutoff}\n",
    "        \n",
    "        # residues surrounding mutation positions\n",
    "        viewer.addStyle(surroundings,{'stick':{'colorscheme':'orangeCarbon', 'radius': 0.15}})\n",
    "        \n",
    "        viewer.zoomTo(surroundings)\n",
    "        \n",
    "        if show_surface:\n",
    "             viewer.addSurface(py3Dmol.SES, {'opacity':0.8,'color':'lightblue'}, {'chain': chain_id})\n",
    "                \n",
    "         #print header\n",
    "        print(\"PDB Id:\", pdb_id, \"chain Id:\" , chain_id, \"residue:\", res_num, \"mutation:\", label)\n",
    "        \n",
    "        # print any specified additional columns from the dataframe\n",
    "        for a in args:\n",
    "            print(a + \": \" + df.iloc[i][a])\n",
    "            \n",
    "        return viewer.show()\n",
    "       \n",
    "    s_widget = IntSlider(min=0, max=len(df)-1, description='Structure', continuous_update=False)\n",
    "    \n",
    "    return interact(view3d, show_bio_assembly=False, show_surface=False, show_labels=True, i=s_widget)"
   ]
  },
  {
   "cell_type": "code",
   "execution_count": 17,
   "metadata": {
    "scrolled": true
   },
   "outputs": [
    {
     "name": "stdout",
     "output_type": "stream",
     "text": [
      "PDB Id: 1GUH chain Id: A residue: 83 mutation: chr6:g.52619766C>T\n"
     ]
    },
    {
     "data": {
      "application/3dmoljs_load.v0": "<div id=\"3dmolviewer_1549063585750269\"  style=\"position: relative; width: 640px; height: 480px\">\n        <p id=\"3dmolwarning_1549063585750269\" style=\"background-color:#ffcccc;color:black\">You appear to be running in JupyterLab (or JavaScript failed to load for some other reason).  You need to install the 3dmol extension: <br>\n        <tt>jupyter labextension install jupyterlab_3dmol</tt></p>\n        </div>\n<script>\n\nvar loadScriptAsync = function(uri){\n  return new Promise((resolve, reject) => {\n    var tag = document.createElement('script');\n    tag.src = uri;\n    tag.async = true;\n    tag.onload = () => {\n      resolve();\n    };\n  var firstScriptTag = document.getElementsByTagName('script')[0];\n  firstScriptTag.parentNode.insertBefore(tag, firstScriptTag);\n});\n};\n\nif(typeof $3Dmolpromise === 'undefined') {\n$3Dmolpromise = null;\n  $3Dmolpromise = loadScriptAsync('https://3dmol.csb.pitt.edu/build/3Dmol.js');\n}\n\nvar viewer_1549063585750269 = null;\nvar warn = document.getElementById(\"3dmolwarning_1549063585750269\");\nif(warn) {\n    warn.parentNode.removeChild(warn);\n}\n$3Dmolpromise.then(function() {\nviewer_1549063585750269 = $3Dmol.createViewer($(\"#3dmolviewer_1549063585750269\"),{backgroundColor:\"white\"});\n$3Dmol.download(\"pdb:1GUH\", viewer_1549063585750269, {\"doAssembly\": false}, function() {\n\tviewer_1549063585750269.setStyle({\"cartoon\": {\"colorscheme\": \"chain\", \"width\": 0.6, \"opacity\": 0.9}});\n\tviewer_1549063585750269.setStyle({\"hetflag\": true},{\"stick\": {\"radius\": 0.3, \"singleBond\": false}});\n\tviewer_1549063585750269.setStyle({\"chain\": \"A\"},{\"cartoon\": {\"color\": \"blue\", \"opacity\": 0.5}});\n\tviewer_1549063585750269.addStyle({\"resi\": \"83\", \"chain\": \"A\"},{\"stick\": {\"colorscheme\": \"redCarbon\", \"radius\": 0.2}});\n\tviewer_1549063585750269.addStyle({\"resi\": \"83\", \"chain\": \"A\"},{\"sphere\": {\"color\": \"red\", \"opacity\": 0.8}});\n\tviewer_1549063585750269.addLabel(\"chr6:g.52619766C>T\",{\"fontSize\": 12, \"fontColor\": \"black\", \"backgroundColor\": \"ivory\"},{\"resi\": \"83\", \"chain\": \"A\"});\n\tviewer_1549063585750269.addStyle({\"chain\": \"A\", \"resi\": \"83\", \"byres\": true, \"expand\": 8},{\"stick\": {\"colorscheme\": \"orangeCarbon\", \"radius\": 0.15}});\n\tviewer_1549063585750269.zoomTo({\"chain\": \"A\", \"resi\": \"83\", \"byres\": true, \"expand\": 8});\nviewer_1549063585750269.render();\n})\n});\n</script>",
      "text/html": [
       "<div id=\"3dmolviewer_1549063585750269\"  style=\"position: relative; width: 640px; height: 480px\">\n",
       "        <p id=\"3dmolwarning_1549063585750269\" style=\"background-color:#ffcccc;color:black\">You appear to be running in JupyterLab (or JavaScript failed to load for some other reason).  You need to install the 3dmol extension: <br>\n",
       "        <tt>jupyter labextension install jupyterlab_3dmol</tt></p>\n",
       "        </div>\n",
       "<script>\n",
       "\n",
       "var loadScriptAsync = function(uri){\n",
       "  return new Promise((resolve, reject) => {\n",
       "    var tag = document.createElement('script');\n",
       "    tag.src = uri;\n",
       "    tag.async = true;\n",
       "    tag.onload = () => {\n",
       "      resolve();\n",
       "    };\n",
       "  var firstScriptTag = document.getElementsByTagName('script')[0];\n",
       "  firstScriptTag.parentNode.insertBefore(tag, firstScriptTag);\n",
       "});\n",
       "};\n",
       "\n",
       "if(typeof $3Dmolpromise === 'undefined') {\n",
       "$3Dmolpromise = null;\n",
       "  $3Dmolpromise = loadScriptAsync('https://3dmol.csb.pitt.edu/build/3Dmol.js');\n",
       "}\n",
       "\n",
       "var viewer_1549063585750269 = null;\n",
       "var warn = document.getElementById(\"3dmolwarning_1549063585750269\");\n",
       "if(warn) {\n",
       "    warn.parentNode.removeChild(warn);\n",
       "}\n",
       "$3Dmolpromise.then(function() {\n",
       "viewer_1549063585750269 = $3Dmol.createViewer($(\"#3dmolviewer_1549063585750269\"),{backgroundColor:\"white\"});\n",
       "$3Dmol.download(\"pdb:1GUH\", viewer_1549063585750269, {\"doAssembly\": false}, function() {\n",
       "\tviewer_1549063585750269.setStyle({\"cartoon\": {\"colorscheme\": \"chain\", \"width\": 0.6, \"opacity\": 0.9}});\n",
       "\tviewer_1549063585750269.setStyle({\"hetflag\": true},{\"stick\": {\"radius\": 0.3, \"singleBond\": false}});\n",
       "\tviewer_1549063585750269.setStyle({\"chain\": \"A\"},{\"cartoon\": {\"color\": \"blue\", \"opacity\": 0.5}});\n",
       "\tviewer_1549063585750269.addStyle({\"resi\": \"83\", \"chain\": \"A\"},{\"stick\": {\"colorscheme\": \"redCarbon\", \"radius\": 0.2}});\n",
       "\tviewer_1549063585750269.addStyle({\"resi\": \"83\", \"chain\": \"A\"},{\"sphere\": {\"color\": \"red\", \"opacity\": 0.8}});\n",
       "\tviewer_1549063585750269.addLabel(\"chr6:g.52619766C>T\",{\"fontSize\": 12, \"fontColor\": \"black\", \"backgroundColor\": \"ivory\"},{\"resi\": \"83\", \"chain\": \"A\"});\n",
       "\tviewer_1549063585750269.addStyle({\"chain\": \"A\", \"resi\": \"83\", \"byres\": true, \"expand\": 8},{\"stick\": {\"colorscheme\": \"orangeCarbon\", \"radius\": 0.15}});\n",
       "\tviewer_1549063585750269.zoomTo({\"chain\": \"A\", \"resi\": \"83\", \"byres\": true, \"expand\": 8});\n",
       "viewer_1549063585750269.render();\n",
       "})\n",
       "});\n",
       "</script>"
      ]
     },
     "metadata": {},
     "output_type": "display_data"
    }
   ],
   "source": [
    "view_single_mutation(pdb_filtered, distance_cutoff);"
   ]
  },
  {
   "cell_type": "code",
   "execution_count": 18,
   "metadata": {
    "code_folding": [
     0
    ]
   },
   "outputs": [],
   "source": [
    "# Shutdown Spark\n",
    "spark = SparkSession.builder.getOrCreate().stop()"
   ]
  },
  {
   "cell_type": "markdown",
   "metadata": {},
   "source": [
    "## Now run the next step\n",
    "Map mutations occuring at protein-polymer interfaces: [3-MapToPolymerInteractions.ipynb](3-MapToPolymerInteractions.ipynb)"
   ]
  }
 ],
 "metadata": {
  "kernelspec": {
   "display_name": "Python 3",
   "language": "python",
   "name": "python3"
  },
  "language_info": {
   "codemirror_mode": {
    "name": "ipython",
    "version": 3
   },
   "file_extension": ".py",
   "mimetype": "text/x-python",
   "name": "python",
   "nbconvert_exporter": "python",
   "pygments_lexer": "ipython3",
   "version": "3.7.1"
  }
 },
 "nbformat": 4,
 "nbformat_minor": 2
}
