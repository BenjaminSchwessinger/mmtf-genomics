{
 "cells": [
  {
   "cell_type": "markdown",
   "metadata": {},
   "source": [
    "## Map Mutations to Protein-Protein and Protein-Nucleic Acid Interfaces\n",
    "Here we find and visualize the mutations that occur around protein-protein and protein-nucleic acid interfaces."
   ]
  },
  {
   "cell_type": "code",
   "execution_count": 1,
   "metadata": {},
   "outputs": [],
   "source": [
    "from pyspark.sql import SparkSession\n",
    "from mmtfPyspark.io import mmtfReader\n",
    "from mmtfPyspark.interactions import InteractionExtractor, InteractionFilter\n",
    "from ipywidgets import interact, IntSlider\n",
    "import py3Dmol\n",
    "import pandas as pd"
   ]
  },
  {
   "cell_type": "code",
   "execution_count": 2,
   "metadata": {
    "code_folding": [
     0
    ]
   },
   "outputs": [],
   "source": [
    "# Initialize Spark\n",
    "spark = SparkSession.builder.master(\"local[4]\").appName(\"3-MapToPolymerInteractions\").getOrCreate()"
   ]
  },
  {
   "cell_type": "markdown",
   "metadata": {},
   "source": [
    "#### Input parameters"
   ]
  },
  {
   "cell_type": "code",
   "execution_count": 3,
   "metadata": {},
   "outputs": [],
   "source": [
    "distance_cutoff = 8 # distance cutoff for finding and visualizing interactions\n",
    "input_file_name = 'mutations3d.csv' # mutations mapped to 3D protein structures"
   ]
  },
  {
   "cell_type": "markdown",
   "metadata": {},
   "source": [
    "## Read mutation file created in the previous step"
   ]
  },
  {
   "cell_type": "code",
   "execution_count": 4,
   "metadata": {
    "jupyter": {
     "source_hidden": true
    },
    "scrolled": true
   },
   "outputs": [
    {
     "data": {
      "text/html": [
       "<div>\n",
       "<style scoped>\n",
       "    .dataframe tbody tr th:only-of-type {\n",
       "        vertical-align: middle;\n",
       "    }\n",
       "\n",
       "    .dataframe tbody tr th {\n",
       "        vertical-align: top;\n",
       "    }\n",
       "\n",
       "    .dataframe thead th {\n",
       "        text-align: right;\n",
       "    }\n",
       "</style>\n",
       "<table border=\"1\" class=\"dataframe\">\n",
       "  <thead>\n",
       "    <tr style=\"text-align: right;\">\n",
       "      <th></th>\n",
       "      <th>structureId</th>\n",
       "      <th>chainId</th>\n",
       "      <th>pdbPosition</th>\n",
       "      <th>pdbAminoAcid</th>\n",
       "      <th>refGenome</th>\n",
       "      <th>variationId</th>\n",
       "      <th>tax_id</th>\n",
       "      <th>scientific_name</th>\n",
       "      <th>structureChainId</th>\n",
       "    </tr>\n",
       "  </thead>\n",
       "  <tbody>\n",
       "    <tr>\n",
       "      <th>0</th>\n",
       "      <td>1GUH</td>\n",
       "      <td>A</td>\n",
       "      <td>83</td>\n",
       "      <td>G</td>\n",
       "      <td>hgvs-grch37</td>\n",
       "      <td>chr6:g.52619766C&gt;T</td>\n",
       "      <td>9606</td>\n",
       "      <td>Homo sapiens</td>\n",
       "      <td>1GUH.A</td>\n",
       "    </tr>\n",
       "    <tr>\n",
       "      <th>1</th>\n",
       "      <td>1XZ7</td>\n",
       "      <td>B</td>\n",
       "      <td>108</td>\n",
       "      <td>N</td>\n",
       "      <td>hgvs-grch37</td>\n",
       "      <td>chr11:g.5246945G&gt;T</td>\n",
       "      <td>9606</td>\n",
       "      <td>Homo sapiens</td>\n",
       "      <td>1XZ7.B</td>\n",
       "    </tr>\n",
       "    <tr>\n",
       "      <th>2</th>\n",
       "      <td>2VCT</td>\n",
       "      <td>D</td>\n",
       "      <td>83</td>\n",
       "      <td>G</td>\n",
       "      <td>hgvs-grch37</td>\n",
       "      <td>chr6:g.52619766C&gt;T</td>\n",
       "      <td>9606</td>\n",
       "      <td>Homo sapiens</td>\n",
       "      <td>2VCT.D</td>\n",
       "    </tr>\n",
       "    <tr>\n",
       "      <th>3</th>\n",
       "      <td>3KMF</td>\n",
       "      <td>G</td>\n",
       "      <td>708</td>\n",
       "      <td>N</td>\n",
       "      <td>hgvs-grch37</td>\n",
       "      <td>chr11:g.5246945G&gt;T</td>\n",
       "      <td>9606</td>\n",
       "      <td>Homo sapiens</td>\n",
       "      <td>3KMF.G</td>\n",
       "    </tr>\n",
       "    <tr>\n",
       "      <th>4</th>\n",
       "      <td>1GSF</td>\n",
       "      <td>D</td>\n",
       "      <td>83</td>\n",
       "      <td>G</td>\n",
       "      <td>hgvs-grch37</td>\n",
       "      <td>chr6:g.52619766C&gt;T</td>\n",
       "      <td>9606</td>\n",
       "      <td>Homo sapiens</td>\n",
       "      <td>1GSF.D</td>\n",
       "    </tr>\n",
       "  </tbody>\n",
       "</table>\n",
       "</div>"
      ],
      "text/plain": [
       "  structureId chainId pdbPosition pdbAminoAcid    refGenome  \\\n",
       "0        1GUH       A          83            G  hgvs-grch37   \n",
       "1        1XZ7       B         108            N  hgvs-grch37   \n",
       "2        2VCT       D          83            G  hgvs-grch37   \n",
       "3        3KMF       G         708            N  hgvs-grch37   \n",
       "4        1GSF       D          83            G  hgvs-grch37   \n",
       "\n",
       "          variationId  tax_id scientific_name structureChainId  \n",
       "0  chr6:g.52619766C>T    9606    Homo sapiens           1GUH.A  \n",
       "1  chr11:g.5246945G>T    9606    Homo sapiens           1XZ7.B  \n",
       "2  chr6:g.52619766C>T    9606    Homo sapiens           2VCT.D  \n",
       "3  chr11:g.5246945G>T    9606    Homo sapiens           3KMF.G  \n",
       "4  chr6:g.52619766C>T    9606    Homo sapiens           1GSF.D  "
      ]
     },
     "execution_count": 4,
     "metadata": {},
     "output_type": "execute_result"
    }
   ],
   "source": [
    "df = pd.read_csv(input_file_name)\n",
    "df['pdbPosition'] = df['pdbPosition'].astype('str') # PDB residue numbers must be string to handle insertion codes\n",
    "df.head()"
   ]
  },
  {
   "cell_type": "markdown",
   "metadata": {},
   "source": [
    "## Create a list of unique PDB Ids"
   ]
  },
  {
   "cell_type": "code",
   "execution_count": 5,
   "metadata": {
    "scrolled": true
   },
   "outputs": [
    {
     "name": "stdout",
     "output_type": "stream",
     "text": [
      "PDB Ids: ['1GUH', '1XZ7', '2VCT', '3KMF', '1GSF', '1YDZ', '6ATQ', '1Y09', '6ATO', '2FO0', '1XYE', '4ACS', '2WJU', '4WA9', '2G1T', '1XY0', '4TWP', '1K3Y', '1YHE', '1OPL', '2V7A', '1YHR', '1YZI', '1QXD', '1XZV', '1VWT', '3UE4', '2R6K', '1PL1', '3QRI', '1DXT', '6FQF', '2HIW', '2GQG', '1XZ4', '6ATR', '2F4J', '1Y0A', '1Y0D', '1XZU', '2W6V', '1YH9', '2G2H', '5JCU', '4ZOG', '1XZ5', '1GSE', '1Y0C', '1Y8W', '2HZI', '1PKW', '3KTL', '3QRK', '1XXT', '1XZ2', '6ATP', '1K3L', '4XS0', '2G2F', '5MO4']\n"
     ]
    }
   ],
   "source": [
    "pdb_ids = list(df.structureId.drop_duplicates())\n",
    "print(\"PDB Ids:\", pdb_ids)"
   ]
  },
  {
   "cell_type": "markdown",
   "metadata": {},
   "source": [
    "## Find all polymer-polymer interactions\n",
    "Find groups (residues) that interact with other polymer chains"
   ]
  },
  {
   "cell_type": "code",
   "execution_count": 6,
   "metadata": {},
   "outputs": [],
   "source": [
    "structures = mmtfReader.download_mmtf_files(pdb_ids)"
   ]
  },
  {
   "cell_type": "markdown",
   "metadata": {},
   "source": [
    "queryGroupId, queryChainId, and queryGroupNumber specify the residue that interacts with another chain (targetChainId)"
   ]
  },
  {
   "cell_type": "code",
   "execution_count": 7,
   "metadata": {
    "scrolled": true
   },
   "outputs": [
    {
     "data": {
      "text/html": [
       "<div>\n",
       "<style scoped>\n",
       "    .dataframe tbody tr th:only-of-type {\n",
       "        vertical-align: middle;\n",
       "    }\n",
       "\n",
       "    .dataframe tbody tr th {\n",
       "        vertical-align: top;\n",
       "    }\n",
       "\n",
       "    .dataframe thead th {\n",
       "        text-align: right;\n",
       "    }\n",
       "</style>\n",
       "<table border=\"1\" class=\"dataframe\">\n",
       "  <thead>\n",
       "    <tr style=\"text-align: right;\">\n",
       "      <th></th>\n",
       "      <th>structureChainId</th>\n",
       "      <th>queryGroupId</th>\n",
       "      <th>queryChainId</th>\n",
       "      <th>queryGroupNumber</th>\n",
       "      <th>targetChainId</th>\n",
       "    </tr>\n",
       "  </thead>\n",
       "  <tbody>\n",
       "    <tr>\n",
       "      <th>0</th>\n",
       "      <td>1XY0.B</td>\n",
       "      <td>LEU</td>\n",
       "      <td>A</td>\n",
       "      <td>125</td>\n",
       "      <td>B</td>\n",
       "    </tr>\n",
       "    <tr>\n",
       "      <th>1</th>\n",
       "      <td>1XY0.A</td>\n",
       "      <td>PRO</td>\n",
       "      <td>B</td>\n",
       "      <td>36</td>\n",
       "      <td>A</td>\n",
       "    </tr>\n",
       "    <tr>\n",
       "      <th>2</th>\n",
       "      <td>1XY0.B</td>\n",
       "      <td>LEU</td>\n",
       "      <td>A</td>\n",
       "      <td>100</td>\n",
       "      <td>B</td>\n",
       "    </tr>\n",
       "    <tr>\n",
       "      <th>3</th>\n",
       "      <td>1XY0.C</td>\n",
       "      <td>PRO</td>\n",
       "      <td>B</td>\n",
       "      <td>36</td>\n",
       "      <td>C</td>\n",
       "    </tr>\n",
       "    <tr>\n",
       "      <th>4</th>\n",
       "      <td>1XY0.D</td>\n",
       "      <td>PHE</td>\n",
       "      <td>C</td>\n",
       "      <td>117</td>\n",
       "      <td>D</td>\n",
       "    </tr>\n",
       "  </tbody>\n",
       "</table>\n",
       "</div>"
      ],
      "text/plain": [
       "  structureChainId queryGroupId queryChainId queryGroupNumber targetChainId\n",
       "0           1XY0.B          LEU            A              125             B\n",
       "1           1XY0.A          PRO            B               36             A\n",
       "2           1XY0.B          LEU            A              100             B\n",
       "3           1XY0.C          PRO            B               36             C\n",
       "4           1XY0.D          PHE            C              117             D"
      ]
     },
     "execution_count": 7,
     "metadata": {},
     "output_type": "execute_result"
    }
   ],
   "source": [
    "interaction_filter = InteractionFilter(distanceCutoff=distance_cutoff)\n",
    "\n",
    "interactions = InteractionExtractor().get_polymer_interactions(structures, interaction_filter, level='chain').toPandas()\n",
    "interactions.head()"
   ]
  },
  {
   "cell_type": "markdown",
   "metadata": {},
   "source": [
    "## Filter mutations by joining with the interaction data"
   ]
  },
  {
   "cell_type": "code",
   "execution_count": 8,
   "metadata": {},
   "outputs": [
    {
     "data": {
      "text/html": [
       "<div>\n",
       "<style scoped>\n",
       "    .dataframe tbody tr th:only-of-type {\n",
       "        vertical-align: middle;\n",
       "    }\n",
       "\n",
       "    .dataframe tbody tr th {\n",
       "        vertical-align: top;\n",
       "    }\n",
       "\n",
       "    .dataframe thead th {\n",
       "        text-align: right;\n",
       "    }\n",
       "</style>\n",
       "<table border=\"1\" class=\"dataframe\">\n",
       "  <thead>\n",
       "    <tr style=\"text-align: right;\">\n",
       "      <th></th>\n",
       "      <th>structureId</th>\n",
       "      <th>chainId</th>\n",
       "      <th>pdbPosition</th>\n",
       "      <th>pdbAminoAcid</th>\n",
       "      <th>refGenome</th>\n",
       "      <th>variationId</th>\n",
       "      <th>tax_id</th>\n",
       "      <th>scientific_name</th>\n",
       "      <th>structureChainId</th>\n",
       "      <th>queryGroupId</th>\n",
       "      <th>queryChainId</th>\n",
       "      <th>queryGroupNumber</th>\n",
       "      <th>targetChainId</th>\n",
       "    </tr>\n",
       "  </thead>\n",
       "  <tbody>\n",
       "    <tr>\n",
       "      <th>0</th>\n",
       "      <td>1XZ7</td>\n",
       "      <td>B</td>\n",
       "      <td>108</td>\n",
       "      <td>N</td>\n",
       "      <td>hgvs-grch37</td>\n",
       "      <td>chr11:g.5246945G&gt;T</td>\n",
       "      <td>9606</td>\n",
       "      <td>Homo sapiens</td>\n",
       "      <td>1XZ7.B</td>\n",
       "      <td>THR</td>\n",
       "      <td>A</td>\n",
       "      <td>108</td>\n",
       "      <td>B</td>\n",
       "    </tr>\n",
       "    <tr>\n",
       "      <th>1</th>\n",
       "      <td>1YDZ</td>\n",
       "      <td>B</td>\n",
       "      <td>108</td>\n",
       "      <td>N</td>\n",
       "      <td>hgvs-grch37</td>\n",
       "      <td>chr11:g.5246945G&gt;T</td>\n",
       "      <td>9606</td>\n",
       "      <td>Homo sapiens</td>\n",
       "      <td>1YDZ.B</td>\n",
       "      <td>THR</td>\n",
       "      <td>A</td>\n",
       "      <td>108</td>\n",
       "      <td>B</td>\n",
       "    </tr>\n",
       "    <tr>\n",
       "      <th>2</th>\n",
       "      <td>1Y09</td>\n",
       "      <td>D</td>\n",
       "      <td>108</td>\n",
       "      <td>N</td>\n",
       "      <td>hgvs-grch37</td>\n",
       "      <td>chr11:g.5246945G&gt;T</td>\n",
       "      <td>9606</td>\n",
       "      <td>Homo sapiens</td>\n",
       "      <td>1Y09.D</td>\n",
       "      <td>THR</td>\n",
       "      <td>C</td>\n",
       "      <td>108</td>\n",
       "      <td>D</td>\n",
       "    </tr>\n",
       "    <tr>\n",
       "      <th>3</th>\n",
       "      <td>1XYE</td>\n",
       "      <td>B</td>\n",
       "      <td>108</td>\n",
       "      <td>N</td>\n",
       "      <td>hgvs-grch37</td>\n",
       "      <td>chr11:g.5246945G&gt;T</td>\n",
       "      <td>9606</td>\n",
       "      <td>Homo sapiens</td>\n",
       "      <td>1XYE.B</td>\n",
       "      <td>THR</td>\n",
       "      <td>A</td>\n",
       "      <td>108</td>\n",
       "      <td>B</td>\n",
       "    </tr>\n",
       "    <tr>\n",
       "      <th>4</th>\n",
       "      <td>1XY0</td>\n",
       "      <td>B</td>\n",
       "      <td>108</td>\n",
       "      <td>N</td>\n",
       "      <td>hgvs-grch37</td>\n",
       "      <td>chr11:g.5246945G&gt;T</td>\n",
       "      <td>9606</td>\n",
       "      <td>Homo sapiens</td>\n",
       "      <td>1XY0.B</td>\n",
       "      <td>THR</td>\n",
       "      <td>A</td>\n",
       "      <td>108</td>\n",
       "      <td>B</td>\n",
       "    </tr>\n",
       "  </tbody>\n",
       "</table>\n",
       "</div>"
      ],
      "text/plain": [
       "  structureId chainId pdbPosition pdbAminoAcid    refGenome  \\\n",
       "0        1XZ7       B         108            N  hgvs-grch37   \n",
       "1        1YDZ       B         108            N  hgvs-grch37   \n",
       "2        1Y09       D         108            N  hgvs-grch37   \n",
       "3        1XYE       B         108            N  hgvs-grch37   \n",
       "4        1XY0       B         108            N  hgvs-grch37   \n",
       "\n",
       "          variationId  tax_id scientific_name structureChainId queryGroupId  \\\n",
       "0  chr11:g.5246945G>T    9606    Homo sapiens           1XZ7.B          THR   \n",
       "1  chr11:g.5246945G>T    9606    Homo sapiens           1YDZ.B          THR   \n",
       "2  chr11:g.5246945G>T    9606    Homo sapiens           1Y09.D          THR   \n",
       "3  chr11:g.5246945G>T    9606    Homo sapiens           1XYE.B          THR   \n",
       "4  chr11:g.5246945G>T    9606    Homo sapiens           1XY0.B          THR   \n",
       "\n",
       "  queryChainId queryGroupNumber targetChainId  \n",
       "0            A              108             B  \n",
       "1            A              108             B  \n",
       "2            C              108             D  \n",
       "3            A              108             B  \n",
       "4            A              108             B  "
      ]
     },
     "execution_count": 8,
     "metadata": {},
     "output_type": "execute_result"
    }
   ],
   "source": [
    "mt = df.merge(interactions, left_on=['structureChainId','pdbPosition'], right_on=['structureChainId','queryGroupNumber'], how='inner')\n",
    "mt.head()"
   ]
  },
  {
   "cell_type": "code",
   "execution_count": 9,
   "metadata": {},
   "outputs": [
    {
     "name": "stdout",
     "output_type": "stream",
     "text": [
      "Chains: ['1DXT.B', '1QXD.D', '1VWT.D', '1XXT.D', '1XY0.B', '1XYE.B', '1XZ2.D', '1XZ4.B', '1XZ5.B', '1XZ7.B', '1XZU.D', '1XZV.B', '1Y09.D', '1Y0A.B', '1Y0C.B', '1Y0D.B', '1Y8W.B', '1YDZ.B', '1YH9.B', '1YHE.D', '1YHR.B', '1YZI.B', '2W6V.D', '4XS0.B', '6FQF.D']\n"
     ]
    }
   ],
   "source": [
    "chains = mt.groupby('structureChainId')\n",
    "print(\"Chains:\", list(chains.groups.keys()))"
   ]
  },
  {
   "cell_type": "code",
   "execution_count": 10,
   "metadata": {
    "code_folding": [
     0
    ],
    "jupyter": {
     "source_hidden": true
    }
   },
   "outputs": [],
   "source": [
    "def view_grouped_mutations(grouped_df, *args):\n",
    "    chainIds = list(grouped_df.groups.keys())\n",
    "\n",
    "    def view3d(show_bio_assembly=False, show_surface=False, show_labels=True, i=0):\n",
    "        group = grouped_df.get_group(chainIds[i])\n",
    "        \n",
    "        pdb_id, chain_id = chainIds[i].split('.')\n",
    "        viewer = py3Dmol.view(query='pdb:' + pdb_id, options={'doAssembly': show_bio_assembly})\n",
    "\n",
    "        # polymer style\n",
    "        viewer.setStyle({'cartoon': {'colorscheme': 'chain', 'width': 0.6, 'opacity':0.9}})\n",
    " \n",
    "        # highlight chain of interest in blue\n",
    "        viewer.setStyle({'chain': chain_id},{'cartoon': {'color': 'blue'}})\n",
    "        \n",
    "        # non-polymer style\n",
    "        viewer.setStyle({'hetflag': True}, {'stick':{'radius': 0.3, 'singleBond': False}})\n",
    "    \n",
    "        # don't display water molecules\n",
    "        viewer.setStyle({'resn': ['HOH','DOD']}, {})\n",
    "        \n",
    "        rows = group.shape[0]\n",
    "        for j in range(0, rows):\n",
    "            res_num = str(group.iloc[j]['pdbPosition'])\n",
    "            mod_res = {'resi': res_num, 'chain': chain_id} \n",
    "            col = 'red'\n",
    "            c_col = col + 'Carbon'\n",
    "            viewer.addStyle(mod_res, {'stick':{'colorscheme':c_col, 'radius': 0.2}})\n",
    "            viewer.addStyle(mod_res, {'sphere':{'color':col, 'opacity': 0.6}})          \n",
    "            if show_labels:\n",
    "                label = group.iloc[j]['variationId']\n",
    "                viewer.addLabel(label, {'fontSize':7,'fontColor': 'black','backgroundColor':'ivory'}, {'resi': res_num, 'chain': chain_id})\n",
    "        \n",
    "        viewer.zoomTo({'chain': chain_id})\n",
    "        \n",
    "        if show_surface:\n",
    "             viewer.addSurface(py3Dmol.SES,{'opacity':0.8,'color':'lightblue'},{'chain': chain_id})\n",
    "                \n",
    "        #print header\n",
    "        print(\"PDB Id: \" + pdb_id + \" chain Id: \" + chain_id)\n",
    "                \n",
    "        return viewer.show()\n",
    "       \n",
    "    s_widget = IntSlider(min=0, max=len(chainIds)-1, description='Structure', continuous_update=False)\n",
    "    \n",
    "    return interact(view3d, show_bio_assembly=False, show_surface=False, show_labels=True, i=s_widget)"
   ]
  },
  {
   "cell_type": "code",
   "execution_count": 11,
   "metadata": {},
   "outputs": [
    {
     "data": {
      "application/vnd.jupyter.widget-view+json": {
       "model_id": "d0011fd4e6734bf3a9c3a0a40b3e1bce",
       "version_major": 2,
       "version_minor": 0
      },
      "text/plain": [
       "interactive(children=(Checkbox(value=False, description='show_bio_assembly'), Checkbox(value=False, descriptio…"
      ]
     },
     "metadata": {},
     "output_type": "display_data"
    }
   ],
   "source": [
    "view_grouped_mutations(chains);"
   ]
  },
  {
   "cell_type": "markdown",
   "metadata": {},
   "source": [
    "## View one mutation at a time\n",
    "Use the slider to view each mutation. Interacting residues within the `distance_cutoff` are rendered as orange sticks."
   ]
  },
  {
   "cell_type": "code",
   "execution_count": 12,
   "metadata": {
    "code_folding": [
     0
    ],
    "jupyter": {
     "source_hidden": true
    }
   },
   "outputs": [],
   "source": [
    "def view_single_mutation(df, distance_cutoff, *args):\n",
    "\n",
    "    def view3d(show_bio_assembly=False, show_surface=False, show_labels=True, i=0):        \n",
    "        pdb_id, chain_id = df.iloc[i]['structureChainId'].split('.')\n",
    "        \n",
    "        viewer = py3Dmol.view(query='pdb:' + pdb_id, options={'doAssembly': show_bio_assembly})\n",
    "\n",
    "        # polymer style\n",
    "        viewer.setStyle({'cartoon': {'colorscheme': 'chain', 'width': 0.6, 'opacity':0.9}})\n",
    "        \n",
    "        # highlight chain of interest in blue\n",
    "        viewer.setStyle({'chain': chain_id},{'cartoon': {'color': 'blue', 'opacity':0.7}})\n",
    "        \n",
    "        # non-polymer style\n",
    "        viewer.setStyle({'hetflag': True}, {'stick':{'radius': 0.3, 'singleBond': False}})\n",
    "        \n",
    "        # interacting residue style\n",
    "        res_num = str(df.iloc[i]['pdbPosition'])\n",
    "        label = df.iloc[i]['variationId']     \n",
    "        mod_res = {'resi': res_num, 'chain': chain_id} \n",
    "        col = 'red'\n",
    "        c_col = col + 'Carbon'\n",
    "        viewer.addStyle(mod_res, {'stick':{'colorscheme':c_col, 'radius': 0.2}})\n",
    "        viewer.addStyle(mod_res, {'sphere':{'color':col, 'opacity': 0.8}})   \n",
    "        \n",
    "        # don't display water molecules (except below for interactions)\n",
    "        viewer.setStyle({'resn': ['HOH','DOD']}, {})\n",
    "        \n",
    "        #if show_labels:\n",
    "        #    viewer.addLabel(label, {'fontSize':12,'fontColor': 'black','backgroundColor':'ivory'}, mod_res)\n",
    "            \n",
    "        # select residues in interacting chains by distance from mutation site (same chain is excluded)\n",
    "        surroundings = {'not': {'chain': chain_id}, 'byres': True, 'within': {'distance': distance_cutoff, 'sel': mod_res}}\n",
    "        \n",
    "        # set style for interacting residues\n",
    "        viewer.setStyle(surroundings,{'cartoon':{'color':'orange', 'width': 0.6}})\n",
    "        viewer.addStyle(surroundings,{'stick':{'colorscheme':'orangeCarbon', 'radius': 0.15}})\n",
    "        \n",
    "        if show_labels:\n",
    "            viewer.addResLabels(surroundings, {'fontSize':10})\n",
    "            viewer.addLabel(label, {'fontSize':12,'fontColor': 'black','backgroundColor':'ivory'}, mod_res)\n",
    "            \n",
    "        viewer.zoomTo(surroundings)\n",
    "        \n",
    "        if show_surface:\n",
    "             viewer.addSurface(py3Dmol.SES, {'opacity':0.8,'color':'lightblue'}, {'chain': chain_id})\n",
    "                \n",
    "        #print header\n",
    "        print(\"PDB Id:\", pdb_id, \"chain Id:\" , chain_id, \"residue:\", res_num, \"mutation:\", label)\n",
    "        \n",
    "        # print any specified additional columns from the dataframe\n",
    "        for a in args:\n",
    "            print(a + \": \" + df.iloc[i][a])\n",
    "                \n",
    "        return viewer.show()\n",
    "       \n",
    "    s_widget = IntSlider(min=0, max=len(df)-1, description='Structure', continuous_update=False)\n",
    "    \n",
    "    return interact(view3d, show_bio_assembly=False, show_surface=False, show_labels=True, i=s_widget)"
   ]
  },
  {
   "cell_type": "code",
   "execution_count": 13,
   "metadata": {
    "scrolled": true
   },
   "outputs": [
    {
     "data": {
      "application/vnd.jupyter.widget-view+json": {
       "model_id": "5f8e51e14816401eae9e6f93bd4d7794",
       "version_major": 2,
       "version_minor": 0
      },
      "text/plain": [
       "interactive(children=(Checkbox(value=False, description='show_bio_assembly'), Checkbox(value=False, descriptio…"
      ]
     },
     "metadata": {},
     "output_type": "display_data"
    }
   ],
   "source": [
    "view_single_mutation(mt, distance_cutoff);"
   ]
  },
  {
   "cell_type": "code",
   "execution_count": 14,
   "metadata": {
    "code_folding": [
     0
    ]
   },
   "outputs": [],
   "source": [
    "# Shutdown Spark\n",
    "spark.stop()"
   ]
  },
  {
   "cell_type": "markdown",
   "metadata": {},
   "source": [
    "## Now run the next step\n",
    "Map mutations occuring at protein-ligand binding sites: [4-MapToLigandInteractions.ipynb](4-MapToLigandInteractions.ipynb)"
   ]
  }
 ],
 "metadata": {
  "kernelspec": {
   "display_name": "Python 3",
   "language": "python",
   "name": "python3"
  },
  "language_info": {
   "codemirror_mode": {
    "name": "ipython",
    "version": 3
   },
   "file_extension": ".py",
   "mimetype": "text/x-python",
   "name": "python",
   "nbconvert_exporter": "python",
   "pygments_lexer": "ipython3",
   "version": "3.7.1"
  }
 },
 "nbformat": 4,
 "nbformat_minor": 2
}
