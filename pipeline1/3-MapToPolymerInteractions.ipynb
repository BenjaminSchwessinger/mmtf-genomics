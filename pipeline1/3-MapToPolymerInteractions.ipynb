{
 "cells": [
  {
   "cell_type": "markdown",
   "metadata": {},
   "source": [
    "## Map Mutations to Protein-Protein and Protein-Nucleic Acid Interfaces\n",
    "Here we find and visualize the mutations that occur around protein-protein and protein-nucleic acid interfaces."
   ]
  },
  {
   "cell_type": "code",
   "execution_count": 1,
   "metadata": {},
   "outputs": [],
   "source": [
    "from pyspark.sql import SparkSession\n",
    "from mmtfPyspark.io import mmtfReader\n",
    "from mmtfPyspark.interactions import InteractionExtractor, InteractionFilter\n",
    "from ipywidgets import interact, IntSlider\n",
    "import py3Dmol\n",
    "import pandas as pd"
   ]
  },
  {
   "cell_type": "code",
   "execution_count": 2,
   "metadata": {
    "code_folding": [
     0
    ]
   },
   "outputs": [],
   "source": [
    "# Initialize Spark\n",
    "spark = SparkSession.builder.master(\"local[4]\").appName(\"3-MapToPolymerInteractions\").getOrCreate()"
   ]
  },
  {
   "cell_type": "markdown",
   "metadata": {},
   "source": [
    "#### Input parameters"
   ]
  },
  {
   "cell_type": "code",
   "execution_count": 3,
   "metadata": {},
   "outputs": [],
   "source": [
    "distance_cutoff = 8 # distance cutoff for finding and visualizing interactions\n",
    "input_file_name = 'mutations3d.csv' # mutations mapped to 3D protein structures"
   ]
  },
  {
   "cell_type": "markdown",
   "metadata": {},
   "source": [
    "## Read mutation file created in the previous step"
   ]
  },
  {
   "cell_type": "code",
   "execution_count": 4,
   "metadata": {
    "jupyter": {
     "source_hidden": true
    },
    "scrolled": true
   },
   "outputs": [
    {
     "data": {
      "text/html": [
       "<div>\n",
       "<style scoped>\n",
       "    .dataframe tbody tr th:only-of-type {\n",
       "        vertical-align: middle;\n",
       "    }\n",
       "\n",
       "    .dataframe tbody tr th {\n",
       "        vertical-align: top;\n",
       "    }\n",
       "\n",
       "    .dataframe thead th {\n",
       "        text-align: right;\n",
       "    }\n",
       "</style>\n",
       "<table border=\"1\" class=\"dataframe\">\n",
       "  <thead>\n",
       "    <tr style=\"text-align: right;\">\n",
       "      <th></th>\n",
       "      <th>alignmentId</th>\n",
       "      <th>bitscore</th>\n",
       "      <th>chainId</th>\n",
       "      <th>evalue</th>\n",
       "      <th>identity</th>\n",
       "      <th>identityPositive</th>\n",
       "      <th>midlineAlign</th>\n",
       "      <th>pdbAlign</th>\n",
       "      <th>pdbFrom</th>\n",
       "      <th>pdbId</th>\n",
       "      <th>...</th>\n",
       "      <th>pdbPosition</th>\n",
       "      <th>pdbAminoAcid</th>\n",
       "      <th>seqIdentity</th>\n",
       "      <th>tax_id</th>\n",
       "      <th>scientific_name</th>\n",
       "      <th>structureChainId</th>\n",
       "      <th>pdbResNum</th>\n",
       "      <th>pdbSeqNum</th>\n",
       "      <th>uniprotId</th>\n",
       "      <th>uniprotNum</th>\n",
       "    </tr>\n",
       "  </thead>\n",
       "  <tbody>\n",
       "    <tr>\n",
       "      <th>0</th>\n",
       "      <td>15184664</td>\n",
       "      <td>446.432</td>\n",
       "      <td>H</td>\n",
       "      <td>1.838750e-159</td>\n",
       "      <td>220.0</td>\n",
       "      <td>221.0</td>\n",
       "      <td>AEKPKLHYSNIRGRMESIRWLLAAAGVEFEEKFIKSAEDLDKLRND...</td>\n",
       "      <td>AEKPKLHYSNIRGRMESIRWLLAAAGVEFEEKFIKSAEDLDKLRND...</td>\n",
       "      <td>1</td>\n",
       "      <td>2wju</td>\n",
       "      <td>...</td>\n",
       "      <td>83</td>\n",
       "      <td>G</td>\n",
       "      <td>99.547511</td>\n",
       "      <td>9606</td>\n",
       "      <td>Homo sapiens</td>\n",
       "      <td>2WJU.H</td>\n",
       "      <td>83</td>\n",
       "      <td>83</td>\n",
       "      <td>P09210</td>\n",
       "      <td>83</td>\n",
       "    </tr>\n",
       "    <tr>\n",
       "      <th>1</th>\n",
       "      <td>15184664</td>\n",
       "      <td>446.432</td>\n",
       "      <td>H</td>\n",
       "      <td>1.838750e-159</td>\n",
       "      <td>220.0</td>\n",
       "      <td>221.0</td>\n",
       "      <td>AEKPKLHYSNIRGRMESIRWLLAAAGVEFEEKFIKSAEDLDKLRND...</td>\n",
       "      <td>AEKPKLHYSNIRGRMESIRWLLAAAGVEFEEKFIKSAEDLDKLRND...</td>\n",
       "      <td>1</td>\n",
       "      <td>2wju</td>\n",
       "      <td>...</td>\n",
       "      <td>83</td>\n",
       "      <td>G</td>\n",
       "      <td>99.547511</td>\n",
       "      <td>9606</td>\n",
       "      <td>Homo sapiens</td>\n",
       "      <td>2WJU.H</td>\n",
       "      <td>83</td>\n",
       "      <td>83</td>\n",
       "      <td>P09210</td>\n",
       "      <td>83</td>\n",
       "    </tr>\n",
       "    <tr>\n",
       "      <th>2</th>\n",
       "      <td>15184665</td>\n",
       "      <td>446.432</td>\n",
       "      <td>G</td>\n",
       "      <td>1.838750e-159</td>\n",
       "      <td>220.0</td>\n",
       "      <td>221.0</td>\n",
       "      <td>AEKPKLHYSNIRGRMESIRWLLAAAGVEFEEKFIKSAEDLDKLRND...</td>\n",
       "      <td>AEKPKLHYSNIRGRMESIRWLLAAAGVEFEEKFIKSAEDLDKLRND...</td>\n",
       "      <td>1</td>\n",
       "      <td>2wju</td>\n",
       "      <td>...</td>\n",
       "      <td>83</td>\n",
       "      <td>G</td>\n",
       "      <td>99.547511</td>\n",
       "      <td>9606</td>\n",
       "      <td>Homo sapiens</td>\n",
       "      <td>2WJU.G</td>\n",
       "      <td>83</td>\n",
       "      <td>83</td>\n",
       "      <td>P09210</td>\n",
       "      <td>83</td>\n",
       "    </tr>\n",
       "    <tr>\n",
       "      <th>3</th>\n",
       "      <td>15184665</td>\n",
       "      <td>446.432</td>\n",
       "      <td>G</td>\n",
       "      <td>1.838750e-159</td>\n",
       "      <td>220.0</td>\n",
       "      <td>221.0</td>\n",
       "      <td>AEKPKLHYSNIRGRMESIRWLLAAAGVEFEEKFIKSAEDLDKLRND...</td>\n",
       "      <td>AEKPKLHYSNIRGRMESIRWLLAAAGVEFEEKFIKSAEDLDKLRND...</td>\n",
       "      <td>1</td>\n",
       "      <td>2wju</td>\n",
       "      <td>...</td>\n",
       "      <td>83</td>\n",
       "      <td>G</td>\n",
       "      <td>99.547511</td>\n",
       "      <td>9606</td>\n",
       "      <td>Homo sapiens</td>\n",
       "      <td>2WJU.G</td>\n",
       "      <td>83</td>\n",
       "      <td>83</td>\n",
       "      <td>P09210</td>\n",
       "      <td>83</td>\n",
       "    </tr>\n",
       "    <tr>\n",
       "      <th>4</th>\n",
       "      <td>15184666</td>\n",
       "      <td>446.432</td>\n",
       "      <td>F</td>\n",
       "      <td>1.838750e-159</td>\n",
       "      <td>220.0</td>\n",
       "      <td>221.0</td>\n",
       "      <td>AEKPKLHYSNIRGRMESIRWLLAAAGVEFEEKFIKSAEDLDKLRND...</td>\n",
       "      <td>AEKPKLHYSNIRGRMESIRWLLAAAGVEFEEKFIKSAEDLDKLRND...</td>\n",
       "      <td>1</td>\n",
       "      <td>2wju</td>\n",
       "      <td>...</td>\n",
       "      <td>83</td>\n",
       "      <td>G</td>\n",
       "      <td>99.547511</td>\n",
       "      <td>9606</td>\n",
       "      <td>Homo sapiens</td>\n",
       "      <td>2WJU.F</td>\n",
       "      <td>83</td>\n",
       "      <td>83</td>\n",
       "      <td>P09210</td>\n",
       "      <td>83</td>\n",
       "    </tr>\n",
       "  </tbody>\n",
       "</table>\n",
       "<p>5 rows × 33 columns</p>\n",
       "</div>"
      ],
      "text/plain": [
       "   alignmentId  bitscore chainId         evalue  identity  identityPositive  \\\n",
       "0     15184664   446.432       H  1.838750e-159     220.0             221.0   \n",
       "1     15184664   446.432       H  1.838750e-159     220.0             221.0   \n",
       "2     15184665   446.432       G  1.838750e-159     220.0             221.0   \n",
       "3     15184665   446.432       G  1.838750e-159     220.0             221.0   \n",
       "4     15184666   446.432       F  1.838750e-159     220.0             221.0   \n",
       "\n",
       "                                        midlineAlign  \\\n",
       "0  AEKPKLHYSNIRGRMESIRWLLAAAGVEFEEKFIKSAEDLDKLRND...   \n",
       "1  AEKPKLHYSNIRGRMESIRWLLAAAGVEFEEKFIKSAEDLDKLRND...   \n",
       "2  AEKPKLHYSNIRGRMESIRWLLAAAGVEFEEKFIKSAEDLDKLRND...   \n",
       "3  AEKPKLHYSNIRGRMESIRWLLAAAGVEFEEKFIKSAEDLDKLRND...   \n",
       "4  AEKPKLHYSNIRGRMESIRWLLAAAGVEFEEKFIKSAEDLDKLRND...   \n",
       "\n",
       "                                            pdbAlign  pdbFrom pdbId  \\\n",
       "0  AEKPKLHYSNIRGRMESIRWLLAAAGVEFEEKFIKSAEDLDKLRND...        1  2wju   \n",
       "1  AEKPKLHYSNIRGRMESIRWLLAAAGVEFEEKFIKSAEDLDKLRND...        1  2wju   \n",
       "2  AEKPKLHYSNIRGRMESIRWLLAAAGVEFEEKFIKSAEDLDKLRND...        1  2wju   \n",
       "3  AEKPKLHYSNIRGRMESIRWLLAAAGVEFEEKFIKSAEDLDKLRND...        1  2wju   \n",
       "4  AEKPKLHYSNIRGRMESIRWLLAAAGVEFEEKFIKSAEDLDKLRND...        1  2wju   \n",
       "\n",
       "      ...     pdbPosition  pdbAminoAcid  seqIdentity tax_id scientific_name  \\\n",
       "0     ...              83             G    99.547511   9606    Homo sapiens   \n",
       "1     ...              83             G    99.547511   9606    Homo sapiens   \n",
       "2     ...              83             G    99.547511   9606    Homo sapiens   \n",
       "3     ...              83             G    99.547511   9606    Homo sapiens   \n",
       "4     ...              83             G    99.547511   9606    Homo sapiens   \n",
       "\n",
       "   structureChainId pdbResNum  pdbSeqNum  uniprotId  uniprotNum  \n",
       "0            2WJU.H        83         83     P09210          83  \n",
       "1            2WJU.H        83         83     P09210          83  \n",
       "2            2WJU.G        83         83     P09210          83  \n",
       "3            2WJU.G        83         83     P09210          83  \n",
       "4            2WJU.F        83         83     P09210          83  \n",
       "\n",
       "[5 rows x 33 columns]"
      ]
     },
     "execution_count": 4,
     "metadata": {},
     "output_type": "execute_result"
    }
   ],
   "source": [
    "df = pd.read_csv(input_file_name)\n",
    "df['pdbPosition'] = df['pdbPosition'].astype('str') # PDB residue numbers must be string to handle insertion codes\n",
    "df.head()"
   ]
  },
  {
   "cell_type": "markdown",
   "metadata": {},
   "source": [
    "## Create a list of unique PDB Ids"
   ]
  },
  {
   "cell_type": "code",
   "execution_count": 5,
   "metadata": {
    "scrolled": true
   },
   "outputs": [
    {
     "name": "stdout",
     "output_type": "stream",
     "text": [
      "PDB Ids: ['2WJU', '2VCT', '4ACS', '2FO0', '1OPL', '5MO4', '2F4J', '2G1T', '2G2F', '2GQG', '2HIW', '3QRI', '2V7A', '3UE4', '2G2H', '4ZOG', '2HZI', '3QRK', '4WA9', '4TWP', '1DXT', '1YZI', '1YHR', '1YHE', '1YH9', '1YDZ', '1Y8W', '1Y0D', '1Y0C', '1Y0A', '1Y09', '1XZV', '1XZU', '1XZ7', '1XZ5', '1XZ4', '1XZ2', '1XYE', '1XY0', '1XXT', '4XS0', '2W6V', '1VWT', '1QXD', '3KMF', '6FQF']\n"
     ]
    }
   ],
   "source": [
    "pdb_ids = list(df.structureId.drop_duplicates())\n",
    "print(\"PDB Ids:\", pdb_ids)"
   ]
  },
  {
   "cell_type": "markdown",
   "metadata": {},
   "source": [
    "## Find all polymer-polymer interactions\n",
    "Find groups (residues) that interact with other polymer chains"
   ]
  },
  {
   "cell_type": "code",
   "execution_count": 6,
   "metadata": {},
   "outputs": [],
   "source": [
    "structures = mmtfReader.download_mmtf_files(pdb_ids)\n",
    "structures = structures.filter(lambda s: s[1].num_models == 1)  ## Currently, only structurs with 1 model are supported"
   ]
  },
  {
   "cell_type": "markdown",
   "metadata": {},
   "source": [
    "queryGroupId, queryChainId, and queryGroupNumber specify the residue that interacts with another chain (targetChainId)"
   ]
  },
  {
   "cell_type": "code",
   "execution_count": 7,
   "metadata": {
    "scrolled": true
   },
   "outputs": [
    {
     "data": {
      "text/html": [
       "<div>\n",
       "<style scoped>\n",
       "    .dataframe tbody tr th:only-of-type {\n",
       "        vertical-align: middle;\n",
       "    }\n",
       "\n",
       "    .dataframe tbody tr th {\n",
       "        vertical-align: top;\n",
       "    }\n",
       "\n",
       "    .dataframe thead th {\n",
       "        text-align: right;\n",
       "    }\n",
       "</style>\n",
       "<table border=\"1\" class=\"dataframe\">\n",
       "  <thead>\n",
       "    <tr style=\"text-align: right;\">\n",
       "      <th></th>\n",
       "      <th>structureChainId</th>\n",
       "      <th>queryGroupId</th>\n",
       "      <th>queryChainId</th>\n",
       "      <th>queryGroupNumber</th>\n",
       "      <th>targetChainId</th>\n",
       "    </tr>\n",
       "  </thead>\n",
       "  <tbody>\n",
       "    <tr>\n",
       "      <th>0</th>\n",
       "      <td>4WA9.B</td>\n",
       "      <td>THR</td>\n",
       "      <td>A</td>\n",
       "      <td>392</td>\n",
       "      <td>B</td>\n",
       "    </tr>\n",
       "    <tr>\n",
       "      <th>1</th>\n",
       "      <td>4WA9.B</td>\n",
       "      <td>ASN</td>\n",
       "      <td>A</td>\n",
       "      <td>358</td>\n",
       "      <td>B</td>\n",
       "    </tr>\n",
       "    <tr>\n",
       "      <th>2</th>\n",
       "      <td>4WA9.B</td>\n",
       "      <td>GLY</td>\n",
       "      <td>A</td>\n",
       "      <td>398</td>\n",
       "      <td>B</td>\n",
       "    </tr>\n",
       "    <tr>\n",
       "      <th>3</th>\n",
       "      <td>4WA9.B</td>\n",
       "      <td>ARG</td>\n",
       "      <td>A</td>\n",
       "      <td>307</td>\n",
       "      <td>B</td>\n",
       "    </tr>\n",
       "    <tr>\n",
       "      <th>4</th>\n",
       "      <td>4WA9.B</td>\n",
       "      <td>THR</td>\n",
       "      <td>A</td>\n",
       "      <td>389</td>\n",
       "      <td>B</td>\n",
       "    </tr>\n",
       "  </tbody>\n",
       "</table>\n",
       "</div>"
      ],
      "text/plain": [
       "  structureChainId queryGroupId queryChainId queryGroupNumber targetChainId\n",
       "0           4WA9.B          THR            A              392             B\n",
       "1           4WA9.B          ASN            A              358             B\n",
       "2           4WA9.B          GLY            A              398             B\n",
       "3           4WA9.B          ARG            A              307             B\n",
       "4           4WA9.B          THR            A              389             B"
      ]
     },
     "execution_count": 7,
     "metadata": {},
     "output_type": "execute_result"
    }
   ],
   "source": [
    "interaction_filter = InteractionFilter(distanceCutoff=distance_cutoff)\n",
    "\n",
    "interactions = InteractionExtractor().get_polymer_interactions(structures, interaction_filter, level='chain').toPandas()\n",
    "interactions.head()"
   ]
  },
  {
   "cell_type": "markdown",
   "metadata": {},
   "source": [
    "## Filter mutations by joining with the interaction data"
   ]
  },
  {
   "cell_type": "code",
   "execution_count": 8,
   "metadata": {},
   "outputs": [
    {
     "data": {
      "text/html": [
       "<div>\n",
       "<style scoped>\n",
       "    .dataframe tbody tr th:only-of-type {\n",
       "        vertical-align: middle;\n",
       "    }\n",
       "\n",
       "    .dataframe tbody tr th {\n",
       "        vertical-align: top;\n",
       "    }\n",
       "\n",
       "    .dataframe thead th {\n",
       "        text-align: right;\n",
       "    }\n",
       "</style>\n",
       "<table border=\"1\" class=\"dataframe\">\n",
       "  <thead>\n",
       "    <tr style=\"text-align: right;\">\n",
       "      <th></th>\n",
       "      <th>alignmentId</th>\n",
       "      <th>bitscore</th>\n",
       "      <th>chainId</th>\n",
       "      <th>evalue</th>\n",
       "      <th>identity</th>\n",
       "      <th>identityPositive</th>\n",
       "      <th>midlineAlign</th>\n",
       "      <th>pdbAlign</th>\n",
       "      <th>pdbFrom</th>\n",
       "      <th>pdbId</th>\n",
       "      <th>...</th>\n",
       "      <th>scientific_name</th>\n",
       "      <th>structureChainId</th>\n",
       "      <th>pdbResNum</th>\n",
       "      <th>pdbSeqNum</th>\n",
       "      <th>uniprotId</th>\n",
       "      <th>uniprotNum</th>\n",
       "      <th>queryGroupId</th>\n",
       "      <th>queryChainId</th>\n",
       "      <th>queryGroupNumber</th>\n",
       "      <th>targetChainId</th>\n",
       "    </tr>\n",
       "  </thead>\n",
       "  <tbody>\n",
       "    <tr>\n",
       "      <th>0</th>\n",
       "      <td>15184668</td>\n",
       "      <td>446.432</td>\n",
       "      <td>D</td>\n",
       "      <td>1.838750e-159</td>\n",
       "      <td>220.0</td>\n",
       "      <td>221.0</td>\n",
       "      <td>AEKPKLHYSNIRGRMESIRWLLAAAGVEFEEKFIKSAEDLDKLRND...</td>\n",
       "      <td>AEKPKLHYSNIRGRMESIRWLLAAAGVEFEEKFIKSAEDLDKLRND...</td>\n",
       "      <td>1</td>\n",
       "      <td>2wju</td>\n",
       "      <td>...</td>\n",
       "      <td>Homo sapiens</td>\n",
       "      <td>2WJU.D</td>\n",
       "      <td>83</td>\n",
       "      <td>83</td>\n",
       "      <td>P09210</td>\n",
       "      <td>83</td>\n",
       "      <td>GLY</td>\n",
       "      <td>A</td>\n",
       "      <td>83</td>\n",
       "      <td>D</td>\n",
       "    </tr>\n",
       "    <tr>\n",
       "      <th>1</th>\n",
       "      <td>15184668</td>\n",
       "      <td>446.432</td>\n",
       "      <td>D</td>\n",
       "      <td>1.838750e-159</td>\n",
       "      <td>220.0</td>\n",
       "      <td>221.0</td>\n",
       "      <td>AEKPKLHYSNIRGRMESIRWLLAAAGVEFEEKFIKSAEDLDKLRND...</td>\n",
       "      <td>AEKPKLHYSNIRGRMESIRWLLAAAGVEFEEKFIKSAEDLDKLRND...</td>\n",
       "      <td>1</td>\n",
       "      <td>2wju</td>\n",
       "      <td>...</td>\n",
       "      <td>Homo sapiens</td>\n",
       "      <td>2WJU.D</td>\n",
       "      <td>83</td>\n",
       "      <td>83</td>\n",
       "      <td>P09210</td>\n",
       "      <td>83</td>\n",
       "      <td>GLY</td>\n",
       "      <td>A</td>\n",
       "      <td>83</td>\n",
       "      <td>D</td>\n",
       "    </tr>\n",
       "    <tr>\n",
       "      <th>2</th>\n",
       "      <td>15184669</td>\n",
       "      <td>446.432</td>\n",
       "      <td>C</td>\n",
       "      <td>1.838750e-159</td>\n",
       "      <td>220.0</td>\n",
       "      <td>221.0</td>\n",
       "      <td>AEKPKLHYSNIRGRMESIRWLLAAAGVEFEEKFIKSAEDLDKLRND...</td>\n",
       "      <td>AEKPKLHYSNIRGRMESIRWLLAAAGVEFEEKFIKSAEDLDKLRND...</td>\n",
       "      <td>1</td>\n",
       "      <td>2wju</td>\n",
       "      <td>...</td>\n",
       "      <td>Homo sapiens</td>\n",
       "      <td>2WJU.C</td>\n",
       "      <td>83</td>\n",
       "      <td>83</td>\n",
       "      <td>P09210</td>\n",
       "      <td>83</td>\n",
       "      <td>GLY</td>\n",
       "      <td>B</td>\n",
       "      <td>83</td>\n",
       "      <td>C</td>\n",
       "    </tr>\n",
       "    <tr>\n",
       "      <th>3</th>\n",
       "      <td>15184669</td>\n",
       "      <td>446.432</td>\n",
       "      <td>C</td>\n",
       "      <td>1.838750e-159</td>\n",
       "      <td>220.0</td>\n",
       "      <td>221.0</td>\n",
       "      <td>AEKPKLHYSNIRGRMESIRWLLAAAGVEFEEKFIKSAEDLDKLRND...</td>\n",
       "      <td>AEKPKLHYSNIRGRMESIRWLLAAAGVEFEEKFIKSAEDLDKLRND...</td>\n",
       "      <td>1</td>\n",
       "      <td>2wju</td>\n",
       "      <td>...</td>\n",
       "      <td>Homo sapiens</td>\n",
       "      <td>2WJU.C</td>\n",
       "      <td>83</td>\n",
       "      <td>83</td>\n",
       "      <td>P09210</td>\n",
       "      <td>83</td>\n",
       "      <td>GLY</td>\n",
       "      <td>B</td>\n",
       "      <td>83</td>\n",
       "      <td>C</td>\n",
       "    </tr>\n",
       "    <tr>\n",
       "      <th>4</th>\n",
       "      <td>15184674</td>\n",
       "      <td>446.432</td>\n",
       "      <td>F</td>\n",
       "      <td>1.838750e-159</td>\n",
       "      <td>220.0</td>\n",
       "      <td>221.0</td>\n",
       "      <td>AEKPKLHYSNIRGRMESIRWLLAAAGVEFEEKFIKSAEDLDKLRND...</td>\n",
       "      <td>AEKPKLHYSNIRGRMESIRWLLAAAGVEFEEKFIKSAEDLDKLRND...</td>\n",
       "      <td>1</td>\n",
       "      <td>2vct</td>\n",
       "      <td>...</td>\n",
       "      <td>Homo sapiens</td>\n",
       "      <td>2VCT.F</td>\n",
       "      <td>83</td>\n",
       "      <td>83</td>\n",
       "      <td>P09210</td>\n",
       "      <td>83</td>\n",
       "      <td>GLY</td>\n",
       "      <td>A</td>\n",
       "      <td>83</td>\n",
       "      <td>F</td>\n",
       "    </tr>\n",
       "  </tbody>\n",
       "</table>\n",
       "<p>5 rows × 37 columns</p>\n",
       "</div>"
      ],
      "text/plain": [
       "   alignmentId  bitscore chainId         evalue  identity  identityPositive  \\\n",
       "0     15184668   446.432       D  1.838750e-159     220.0             221.0   \n",
       "1     15184668   446.432       D  1.838750e-159     220.0             221.0   \n",
       "2     15184669   446.432       C  1.838750e-159     220.0             221.0   \n",
       "3     15184669   446.432       C  1.838750e-159     220.0             221.0   \n",
       "4     15184674   446.432       F  1.838750e-159     220.0             221.0   \n",
       "\n",
       "                                        midlineAlign  \\\n",
       "0  AEKPKLHYSNIRGRMESIRWLLAAAGVEFEEKFIKSAEDLDKLRND...   \n",
       "1  AEKPKLHYSNIRGRMESIRWLLAAAGVEFEEKFIKSAEDLDKLRND...   \n",
       "2  AEKPKLHYSNIRGRMESIRWLLAAAGVEFEEKFIKSAEDLDKLRND...   \n",
       "3  AEKPKLHYSNIRGRMESIRWLLAAAGVEFEEKFIKSAEDLDKLRND...   \n",
       "4  AEKPKLHYSNIRGRMESIRWLLAAAGVEFEEKFIKSAEDLDKLRND...   \n",
       "\n",
       "                                            pdbAlign  pdbFrom pdbId  \\\n",
       "0  AEKPKLHYSNIRGRMESIRWLLAAAGVEFEEKFIKSAEDLDKLRND...        1  2wju   \n",
       "1  AEKPKLHYSNIRGRMESIRWLLAAAGVEFEEKFIKSAEDLDKLRND...        1  2wju   \n",
       "2  AEKPKLHYSNIRGRMESIRWLLAAAGVEFEEKFIKSAEDLDKLRND...        1  2wju   \n",
       "3  AEKPKLHYSNIRGRMESIRWLLAAAGVEFEEKFIKSAEDLDKLRND...        1  2wju   \n",
       "4  AEKPKLHYSNIRGRMESIRWLLAAAGVEFEEKFIKSAEDLDKLRND...        1  2vct   \n",
       "\n",
       "       ...       scientific_name  structureChainId  pdbResNum pdbSeqNum  \\\n",
       "0      ...          Homo sapiens            2WJU.D         83        83   \n",
       "1      ...          Homo sapiens            2WJU.D         83        83   \n",
       "2      ...          Homo sapiens            2WJU.C         83        83   \n",
       "3      ...          Homo sapiens            2WJU.C         83        83   \n",
       "4      ...          Homo sapiens            2VCT.F         83        83   \n",
       "\n",
       "  uniprotId  uniprotNum queryGroupId  queryChainId  queryGroupNumber  \\\n",
       "0    P09210          83          GLY             A                83   \n",
       "1    P09210          83          GLY             A                83   \n",
       "2    P09210          83          GLY             B                83   \n",
       "3    P09210          83          GLY             B                83   \n",
       "4    P09210          83          GLY             A                83   \n",
       "\n",
       "   targetChainId  \n",
       "0              D  \n",
       "1              D  \n",
       "2              C  \n",
       "3              C  \n",
       "4              F  \n",
       "\n",
       "[5 rows x 37 columns]"
      ]
     },
     "execution_count": 8,
     "metadata": {},
     "output_type": "execute_result"
    }
   ],
   "source": [
    "mt = df.merge(interactions, left_on=['structureChainId','pdbPosition'], right_on=['structureChainId','queryGroupNumber'], how='inner')\n",
    "mt.head()"
   ]
  },
  {
   "cell_type": "code",
   "execution_count": 9,
   "metadata": {},
   "outputs": [
    {
     "name": "stdout",
     "output_type": "stream",
     "text": [
      "Chains: ['1DXT.B', '1DXT.D', '1QXD.B', '1QXD.D', '1VWT.B', '1VWT.D', '1XXT.B', '1XXT.D', '1XY0.B', '1XY0.D', '1XYE.B', '1XYE.D', '1XZ2.B', '1XZ2.D', '1XZ4.B', '1XZ4.D', '1XZ5.B', '1XZ5.D', '1XZ7.B', '1XZ7.D', '1XZU.B', '1XZU.D', '1XZV.B', '1XZV.D', '1Y09.B', '1Y09.D', '1Y0A.B', '1Y0A.D', '1Y0C.B', '1Y0C.D', '1Y0D.B', '1Y0D.D', '1Y8W.B', '1Y8W.D', '1YDZ.B', '1YDZ.D', '1YH9.B', '1YH9.D', '1YHE.B', '1YHE.D', '1YHR.B', '1YHR.D', '1YZI.B', '2VCT.F', '2W6V.B', '2W6V.D', '2WJU.C', '2WJU.D', '4XS0.B', '6FQF.C', '6FQF.D']\n"
     ]
    }
   ],
   "source": [
    "chains = mt.groupby('structureChainId')\n",
    "print(\"Chains:\", list(chains.groups.keys()))"
   ]
  },
  {
   "cell_type": "code",
   "execution_count": 10,
   "metadata": {
    "code_folding": [
     0
    ],
    "jupyter": {
     "source_hidden": true
    }
   },
   "outputs": [],
   "source": [
    "def view_grouped_mutations(grouped_df, *args):\n",
    "    chainIds = list(grouped_df.groups.keys())\n",
    "\n",
    "    def view3d(show_bio_assembly=False, show_surface=False, show_labels=True, i=0):\n",
    "        group = grouped_df.get_group(chainIds[i])\n",
    "        \n",
    "        pdb_id, chain_id = chainIds[i].split('.')\n",
    "        viewer = py3Dmol.view(query='pdb:' + pdb_id, options={'doAssembly': show_bio_assembly})\n",
    "\n",
    "        # polymer style\n",
    "        viewer.setStyle({'cartoon': {'colorscheme': 'chain', 'width': 0.6, 'opacity':0.9}})\n",
    " \n",
    "        # highlight chain of interest in blue\n",
    "        viewer.setStyle({'chain': chain_id},{'cartoon': {'color': 'blue'}})\n",
    "        \n",
    "        # non-polymer style\n",
    "        viewer.setStyle({'hetflag': True}, {'stick':{'radius': 0.3, 'singleBond': False}})\n",
    "    \n",
    "        # don't display water molecules\n",
    "        viewer.setStyle({'resn': ['HOH','DOD']}, {})\n",
    "        \n",
    "        rows = group.shape[0]\n",
    "        for j in range(0, rows):\n",
    "            res_num = str(group.iloc[j]['pdbPosition'])\n",
    "            mod_res = {'resi': res_num, 'chain': chain_id} \n",
    "            col = 'red'\n",
    "            c_col = col + 'Carbon'\n",
    "            viewer.addStyle(mod_res, {'stick':{'colorscheme':c_col, 'radius': 0.2}})\n",
    "            viewer.addStyle(mod_res, {'sphere':{'color':col, 'opacity': 0.6}})          \n",
    "            if show_labels:\n",
    "                label = group.iloc[j]['variationId']\n",
    "                viewer.addLabel(label, {'fontSize':7,'fontColor': 'black','backgroundColor':'ivory'}, {'resi': res_num, 'chain': chain_id})\n",
    "        \n",
    "        viewer.zoomTo({'chain': chain_id})\n",
    "        \n",
    "        if show_surface:\n",
    "             viewer.addSurface(py3Dmol.SES,{'opacity':0.8,'color':'lightblue'},{'chain': chain_id})\n",
    "                \n",
    "        #print header\n",
    "        print(\"PDB Id: \" + pdb_id + \" chain Id: \" + chain_id)\n",
    "                \n",
    "        return viewer.show()\n",
    "       \n",
    "    s_widget = IntSlider(min=0, max=len(chainIds)-1, description='Structure', continuous_update=False)\n",
    "    \n",
    "    return interact(view3d, show_bio_assembly=False, show_surface=False, show_labels=True, i=s_widget)"
   ]
  },
  {
   "cell_type": "code",
   "execution_count": 11,
   "metadata": {},
   "outputs": [
    {
     "data": {
      "application/vnd.jupyter.widget-view+json": {
       "model_id": "523b20e725d84ce8ae2147f2dfc65758",
       "version_major": 2,
       "version_minor": 0
      },
      "text/plain": [
       "interactive(children=(Checkbox(value=False, description='show_bio_assembly'), Checkbox(value=False, descriptio…"
      ]
     },
     "metadata": {},
     "output_type": "display_data"
    }
   ],
   "source": [
    "view_grouped_mutations(chains);"
   ]
  },
  {
   "cell_type": "markdown",
   "metadata": {},
   "source": [
    "## View one mutation at a time\n",
    "Use the slider to view each mutation. Interacting residues within the `distance_cutoff` are rendered as orange sticks."
   ]
  },
  {
   "cell_type": "code",
   "execution_count": 12,
   "metadata": {
    "code_folding": [
     0
    ],
    "jupyter": {
     "source_hidden": true
    }
   },
   "outputs": [],
   "source": [
    "def view_single_mutation(df, distance_cutoff, *args):\n",
    "\n",
    "    def view3d(show_bio_assembly=False, show_surface=False, show_labels=True, i=0):        \n",
    "        pdb_id, chain_id = df.iloc[i]['structureChainId'].split('.')\n",
    "        \n",
    "        viewer = py3Dmol.view(query='pdb:' + pdb_id, options={'doAssembly': show_bio_assembly})\n",
    "\n",
    "        # polymer style\n",
    "        viewer.setStyle({'cartoon': {'colorscheme': 'chain', 'width': 0.6, 'opacity':0.9}})\n",
    "        \n",
    "        # highlight chain of interest in blue\n",
    "        viewer.setStyle({'chain': chain_id},{'cartoon': {'color': 'blue', 'opacity':0.7}})\n",
    "        \n",
    "        # non-polymer style\n",
    "        viewer.setStyle({'hetflag': True}, {'stick':{'radius': 0.3, 'singleBond': False}})\n",
    "        \n",
    "        # interacting residue style\n",
    "        res_num = str(df.iloc[i]['pdbPosition'])\n",
    "        label = df.iloc[i]['variationId']     \n",
    "        mod_res = {'resi': res_num, 'chain': chain_id} \n",
    "        col = 'red'\n",
    "        c_col = col + 'Carbon'\n",
    "        viewer.addStyle(mod_res, {'stick':{'colorscheme':c_col, 'radius': 0.2}})\n",
    "        viewer.addStyle(mod_res, {'sphere':{'color':col, 'opacity': 0.8}})   \n",
    "        \n",
    "        # don't display water molecules (except below for interactions)\n",
    "        viewer.setStyle({'resn': ['HOH','DOD']}, {})\n",
    "        \n",
    "        #if show_labels:\n",
    "        #    viewer.addLabel(label, {'fontSize':12,'fontColor': 'black','backgroundColor':'ivory'}, mod_res)\n",
    "            \n",
    "        # select residues in interacting chains by distance from mutation site (same chain is excluded)\n",
    "        surroundings = {'not': {'chain': chain_id}, 'byres': True, 'within': {'distance': distance_cutoff, 'sel': mod_res}}\n",
    "        \n",
    "        # set style for interacting residues\n",
    "        viewer.setStyle(surroundings,{'cartoon':{'color':'orange', 'width': 0.6}})\n",
    "        viewer.addStyle(surroundings,{'stick':{'colorscheme':'orangeCarbon', 'radius': 0.15}})\n",
    "        \n",
    "        if show_labels:\n",
    "            viewer.addResLabels(surroundings, {'fontSize':10})\n",
    "            viewer.addLabel(label, {'fontSize':12,'fontColor': 'black','backgroundColor':'ivory'}, mod_res)\n",
    "            \n",
    "        viewer.zoomTo(surroundings)\n",
    "        \n",
    "        if show_surface:\n",
    "             viewer.addSurface(py3Dmol.SES, {'opacity':0.8,'color':'lightblue'}, {'chain': chain_id})\n",
    "                \n",
    "        #print header\n",
    "        print(\"PDB Id:\", pdb_id, \"chain Id:\" , chain_id, \"residue:\", res_num, \"mutation:\", label)\n",
    "        \n",
    "        # print any specified additional columns from the dataframe\n",
    "        for a in args:\n",
    "            print(a + \": \" + df.iloc[i][a])\n",
    "                \n",
    "        return viewer.show()\n",
    "       \n",
    "    s_widget = IntSlider(min=0, max=len(df)-1, description='Structure', continuous_update=False)\n",
    "    \n",
    "    return interact(view3d, show_bio_assembly=False, show_surface=False, show_labels=True, i=s_widget)"
   ]
  },
  {
   "cell_type": "code",
   "execution_count": 13,
   "metadata": {
    "scrolled": true
   },
   "outputs": [
    {
     "data": {
      "application/vnd.jupyter.widget-view+json": {
       "model_id": "cdcab92cbfd0472ead165ea84baadc66",
       "version_major": 2,
       "version_minor": 0
      },
      "text/plain": [
       "interactive(children=(Checkbox(value=False, description='show_bio_assembly'), Checkbox(value=False, descriptio…"
      ]
     },
     "metadata": {},
     "output_type": "display_data"
    }
   ],
   "source": [
    "view_single_mutation(mt, distance_cutoff);"
   ]
  },
  {
   "cell_type": "code",
   "execution_count": 14,
   "metadata": {
    "code_folding": [
     0
    ]
   },
   "outputs": [],
   "source": [
    "# Shutdown Spark\n",
    "spark.stop()"
   ]
  },
  {
   "cell_type": "markdown",
   "metadata": {},
   "source": [
    "## Now run the next step\n",
    "Map mutations occuring at protein-ligand binding sites: [4-MapToLigandInteractions.ipynb](4-MapToLigandInteractions.ipynb)"
   ]
  }
 ],
 "metadata": {
  "kernelspec": {
   "display_name": "Python 3",
   "language": "python",
   "name": "python3"
  },
  "language_info": {
   "codemirror_mode": {
    "name": "ipython",
    "version": 3
   },
   "file_extension": ".py",
   "mimetype": "text/x-python",
   "name": "python",
   "nbconvert_exporter": "python",
   "pygments_lexer": "ipython3",
   "version": "3.7.1"
  }
 },
 "nbformat": 4,
 "nbformat_minor": 2
}
