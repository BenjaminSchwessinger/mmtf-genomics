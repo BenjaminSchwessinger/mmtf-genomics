{
 "cells": [
  {
   "cell_type": "markdown",
   "metadata": {},
   "source": [
    "## Map Mutations to Protein-Protein and Protein-Nucleic Acid Interfaces\n",
    "Here we find and visualize the mutations that occur around protein-protein and protein-nucleic acid"
   ]
  },
  {
   "cell_type": "code",
   "execution_count": 1,
   "metadata": {},
   "outputs": [],
   "source": [
    "from pyspark.sql.functions import explode\n",
    "from mmtfPyspark.io import mmtfReader\n",
    "from mmtfPyspark.interactions import InteractionFilter, InteractionFingerprinter\n",
    "from ipywidgets import interact, IntSlider\n",
    "import py3Dmol\n",
    "import pandas as pd"
   ]
  },
  {
   "cell_type": "markdown",
   "metadata": {},
   "source": [
    "#### Input parameters"
   ]
  },
  {
   "cell_type": "code",
   "execution_count": 2,
   "metadata": {},
   "outputs": [],
   "source": [
    "cutoff_distance = 8 # cutoff distance for finding and visualizing interactions\n",
    "input_file_name = 'mutations3d.csv' # mutations mapped to 3D protein structures"
   ]
  },
  {
   "cell_type": "markdown",
   "metadata": {},
   "source": [
    "## Read 'mutations.csv' file created in the previous step"
   ]
  },
  {
   "cell_type": "code",
   "execution_count": 3,
   "metadata": {
    "scrolled": true
   },
   "outputs": [
    {
     "data": {
      "text/html": [
       "<div>\n",
       "<style scoped>\n",
       "    .dataframe tbody tr th:only-of-type {\n",
       "        vertical-align: middle;\n",
       "    }\n",
       "\n",
       "    .dataframe tbody tr th {\n",
       "        vertical-align: top;\n",
       "    }\n",
       "\n",
       "    .dataframe thead th {\n",
       "        text-align: right;\n",
       "    }\n",
       "</style>\n",
       "<table border=\"1\" class=\"dataframe\">\n",
       "  <thead>\n",
       "    <tr style=\"text-align: right;\">\n",
       "      <th></th>\n",
       "      <th>structureId</th>\n",
       "      <th>chainId</th>\n",
       "      <th>pdbPosition</th>\n",
       "      <th>pdbAminoAcid</th>\n",
       "      <th>refGenome</th>\n",
       "      <th>variationId</th>\n",
       "      <th>pdbid</th>\n",
       "      <th>chain</th>\n",
       "      <th>tax_id</th>\n",
       "      <th>scientific_name</th>\n",
       "      <th>structureChainId</th>\n",
       "    </tr>\n",
       "  </thead>\n",
       "  <tbody>\n",
       "    <tr>\n",
       "      <th>0</th>\n",
       "      <td>1GUH</td>\n",
       "      <td>A</td>\n",
       "      <td>83</td>\n",
       "      <td>G</td>\n",
       "      <td>hgvs-grch37</td>\n",
       "      <td>chr6:g.52619766C&gt;T</td>\n",
       "      <td>1GUH</td>\n",
       "      <td>A</td>\n",
       "      <td>9606</td>\n",
       "      <td>Homo sapiens</td>\n",
       "      <td>1GUH.A</td>\n",
       "    </tr>\n",
       "    <tr>\n",
       "      <th>1</th>\n",
       "      <td>1XZ7</td>\n",
       "      <td>B</td>\n",
       "      <td>108</td>\n",
       "      <td>N</td>\n",
       "      <td>hgvs-grch37</td>\n",
       "      <td>chr11:g.5246945G&gt;T</td>\n",
       "      <td>1XZ7</td>\n",
       "      <td>B</td>\n",
       "      <td>9606</td>\n",
       "      <td>Homo sapiens</td>\n",
       "      <td>1XZ7.B</td>\n",
       "    </tr>\n",
       "    <tr>\n",
       "      <th>2</th>\n",
       "      <td>2VCT</td>\n",
       "      <td>D</td>\n",
       "      <td>83</td>\n",
       "      <td>G</td>\n",
       "      <td>hgvs-grch37</td>\n",
       "      <td>chr6:g.52619766C&gt;T</td>\n",
       "      <td>2VCT</td>\n",
       "      <td>D</td>\n",
       "      <td>9606</td>\n",
       "      <td>Homo sapiens</td>\n",
       "      <td>2VCT.D</td>\n",
       "    </tr>\n",
       "    <tr>\n",
       "      <th>3</th>\n",
       "      <td>3KMF</td>\n",
       "      <td>G</td>\n",
       "      <td>708</td>\n",
       "      <td>N</td>\n",
       "      <td>hgvs-grch37</td>\n",
       "      <td>chr11:g.5246945G&gt;T</td>\n",
       "      <td>3KMF</td>\n",
       "      <td>G</td>\n",
       "      <td>9606</td>\n",
       "      <td>Homo sapiens</td>\n",
       "      <td>3KMF.G</td>\n",
       "    </tr>\n",
       "    <tr>\n",
       "      <th>4</th>\n",
       "      <td>1GSF</td>\n",
       "      <td>D</td>\n",
       "      <td>83</td>\n",
       "      <td>G</td>\n",
       "      <td>hgvs-grch37</td>\n",
       "      <td>chr6:g.52619766C&gt;T</td>\n",
       "      <td>1GSF</td>\n",
       "      <td>D</td>\n",
       "      <td>9606</td>\n",
       "      <td>Homo sapiens</td>\n",
       "      <td>1GSF.D</td>\n",
       "    </tr>\n",
       "  </tbody>\n",
       "</table>\n",
       "</div>"
      ],
      "text/plain": [
       "  structureId chainId pdbPosition pdbAminoAcid    refGenome  \\\n",
       "0        1GUH       A          83            G  hgvs-grch37   \n",
       "1        1XZ7       B         108            N  hgvs-grch37   \n",
       "2        2VCT       D          83            G  hgvs-grch37   \n",
       "3        3KMF       G         708            N  hgvs-grch37   \n",
       "4        1GSF       D          83            G  hgvs-grch37   \n",
       "\n",
       "          variationId pdbid chain  tax_id scientific_name structureChainId  \n",
       "0  chr6:g.52619766C>T  1GUH     A    9606    Homo sapiens           1GUH.A  \n",
       "1  chr11:g.5246945G>T  1XZ7     B    9606    Homo sapiens           1XZ7.B  \n",
       "2  chr6:g.52619766C>T  2VCT     D    9606    Homo sapiens           2VCT.D  \n",
       "3  chr11:g.5246945G>T  3KMF     G    9606    Homo sapiens           3KMF.G  \n",
       "4  chr6:g.52619766C>T  1GSF     D    9606    Homo sapiens           1GSF.D  "
      ]
     },
     "execution_count": 3,
     "metadata": {},
     "output_type": "execute_result"
    }
   ],
   "source": [
    "df = pd.read_csv(input_file_name)\n",
    "df['pdbPosition'] = df['pdbPosition'].astype('str') # PDB residue numbers must be string to handle insertion codes\n",
    "df.head()"
   ]
  },
  {
   "cell_type": "markdown",
   "metadata": {},
   "source": [
    "## Create a list of unique PDB Ids"
   ]
  },
  {
   "cell_type": "code",
   "execution_count": 4,
   "metadata": {
    "scrolled": true
   },
   "outputs": [
    {
     "name": "stdout",
     "output_type": "stream",
     "text": [
      "PDB Ids: ['1GUH', '1XZ7', '2VCT', '3KMF', '1GSF', '1YDZ', '6ATQ', '1Y09', '6ATO', '2FO0', '1XYE', '4ACS', '2WJU', '4WA9', '2G1T', '1XY0', '4TWP', '1K3Y', '1YHE', '1OPL', '2V7A', '1YHR', '1YZI', '1QXD', '1XZV', '1VWT', '3UE4', '2R6K', '1PL1', '3QRI', '1DXT', '6FQF', '2HIW', '2GQG', '1XZ4', '6ATR', '2F4J', '1Y0A', '1Y0D', '1XZU', '2W6V', '1YH9', '2G2H', '5JCU', '4ZOG', '1XZ5', '1GSE', '1Y0C', '1Y8W', '2HZI', '1PKW', '3KTL', '3QRK', '1XXT', '1XZ2', '6ATP', '1K3L', '4XS0', '2G2F', '5MO4']\n"
     ]
    }
   ],
   "source": [
    "pdb_ids = list(df.structureId.drop_duplicates())\n",
    "print(\"PDB Ids:\", pdb_ids)"
   ]
  },
  {
   "cell_type": "markdown",
   "metadata": {},
   "source": [
    "## Find all polymer-polymer interactions"
   ]
  },
  {
   "cell_type": "code",
   "execution_count": 5,
   "metadata": {},
   "outputs": [],
   "source": [
    "structures = mmtfReader.download_mmtf_files(pdb_ids)"
   ]
  },
  {
   "cell_type": "code",
   "execution_count": 6,
   "metadata": {
    "scrolled": true
   },
   "outputs": [
    {
     "data": {
      "text/html": [
       "<div>\n",
       "<style scoped>\n",
       "    .dataframe tbody tr th:only-of-type {\n",
       "        vertical-align: middle;\n",
       "    }\n",
       "\n",
       "    .dataframe tbody tr th {\n",
       "        vertical-align: top;\n",
       "    }\n",
       "\n",
       "    .dataframe thead th {\n",
       "        text-align: right;\n",
       "    }\n",
       "</style>\n",
       "<table border=\"1\" class=\"dataframe\">\n",
       "  <thead>\n",
       "    <tr style=\"text-align: right;\">\n",
       "      <th></th>\n",
       "      <th>structureChainId</th>\n",
       "      <th>queryChainId</th>\n",
       "      <th>groupNumbers</th>\n",
       "    </tr>\n",
       "  </thead>\n",
       "  <tbody>\n",
       "    <tr>\n",
       "      <th>0</th>\n",
       "      <td>1PL1.B</td>\n",
       "      <td>A</td>\n",
       "      <td>75</td>\n",
       "    </tr>\n",
       "    <tr>\n",
       "      <th>1</th>\n",
       "      <td>1Y09.A</td>\n",
       "      <td>D</td>\n",
       "      <td>139</td>\n",
       "    </tr>\n",
       "    <tr>\n",
       "      <th>2</th>\n",
       "      <td>1K3Y.A</td>\n",
       "      <td>B</td>\n",
       "      <td>91</td>\n",
       "    </tr>\n",
       "    <tr>\n",
       "      <th>3</th>\n",
       "      <td>1YHR.D</td>\n",
       "      <td>A</td>\n",
       "      <td>96</td>\n",
       "    </tr>\n",
       "    <tr>\n",
       "      <th>4</th>\n",
       "      <td>1Y0A.C</td>\n",
       "      <td>D</td>\n",
       "      <td>110</td>\n",
       "    </tr>\n",
       "  </tbody>\n",
       "</table>\n",
       "</div>"
      ],
      "text/plain": [
       "  structureChainId queryChainId groupNumbers\n",
       "0           1PL1.B            A           75\n",
       "1           1Y09.A            D          139\n",
       "2           1K3Y.A            B           91\n",
       "3           1YHR.D            A           96\n",
       "4           1Y0A.C            D          110"
      ]
     },
     "execution_count": 6,
     "metadata": {},
     "output_type": "execute_result"
    }
   ],
   "source": [
    "interactionFilter = InteractionFilter(distanceCutoff=cutoff_distance, minInteractions=1)\n",
    "# The following step is slow. It will be replaced by a faster implementation.\n",
    "ifp = InteractionFingerprinter.get_polymer_interactions(structures, interactionFilter)\n",
    "ifp = ifp.select(ifp.structureChainId, ifp.queryChainId, ifp.groupNumbers)\n",
    "ifp = ifp.withColumn(\"groupNumbers\", explode(ifp.groupNumbers))\n",
    "ifp = ifp.dropDuplicates()\n",
    "interactions = ifp.toPandas()\n",
    "interactions.head()"
   ]
  },
  {
   "cell_type": "markdown",
   "metadata": {},
   "source": [
    "## Filter mutations by joining with the interaction data"
   ]
  },
  {
   "cell_type": "code",
   "execution_count": 7,
   "metadata": {},
   "outputs": [
    {
     "data": {
      "text/html": [
       "<div>\n",
       "<style scoped>\n",
       "    .dataframe tbody tr th:only-of-type {\n",
       "        vertical-align: middle;\n",
       "    }\n",
       "\n",
       "    .dataframe tbody tr th {\n",
       "        vertical-align: top;\n",
       "    }\n",
       "\n",
       "    .dataframe thead th {\n",
       "        text-align: right;\n",
       "    }\n",
       "</style>\n",
       "<table border=\"1\" class=\"dataframe\">\n",
       "  <thead>\n",
       "    <tr style=\"text-align: right;\">\n",
       "      <th></th>\n",
       "      <th>structureId</th>\n",
       "      <th>chainId</th>\n",
       "      <th>pdbPosition</th>\n",
       "      <th>pdbAminoAcid</th>\n",
       "      <th>refGenome</th>\n",
       "      <th>variationId</th>\n",
       "      <th>pdbid</th>\n",
       "      <th>chain</th>\n",
       "      <th>tax_id</th>\n",
       "      <th>scientific_name</th>\n",
       "      <th>structureChainId</th>\n",
       "      <th>queryChainId</th>\n",
       "      <th>groupNumbers</th>\n",
       "    </tr>\n",
       "  </thead>\n",
       "  <tbody>\n",
       "    <tr>\n",
       "      <th>0</th>\n",
       "      <td>3KMF</td>\n",
       "      <td>G</td>\n",
       "      <td>708</td>\n",
       "      <td>N</td>\n",
       "      <td>hgvs-grch37</td>\n",
       "      <td>chr11:g.5246945G&gt;T</td>\n",
       "      <td>3KMF</td>\n",
       "      <td>G</td>\n",
       "      <td>9606</td>\n",
       "      <td>Homo sapiens</td>\n",
       "      <td>3KMF.G</td>\n",
       "      <td>E</td>\n",
       "      <td>708</td>\n",
       "    </tr>\n",
       "    <tr>\n",
       "      <th>1</th>\n",
       "      <td>1Y09</td>\n",
       "      <td>D</td>\n",
       "      <td>108</td>\n",
       "      <td>N</td>\n",
       "      <td>hgvs-grch37</td>\n",
       "      <td>chr11:g.5246945G&gt;T</td>\n",
       "      <td>1Y09</td>\n",
       "      <td>D</td>\n",
       "      <td>9606</td>\n",
       "      <td>Homo sapiens</td>\n",
       "      <td>1Y09.D</td>\n",
       "      <td>C</td>\n",
       "      <td>108</td>\n",
       "    </tr>\n",
       "    <tr>\n",
       "      <th>2</th>\n",
       "      <td>1YHE</td>\n",
       "      <td>D</td>\n",
       "      <td>108</td>\n",
       "      <td>N</td>\n",
       "      <td>hgvs-grch37</td>\n",
       "      <td>chr11:g.5246945G&gt;T</td>\n",
       "      <td>1YHE</td>\n",
       "      <td>D</td>\n",
       "      <td>9606</td>\n",
       "      <td>Homo sapiens</td>\n",
       "      <td>1YHE.D</td>\n",
       "      <td>C</td>\n",
       "      <td>108</td>\n",
       "    </tr>\n",
       "    <tr>\n",
       "      <th>3</th>\n",
       "      <td>1YZI</td>\n",
       "      <td>B</td>\n",
       "      <td>108</td>\n",
       "      <td>N</td>\n",
       "      <td>hgvs-grch37</td>\n",
       "      <td>chr11:g.5246945G&gt;T</td>\n",
       "      <td>1YZI</td>\n",
       "      <td>B</td>\n",
       "      <td>9606</td>\n",
       "      <td>Homo sapiens</td>\n",
       "      <td>1YZI.B</td>\n",
       "      <td>A</td>\n",
       "      <td>108</td>\n",
       "    </tr>\n",
       "    <tr>\n",
       "      <th>4</th>\n",
       "      <td>1QXD</td>\n",
       "      <td>D</td>\n",
       "      <td>108</td>\n",
       "      <td>N</td>\n",
       "      <td>hgvs-grch37</td>\n",
       "      <td>chr11:g.5246945G&gt;T</td>\n",
       "      <td>1QXD</td>\n",
       "      <td>D</td>\n",
       "      <td>9606</td>\n",
       "      <td>Homo sapiens</td>\n",
       "      <td>1QXD.D</td>\n",
       "      <td>C</td>\n",
       "      <td>108</td>\n",
       "    </tr>\n",
       "  </tbody>\n",
       "</table>\n",
       "</div>"
      ],
      "text/plain": [
       "  structureId chainId pdbPosition pdbAminoAcid    refGenome  \\\n",
       "0        3KMF       G         708            N  hgvs-grch37   \n",
       "1        1Y09       D         108            N  hgvs-grch37   \n",
       "2        1YHE       D         108            N  hgvs-grch37   \n",
       "3        1YZI       B         108            N  hgvs-grch37   \n",
       "4        1QXD       D         108            N  hgvs-grch37   \n",
       "\n",
       "          variationId pdbid chain  tax_id scientific_name structureChainId  \\\n",
       "0  chr11:g.5246945G>T  3KMF     G    9606    Homo sapiens           3KMF.G   \n",
       "1  chr11:g.5246945G>T  1Y09     D    9606    Homo sapiens           1Y09.D   \n",
       "2  chr11:g.5246945G>T  1YHE     D    9606    Homo sapiens           1YHE.D   \n",
       "3  chr11:g.5246945G>T  1YZI     B    9606    Homo sapiens           1YZI.B   \n",
       "4  chr11:g.5246945G>T  1QXD     D    9606    Homo sapiens           1QXD.D   \n",
       "\n",
       "  queryChainId groupNumbers  \n",
       "0            E          708  \n",
       "1            C          108  \n",
       "2            C          108  \n",
       "3            A          108  \n",
       "4            C          108  "
      ]
     },
     "execution_count": 7,
     "metadata": {},
     "output_type": "execute_result"
    }
   ],
   "source": [
    "mt = df.merge(interactions, left_on=['structureChainId','pdbPosition'], right_on=['structureChainId','groupNumbers'], how='inner')\n",
    "mt.head()"
   ]
  },
  {
   "cell_type": "markdown",
   "metadata": {},
   "source": [
    "## View mutations grouped by protein chain\n",
    "Use the slider to view each protein chain. Turn labels off for an unobstructed view of the mutations."
   ]
  },
  {
   "cell_type": "code",
   "execution_count": 8,
   "metadata": {},
   "outputs": [
    {
     "name": "stdout",
     "output_type": "stream",
     "text": [
      "Chains: ['1QXD.D', '1VWT.D', '1XXT.D', '1XZ2.D', '1XZU.D', '1Y09.D', '1YHE.D', '1YZI.B', '2G2F.A', '2W6V.D', '3KMF.G', '6FQF.D']\n"
     ]
    }
   ],
   "source": [
    "chains = mt.groupby('structureChainId')\n",
    "print(\"Chains:\", list(chains.groups.keys()))"
   ]
  },
  {
   "cell_type": "code",
   "execution_count": 9,
   "metadata": {
    "code_folding": [
     0
    ]
   },
   "outputs": [],
   "source": [
    "def view_grouped_mutations(grouped_df, cutoff_distance, *args):\n",
    "    chainIds = list(grouped_df.groups.keys())\n",
    "\n",
    "    def view3d(show_bio_assembly=False, show_surface=False, show_labels=True, i=0):\n",
    "        group = grouped_df.get_group(chainIds[i])\n",
    "        \n",
    "        pdb_id, chain_id = chainIds[i].split('.')\n",
    "        viewer = py3Dmol.view(query='pdb:' + pdb_id, options={'doAssembly': show_bio_assembly})\n",
    "\n",
    "        # polymer style\n",
    "        viewer.setStyle({'cartoon': {'colorscheme': 'chain', 'width': 0.6, 'opacity':0.9}})\n",
    " \n",
    "        # highlight chain of interest in blue\n",
    "        viewer.setStyle({'chain': chain_id},{'cartoon': {'color': 'blue'}})\n",
    "        \n",
    "        # non-polymer style\n",
    "        viewer.setStyle({'hetflag': True}, {'stick':{'radius': 0.3, 'singleBond': False}})\n",
    "    \n",
    "        # don't display water molecules\n",
    "        viewer.setStyle({'resn': ['HOH','DOD']}, {})\n",
    "        \n",
    "        rows = group.shape[0]\n",
    "        for j in range(0, rows):\n",
    "            res_num = str(group.iloc[j]['pdbPosition'])\n",
    "            mod_res = {'resi': res_num, 'chain': chain_id} \n",
    "            col = 'red'\n",
    "            c_col = col + 'Carbon'\n",
    "            viewer.addStyle(mod_res, {'stick':{'colorscheme':c_col, 'radius': 0.2}})\n",
    "            viewer.addStyle(mod_res, {'sphere':{'color':col, 'opacity': 0.6}})          \n",
    "            if show_labels:\n",
    "                label = group.iloc[j]['variationId']\n",
    "                viewer.addLabel(label, {'fontSize':7,'fontColor': 'black','backgroundColor':'ivory'}, {'resi': res_num, 'chain': chain_id})\n",
    "        \n",
    "        viewer.zoomTo({'chain': chain_id})\n",
    "        \n",
    "        if show_surface:\n",
    "             viewer.addSurface(py3Dmol.SES,{'opacity':0.8,'color':'lightblue'},{'chain': chain_id})\n",
    "                \n",
    "        #print header\n",
    "        print(\"PDB Id: \" + pdb_id + \" chain Id: \" + chain_id)\n",
    "                \n",
    "        return viewer.show()\n",
    "       \n",
    "    s_widget = IntSlider(min=0, max=len(chainIds)-1, description='Structure', continuous_update=False)\n",
    "    \n",
    "    return interact(view3d, show_bio_assembly=False, show_surface=False, show_labels=True, i=s_widget)"
   ]
  },
  {
   "cell_type": "markdown",
   "metadata": {},
   "source": [
    "Turn off scrolling in the viewer cell below"
   ]
  },
  {
   "cell_type": "code",
   "execution_count": 10,
   "metadata": {
    "code_folding": [
     0
    ]
   },
   "outputs": [
    {
     "data": {
      "application/javascript": [
       "IPython.OutputArea.prototype._should_scroll = function(lines) {return false;}\n"
      ],
      "text/plain": [
       "<IPython.core.display.Javascript object>"
      ]
     },
     "metadata": {},
     "output_type": "display_data"
    }
   ],
   "source": [
    "%%javascript \n",
    "IPython.OutputArea.prototype._should_scroll = function(lines) {return false;}"
   ]
  },
  {
   "cell_type": "code",
   "execution_count": 11,
   "metadata": {
    "scrolled": true
   },
   "outputs": [
    {
     "data": {
      "application/vnd.jupyter.widget-view+json": {
       "model_id": "ee7441c1ce0349fda166907a03c6cca9",
       "version_major": 2,
       "version_minor": 0
      },
      "text/plain": [
       "interactive(children=(Checkbox(value=False, description='show_bio_assembly'), Checkbox(value=False, descriptio…"
      ]
     },
     "metadata": {},
     "output_type": "display_data"
    }
   ],
   "source": [
    "view_grouped_mutations(chains, cutoff_distance);"
   ]
  },
  {
   "cell_type": "markdown",
   "metadata": {},
   "source": [
    "## View one mutation at a time\n",
    "Use the slider to view each mutation. Interacting residues within the `cutoff_distance` are rendered as orange sticks."
   ]
  },
  {
   "cell_type": "code",
   "execution_count": 12,
   "metadata": {
    "code_folding": [
     0
    ]
   },
   "outputs": [],
   "source": [
    "def view_single_mutation(df, cutoff_distance, *args):\n",
    "\n",
    "    def view3d(show_bio_assembly=False, show_surface=False, show_labels=True, i=0):        \n",
    "        pdb_id, chain_id = df.iloc[i]['structureChainId'].split('.')\n",
    "        \n",
    "        viewer = py3Dmol.view(query='pdb:' + pdb_id, options={'doAssembly': show_bio_assembly})\n",
    "\n",
    "        # polymer style\n",
    "        viewer.setStyle({'cartoon': {'colorscheme': 'chain', 'width': 0.6, 'opacity':0.9}})\n",
    "        \n",
    "        # highlight chain of interest in blue\n",
    "        viewer.setStyle({'chain': chain_id},{'cartoon': {'color': 'blue', 'opacity':0.7}})\n",
    "        \n",
    "        # non-polymer style\n",
    "        viewer.setStyle({'hetflag': True}, {'stick':{'radius': 0.3, 'singleBond': False}})\n",
    "        \n",
    "        # interacting residue style\n",
    "        res_num = str(df.iloc[i]['pdbPosition'])\n",
    "        label = df.iloc[i]['variationId']     \n",
    "        mod_res = {'resi': res_num, 'chain': chain_id} \n",
    "        col = 'red'\n",
    "        c_col = col + 'Carbon'\n",
    "        viewer.addStyle(mod_res, {'stick':{'colorscheme':c_col, 'radius': 0.2}})\n",
    "        viewer.addStyle(mod_res, {'sphere':{'color':col, 'opacity': 0.8}})   \n",
    "        \n",
    "        # don't display water molecules (except below for interactions)\n",
    "        viewer.setStyle({'resn': ['HOH','DOD']}, {})\n",
    "        \n",
    "        #if show_labels:\n",
    "        #    viewer.addLabel(label, {'fontSize':12,'fontColor': 'black','backgroundColor':'ivory'}, mod_res)\n",
    "            \n",
    "        # select residues in interacting chains by distance from mutation site (same chain is excluded)\n",
    "        surroundings = {'not': {'chain': chain_id}, 'byres': True, 'within': {'distance': cutoff_distance, 'sel': mod_res}}\n",
    "        \n",
    "        # set style for interacting residues\n",
    "        viewer.setStyle(surroundings,{'cartoon':{'color':'orange', 'width': 0.6}})\n",
    "        viewer.addStyle(surroundings,{'stick':{'colorscheme':'orangeCarbon', 'radius': 0.15}})\n",
    "        \n",
    "        if show_labels:\n",
    "            viewer.addResLabels(surroundings, {'fontSize':10})\n",
    "            viewer.addLabel(label, {'fontSize':12,'fontColor': 'black','backgroundColor':'ivory'}, mod_res)\n",
    "            \n",
    "        viewer.zoomTo(surroundings)\n",
    "        \n",
    "        if show_surface:\n",
    "             viewer.addSurface(py3Dmol.SES, {'opacity':0.8,'color':'lightblue'}, {'chain': chain_id})\n",
    "                \n",
    "        #print header\n",
    "        print(\"PDB Id:\", pdb_id, \"chain Id:\" , chain_id, \"residue:\", res_num, \"mutation:\", label)\n",
    "        \n",
    "        # print any specified additional columns from the dataframe\n",
    "        for a in args:\n",
    "            print(a + \": \" + df.iloc[i][a])\n",
    "                \n",
    "        return viewer.show()\n",
    "       \n",
    "    s_widget = IntSlider(min=0, max=len(df)-1, description='Structure', continuous_update=False)\n",
    "    \n",
    "    return interact(view3d, show_bio_assembly=False, show_surface=False, show_labels=True, i=s_widget)"
   ]
  },
  {
   "cell_type": "code",
   "execution_count": 13,
   "metadata": {},
   "outputs": [
    {
     "data": {
      "application/vnd.jupyter.widget-view+json": {
       "model_id": "cd53a0a5d1354749a085e23eafab896c",
       "version_major": 2,
       "version_minor": 0
      },
      "text/plain": [
       "interactive(children=(Checkbox(value=False, description='show_bio_assembly'), Checkbox(value=False, descriptio…"
      ]
     },
     "metadata": {},
     "output_type": "display_data"
    }
   ],
   "source": [
    "view_single_mutation(mt, cutoff_distance);"
   ]
  },
  {
   "cell_type": "markdown",
   "metadata": {},
   "source": [
    "## Now run the next step\n",
    "Map mutations occuring at protein-ligand binding sites: [4-MapToLigandInteractions.ipynb](4-MapToLigandInteractions.ipynb)"
   ]
  }
 ],
 "metadata": {
  "kernelspec": {
   "display_name": "Python 3",
   "language": "python",
   "name": "python3"
  },
  "language_info": {
   "codemirror_mode": {
    "name": "ipython",
    "version": 3
   },
   "file_extension": ".py",
   "mimetype": "text/x-python",
   "name": "python",
   "nbconvert_exporter": "python",
   "pygments_lexer": "ipython3",
   "version": "3.7.1"
  }
 },
 "nbformat": 4,
 "nbformat_minor": 2
}
