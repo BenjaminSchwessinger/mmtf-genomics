{
 "cells": [
  {
   "cell_type": "markdown",
   "metadata": {},
   "source": [
    "## Map Mutations to 3D Structures in the Protein Data Bank"
   ]
  },
  {
   "cell_type": "code",
   "execution_count": 1,
   "metadata": {},
   "outputs": [],
   "source": [
    "from mmtfPyspark.datasets import g2sDataset, pdbjMineDataset\n",
    "from ipywidgets import interact, IntSlider\n",
    "import py3Dmol\n",
    "import pandas as pd"
   ]
  },
  {
   "cell_type": "markdown",
   "metadata": {},
   "source": [
    "#### Input parameters"
   ]
  },
  {
   "cell_type": "code",
   "execution_count": 2,
   "metadata": {},
   "outputs": [],
   "source": [
    "cutoff_distance = 8 # cutoff distance for finding and visualizing interactions\n",
    "input_file_name = 'mutations.csv' # mutations in standard format (e.g., chr5:g.149440497C>T)\n",
    "output_file_name = 'mutations3d.csv' # mutations mapped to 3D protein structures"
   ]
  },
  {
   "cell_type": "markdown",
   "metadata": {},
   "source": [
    "## Read 'mutations.csv' file created in the previous step"
   ]
  },
  {
   "cell_type": "code",
   "execution_count": 3,
   "metadata": {},
   "outputs": [],
   "source": [
    "df = pd.read_csv(input_file_name)"
   ]
  },
  {
   "cell_type": "markdown",
   "metadata": {},
   "source": [
    "## Create a list of the variants"
   ]
  },
  {
   "cell_type": "code",
   "execution_count": 4,
   "metadata": {
    "scrolled": false
   },
   "outputs": [
    {
     "data": {
      "text/plain": [
       "['chr6:g.52619766C>T', 'chr11:g.5246945G>T']"
      ]
     },
     "execution_count": 4,
     "metadata": {},
     "output_type": "execute_result"
    }
   ],
   "source": [
    "var_ids = df['var_id'].tolist()\n",
    "var_ids"
   ]
  },
  {
   "cell_type": "markdown",
   "metadata": {},
   "source": [
    "## Map the mutations from genome locations to 3D PDB positions¶\n",
    "Here we use [g2sDataset](https://github.com/sbl-sdsc/mmtf-pyspark/blob/master/mmtfPyspark/datasets/g2sDataset.py) to retrieve genome to PDB mapping information using the [G2S](https://g2s.genomenexus.org/) (Genome to Structure) web services.\n",
    "\n",
    "Note, this step may take several minutes to complete."
   ]
  },
  {
   "cell_type": "code",
   "execution_count": 5,
   "metadata": {
    "scrolled": false
   },
   "outputs": [
    {
     "data": {
      "text/html": [
       "<div>\n",
       "<style scoped>\n",
       "    .dataframe tbody tr th:only-of-type {\n",
       "        vertical-align: middle;\n",
       "    }\n",
       "\n",
       "    .dataframe tbody tr th {\n",
       "        vertical-align: top;\n",
       "    }\n",
       "\n",
       "    .dataframe thead th {\n",
       "        text-align: right;\n",
       "    }\n",
       "</style>\n",
       "<table border=\"1\" class=\"dataframe\">\n",
       "  <thead>\n",
       "    <tr style=\"text-align: right;\">\n",
       "      <th></th>\n",
       "      <th>structureId</th>\n",
       "      <th>chainId</th>\n",
       "      <th>pdbPosition</th>\n",
       "      <th>pdbAminoAcid</th>\n",
       "      <th>refGenome</th>\n",
       "      <th>variationId</th>\n",
       "    </tr>\n",
       "  </thead>\n",
       "  <tbody>\n",
       "    <tr>\n",
       "      <th>0</th>\n",
       "      <td>1GUH</td>\n",
       "      <td>A</td>\n",
       "      <td>83</td>\n",
       "      <td>G</td>\n",
       "      <td>hgvs-grch37</td>\n",
       "      <td>chr6:g.52619766C&gt;T</td>\n",
       "    </tr>\n",
       "    <tr>\n",
       "      <th>1</th>\n",
       "      <td>1XZ7</td>\n",
       "      <td>B</td>\n",
       "      <td>108</td>\n",
       "      <td>N</td>\n",
       "      <td>hgvs-grch37</td>\n",
       "      <td>chr11:g.5246945G&gt;T</td>\n",
       "    </tr>\n",
       "    <tr>\n",
       "      <th>3</th>\n",
       "      <td>3KMF</td>\n",
       "      <td>G</td>\n",
       "      <td>708</td>\n",
       "      <td>N</td>\n",
       "      <td>hgvs-grch37</td>\n",
       "      <td>chr11:g.5246945G&gt;T</td>\n",
       "    </tr>\n",
       "    <tr>\n",
       "      <th>8</th>\n",
       "      <td>3KMF</td>\n",
       "      <td>C</td>\n",
       "      <td>308</td>\n",
       "      <td>N</td>\n",
       "      <td>hgvs-grch37</td>\n",
       "      <td>chr11:g.5246945G&gt;T</td>\n",
       "    </tr>\n",
       "    <tr>\n",
       "      <th>12</th>\n",
       "      <td>1AGS</td>\n",
       "      <td>B</td>\n",
       "      <td>82</td>\n",
       "      <td>R</td>\n",
       "      <td>hgvs-grch37</td>\n",
       "      <td>chr6:g.52619766C&gt;T</td>\n",
       "    </tr>\n",
       "    <tr>\n",
       "      <th>32</th>\n",
       "      <td>1DXT</td>\n",
       "      <td>B</td>\n",
       "      <td>109</td>\n",
       "      <td>N</td>\n",
       "      <td>hgvs-grch37</td>\n",
       "      <td>chr11:g.5246945G&gt;T</td>\n",
       "    </tr>\n",
       "  </tbody>\n",
       "</table>\n",
       "</div>"
      ],
      "text/plain": [
       "   structureId chainId  pdbPosition pdbAminoAcid    refGenome  \\\n",
       "0         1GUH       A           83            G  hgvs-grch37   \n",
       "1         1XZ7       B          108            N  hgvs-grch37   \n",
       "3         3KMF       G          708            N  hgvs-grch37   \n",
       "8         3KMF       C          308            N  hgvs-grch37   \n",
       "12        1AGS       B           82            R  hgvs-grch37   \n",
       "32        1DXT       B          109            N  hgvs-grch37   \n",
       "\n",
       "           variationId  \n",
       "0   chr6:g.52619766C>T  \n",
       "1   chr11:g.5246945G>T  \n",
       "3   chr11:g.5246945G>T  \n",
       "8   chr11:g.5246945G>T  \n",
       "12  chr6:g.52619766C>T  \n",
       "32  chr11:g.5246945G>T  "
      ]
     },
     "execution_count": 5,
     "metadata": {},
     "output_type": "execute_result"
    }
   ],
   "source": [
    "pdb_map = g2sDataset.get_position_dataset(var_ids, ref_genome='hgvs-grch37').toPandas()\n",
    "pdb_map = pdb_map.drop_duplicates(subset=['pdbPosition','pdbAminoAcid','variationId'])\n",
    "pdb_map"
   ]
  },
  {
   "cell_type": "markdown",
   "metadata": {},
   "source": [
    "One can also get the mapping for a specific PDB chain, e.g.,\n",
    "\n",
    "`pdb_map = g2sDataset.get_position_dataset(var_ids, '6H25', 'J', ref_genome='hgvs-grch37').toPandas()`"
   ]
  },
  {
   "cell_type": "markdown",
   "metadata": {},
   "source": [
    "## Filter PDB Chains"
   ]
  },
  {
   "cell_type": "markdown",
   "metadata": {},
   "source": [
    "Here we use the SIFTS annotation provided by EBI to filter by taxonomy. To learn more about how to [retrieve SIFTS annotation](\n",
    "https://github.com/sbl-sdsc/mmtf-pyspark/blob/master/demos/datasets/SiftsDataDemo.ipynb)."
   ]
  },
  {
   "cell_type": "markdown",
   "metadata": {},
   "source": [
    "#### To filter by organism, we retrieve the SIFTS taxonomy annotations on a PDB chain level\n",
    "Here we are only interested in human proteins."
   ]
  },
  {
   "cell_type": "code",
   "execution_count": 6,
   "metadata": {
    "scrolled": false
   },
   "outputs": [
    {
     "data": {
      "text/html": [
       "<div>\n",
       "<style scoped>\n",
       "    .dataframe tbody tr th:only-of-type {\n",
       "        vertical-align: middle;\n",
       "    }\n",
       "\n",
       "    .dataframe tbody tr th {\n",
       "        vertical-align: top;\n",
       "    }\n",
       "\n",
       "    .dataframe thead th {\n",
       "        text-align: right;\n",
       "    }\n",
       "</style>\n",
       "<table border=\"1\" class=\"dataframe\">\n",
       "  <thead>\n",
       "    <tr style=\"text-align: right;\">\n",
       "      <th></th>\n",
       "      <th>pdbid</th>\n",
       "      <th>chain</th>\n",
       "      <th>tax_id</th>\n",
       "      <th>scientific_name</th>\n",
       "      <th>structureChainId</th>\n",
       "    </tr>\n",
       "  </thead>\n",
       "  <tbody>\n",
       "    <tr>\n",
       "      <th>0</th>\n",
       "      <td>10GS</td>\n",
       "      <td>A</td>\n",
       "      <td>9606</td>\n",
       "      <td>Homo sapiens</td>\n",
       "      <td>10GS.A</td>\n",
       "    </tr>\n",
       "    <tr>\n",
       "      <th>1</th>\n",
       "      <td>10GS</td>\n",
       "      <td>B</td>\n",
       "      <td>9606</td>\n",
       "      <td>Homo sapiens</td>\n",
       "      <td>10GS.B</td>\n",
       "    </tr>\n",
       "    <tr>\n",
       "      <th>2</th>\n",
       "      <td>11GS</td>\n",
       "      <td>A</td>\n",
       "      <td>9606</td>\n",
       "      <td>Homo sapiens</td>\n",
       "      <td>11GS.A</td>\n",
       "    </tr>\n",
       "    <tr>\n",
       "      <th>3</th>\n",
       "      <td>11GS</td>\n",
       "      <td>B</td>\n",
       "      <td>9606</td>\n",
       "      <td>Homo sapiens</td>\n",
       "      <td>11GS.B</td>\n",
       "    </tr>\n",
       "    <tr>\n",
       "      <th>4</th>\n",
       "      <td>121P</td>\n",
       "      <td>A</td>\n",
       "      <td>9606</td>\n",
       "      <td>Homo sapiens</td>\n",
       "      <td>121P.A</td>\n",
       "    </tr>\n",
       "  </tbody>\n",
       "</table>\n",
       "</div>"
      ],
      "text/plain": [
       "  pdbid chain  tax_id scientific_name structureChainId\n",
       "0  10GS     A    9606    Homo sapiens           10GS.A\n",
       "1  10GS     B    9606    Homo sapiens           10GS.B\n",
       "2  11GS     A    9606    Homo sapiens           11GS.A\n",
       "3  11GS     B    9606    Homo sapiens           11GS.B\n",
       "4  121P     A    9606    Homo sapiens           121P.A"
      ]
     },
     "execution_count": 6,
     "metadata": {},
     "output_type": "execute_result"
    }
   ],
   "source": [
    "taxonomyQuery = \"SELECT * FROM sifts.pdb_chain_taxonomy WHERE sifts.pdb_chain_taxonomy.scientific_name = 'Homo sapiens'\"\n",
    "taxonomy = pdbjMineDataset.get_dataset(taxonomyQuery).toPandas()\n",
    "taxonomy.head()"
   ]
  },
  {
   "cell_type": "markdown",
   "metadata": {},
   "source": [
    "## Filter the PDB chains by joining with the taxonomy data"
   ]
  },
  {
   "cell_type": "code",
   "execution_count": 7,
   "metadata": {},
   "outputs": [
    {
     "data": {
      "text/html": [
       "<div>\n",
       "<style scoped>\n",
       "    .dataframe tbody tr th:only-of-type {\n",
       "        vertical-align: middle;\n",
       "    }\n",
       "\n",
       "    .dataframe tbody tr th {\n",
       "        vertical-align: top;\n",
       "    }\n",
       "\n",
       "    .dataframe thead th {\n",
       "        text-align: right;\n",
       "    }\n",
       "</style>\n",
       "<table border=\"1\" class=\"dataframe\">\n",
       "  <thead>\n",
       "    <tr style=\"text-align: right;\">\n",
       "      <th></th>\n",
       "      <th>structureId</th>\n",
       "      <th>chainId</th>\n",
       "      <th>pdbPosition</th>\n",
       "      <th>pdbAminoAcid</th>\n",
       "      <th>refGenome</th>\n",
       "      <th>variationId</th>\n",
       "      <th>pdbid</th>\n",
       "      <th>chain</th>\n",
       "      <th>tax_id</th>\n",
       "      <th>scientific_name</th>\n",
       "      <th>structureChainId</th>\n",
       "    </tr>\n",
       "  </thead>\n",
       "  <tbody>\n",
       "    <tr>\n",
       "      <th>0</th>\n",
       "      <td>1GUH</td>\n",
       "      <td>A</td>\n",
       "      <td>83</td>\n",
       "      <td>G</td>\n",
       "      <td>hgvs-grch37</td>\n",
       "      <td>chr6:g.52619766C&gt;T</td>\n",
       "      <td>1GUH</td>\n",
       "      <td>A</td>\n",
       "      <td>9606</td>\n",
       "      <td>Homo sapiens</td>\n",
       "      <td>1GUH.A</td>\n",
       "    </tr>\n",
       "    <tr>\n",
       "      <th>1</th>\n",
       "      <td>1XZ7</td>\n",
       "      <td>B</td>\n",
       "      <td>108</td>\n",
       "      <td>N</td>\n",
       "      <td>hgvs-grch37</td>\n",
       "      <td>chr11:g.5246945G&gt;T</td>\n",
       "      <td>1XZ7</td>\n",
       "      <td>B</td>\n",
       "      <td>9606</td>\n",
       "      <td>Homo sapiens</td>\n",
       "      <td>1XZ7.B</td>\n",
       "    </tr>\n",
       "    <tr>\n",
       "      <th>2</th>\n",
       "      <td>3KMF</td>\n",
       "      <td>G</td>\n",
       "      <td>708</td>\n",
       "      <td>N</td>\n",
       "      <td>hgvs-grch37</td>\n",
       "      <td>chr11:g.5246945G&gt;T</td>\n",
       "      <td>3KMF</td>\n",
       "      <td>G</td>\n",
       "      <td>9606</td>\n",
       "      <td>Homo sapiens</td>\n",
       "      <td>3KMF.G</td>\n",
       "    </tr>\n",
       "    <tr>\n",
       "      <th>3</th>\n",
       "      <td>3KMF</td>\n",
       "      <td>C</td>\n",
       "      <td>308</td>\n",
       "      <td>N</td>\n",
       "      <td>hgvs-grch37</td>\n",
       "      <td>chr11:g.5246945G&gt;T</td>\n",
       "      <td>3KMF</td>\n",
       "      <td>C</td>\n",
       "      <td>9606</td>\n",
       "      <td>Homo sapiens</td>\n",
       "      <td>3KMF.C</td>\n",
       "    </tr>\n",
       "    <tr>\n",
       "      <th>4</th>\n",
       "      <td>1DXT</td>\n",
       "      <td>B</td>\n",
       "      <td>109</td>\n",
       "      <td>N</td>\n",
       "      <td>hgvs-grch37</td>\n",
       "      <td>chr11:g.5246945G&gt;T</td>\n",
       "      <td>1DXT</td>\n",
       "      <td>B</td>\n",
       "      <td>9606</td>\n",
       "      <td>Homo sapiens</td>\n",
       "      <td>1DXT.B</td>\n",
       "    </tr>\n",
       "  </tbody>\n",
       "</table>\n",
       "</div>"
      ],
      "text/plain": [
       "  structureId chainId  pdbPosition pdbAminoAcid    refGenome  \\\n",
       "0        1GUH       A           83            G  hgvs-grch37   \n",
       "1        1XZ7       B          108            N  hgvs-grch37   \n",
       "2        3KMF       G          708            N  hgvs-grch37   \n",
       "3        3KMF       C          308            N  hgvs-grch37   \n",
       "4        1DXT       B          109            N  hgvs-grch37   \n",
       "\n",
       "          variationId pdbid chain  tax_id scientific_name structureChainId  \n",
       "0  chr6:g.52619766C>T  1GUH     A    9606    Homo sapiens           1GUH.A  \n",
       "1  chr11:g.5246945G>T  1XZ7     B    9606    Homo sapiens           1XZ7.B  \n",
       "2  chr11:g.5246945G>T  3KMF     G    9606    Homo sapiens           3KMF.G  \n",
       "3  chr11:g.5246945G>T  3KMF     C    9606    Homo sapiens           3KMF.C  \n",
       "4  chr11:g.5246945G>T  1DXT     B    9606    Homo sapiens           1DXT.B  "
      ]
     },
     "execution_count": 7,
     "metadata": {},
     "output_type": "execute_result"
    }
   ],
   "source": [
    "pd.options.display.max_columns = None # show all rows\n",
    "pdb_filtered = pdb_map.merge(taxonomy, left_on=['structureId','chainId'], right_on=['pdbid','chain'], how='inner')\n",
    "pdb_filtered"
   ]
  },
  {
   "cell_type": "markdown",
   "metadata": {},
   "source": [
    "## Save mappings"
   ]
  },
  {
   "cell_type": "code",
   "execution_count": 8,
   "metadata": {},
   "outputs": [],
   "source": [
    "pdb_filtered.to_csv(output_file_name, index=False)"
   ]
  },
  {
   "cell_type": "markdown",
   "metadata": {},
   "source": [
    "## View mutations grouped by protein chain\n",
    "Use the slider to view each protein chain."
   ]
  },
  {
   "cell_type": "code",
   "execution_count": 9,
   "metadata": {},
   "outputs": [
    {
     "name": "stdout",
     "output_type": "stream",
     "text": [
      "Chains: ['1DXT.B', '1GUH.A', '1XZ7.B', '3KMF.C', '3KMF.G']\n"
     ]
    }
   ],
   "source": [
    "chains = pdb_filtered.groupby('structureChainId')\n",
    "print(\"Chains:\", list(chains.groups.keys()))"
   ]
  },
  {
   "cell_type": "code",
   "execution_count": 10,
   "metadata": {
    "code_folding": [
     0
    ]
   },
   "outputs": [],
   "source": [
    "def view_grouped_mutations(grouped_df, cutoff_distance, *args):\n",
    "    chainIds = list(grouped_df.groups.keys())\n",
    "\n",
    "    def view3d(show_bio_assembly=False, show_surface=False, show_labels=True, i=0):\n",
    "        group = grouped_df.get_group(chainIds[i])\n",
    "        \n",
    "        pdb_id, chain_id = chainIds[i].split('.')\n",
    "        viewer = py3Dmol.view(query='pdb:' + pdb_id, options={'doAssembly': show_bio_assembly})\n",
    "\n",
    "#       # polymer style\n",
    "        viewer.setStyle({'cartoon': {'colorscheme': 'chain', 'width': 0.6, 'opacity':0.9}})\n",
    "\n",
    "#       # non-polymer style\n",
    "        viewer.setStyle({'hetflag': True}, {'stick':{'radius': 0.3, 'singleBond': False}})\n",
    "       \n",
    "        # highlight chain of interest in green\n",
    "        viewer.setStyle({'chain': chain_id},{'cartoon': {'color': 'blue'}})\n",
    "        \n",
    "        rows = group.shape[0]\n",
    "        for j in range(0, rows):\n",
    "            res_num = str(group.iloc[j]['pdbPosition'])\n",
    "            mod_res = {'resi': res_num, 'chain': chain_id} \n",
    "            col = 'red'\n",
    "            c_col = col + 'Carbon'\n",
    "            viewer.addStyle(mod_res, {'stick':{'colorscheme':c_col, 'radius': 0.2}})\n",
    "            viewer.addStyle(mod_res, {'sphere':{'color':col, 'opacity': 0.6}})          \n",
    "            if show_labels:\n",
    "                label = group.iloc[j]['variationId']\n",
    "                viewer.addLabel(label, {'fontSize':7,'fontColor': 'black','backgroundColor':'ivory'}, {'resi': res_num, 'chain': chain_id})\n",
    "        \n",
    "        \n",
    "        #print header\n",
    "        print(\"PDB Id: \" + pdb_id + \" chain Id: \" + chain_id)\n",
    "        \n",
    "        # print any specified additional columns from the dataframe\n",
    "        for a in args:\n",
    "            print(a + \": \" + df.iloc[i][a])\n",
    "\n",
    "        viewer.zoomTo({'chain': chain_id})\n",
    "        \n",
    "        if show_surface:\n",
    "             viewer.addSurface(py3Dmol.SES,{'opacity':0.8,'color':'lightblue'},{'chain': chain_id})\n",
    "                \n",
    "        return viewer.show()\n",
    "       \n",
    "    s_widget = IntSlider(min=0, max=len(chainIds)-1, description='Structure', continuous_update=False)\n",
    "    \n",
    "    return interact(view3d, show_bio_assembly=False, show_surface=False, show_labels=True, i=s_widget)"
   ]
  },
  {
   "cell_type": "markdown",
   "metadata": {},
   "source": [
    "Turn off scrolling in the viewer cell below"
   ]
  },
  {
   "cell_type": "code",
   "execution_count": 11,
   "metadata": {
    "code_folding": [
     0
    ]
   },
   "outputs": [
    {
     "data": {
      "application/javascript": [
       "IPython.OutputArea.prototype._should_scroll = function(lines) {return false;}\n"
      ],
      "text/plain": [
       "<IPython.core.display.Javascript object>"
      ]
     },
     "metadata": {},
     "output_type": "display_data"
    }
   ],
   "source": [
    "%%javascript \n",
    "IPython.OutputArea.prototype._should_scroll = function(lines) {return false;}"
   ]
  },
  {
   "cell_type": "code",
   "execution_count": 12,
   "metadata": {
    "scrolled": true
   },
   "outputs": [
    {
     "data": {
      "application/vnd.jupyter.widget-view+json": {
       "model_id": "d2b10b39d12b432996b2107bac8a0b96",
       "version_major": 2,
       "version_minor": 0
      },
      "text/plain": [
       "interactive(children=(Checkbox(value=False, description='show_bio_assembly'), Checkbox(value=False, descriptio…"
      ]
     },
     "metadata": {},
     "output_type": "display_data"
    }
   ],
   "source": [
    "view_grouped_mutations(chains, 8);"
   ]
  },
  {
   "cell_type": "markdown",
   "metadata": {},
   "source": [
    "## View one mutation at a time\n",
    "Use the slider to view each mutation. Surrounding residues within the `cutoff_distance` are rendered as orange sticks."
   ]
  },
  {
   "cell_type": "code",
   "execution_count": 13,
   "metadata": {
    "code_folding": [
     0
    ]
   },
   "outputs": [],
   "source": [
    "def view_single_mutation(df, cutoff_distance, *args):\n",
    "\n",
    "    def view3d(show_bio_assembly=False, show_surface=False, show_labels=True, i=0):        \n",
    "        pdb_id, chain_id = df.iloc[i]['structureChainId'].split('.')\n",
    "        \n",
    "        viewer = py3Dmol.view(query='pdb:' + pdb_id, options={'doAssembly': show_bio_assembly})\n",
    "\n",
    "        # polymer style\n",
    "        viewer.setStyle({'cartoon': {'colorscheme': 'chain', 'width': 0.6, 'opacity':0.9}})\n",
    "\n",
    "        # non-polymer style\n",
    "        viewer.setStyle({'hetflag': True}, {'stick':{'radius': 0.3, 'singleBond': False}})\n",
    "       \n",
    "        # highlight chain of interest in green\n",
    "        viewer.setStyle({'chain': chain_id},{'cartoon': {'color': 'blue', 'opacity':0.5}})\n",
    "        \n",
    "        res_num = str(df.iloc[i]['pdbPosition'])\n",
    "        label = df.iloc[i]['variationId']\n",
    "        \n",
    "        mod_res = {'resi': res_num, 'chain': chain_id} \n",
    "        col = 'red'\n",
    "        c_col = col + 'Carbon'\n",
    "        viewer.addStyle(mod_res, {'stick':{'colorscheme':c_col, 'radius': 0.2}})\n",
    "        viewer.addStyle(mod_res, {'sphere':{'color':col, 'opacity': 0.8}})          \n",
    "        \n",
    "        if show_labels:\n",
    "            viewer.addLabel(label, {'fontSize':12,'fontColor': 'black','backgroundColor':'ivory'}, {'resi': res_num, 'chain': chain_id})\n",
    "           \n",
    "        #print header\n",
    "        print(\"PDB Id:\", pdb_id, \"chain Id:\" , chain_id, \"residue:\", res_num, \"mutation:\", label)\n",
    "        \n",
    "        # print any specified additional columns from the dataframe\n",
    "        for a in args:\n",
    "            print(a + \": \" + df.iloc[i][a])\n",
    "\n",
    "        # select neigboring residues by distance\n",
    "        surroundings = {'chain': chain_id, 'resi': res_num, 'byres': True, 'expand': cutoff_distance}\n",
    "        \n",
    "        # residues surrounding mutation positions\n",
    "        viewer.addStyle(surroundings,{'stick':{'colorscheme':'orangeCarbon', 'radius': 0.15}})\n",
    "        \n",
    "        viewer.zoomTo(surroundings)\n",
    "        \n",
    "        if show_surface:\n",
    "             viewer.addSurface(py3Dmol.SES, {'opacity':0.8,'color':'lightblue'}, {'chain': chain_id})\n",
    "                \n",
    "        return viewer.show()\n",
    "       \n",
    "    s_widget = IntSlider(min=0, max=len(df)-1, description='Structure', continuous_update=False)\n",
    "    \n",
    "    return interact(view3d, show_bio_assembly=False, show_surface=False, show_labels=True, i=s_widget)"
   ]
  },
  {
   "cell_type": "code",
   "execution_count": 14,
   "metadata": {},
   "outputs": [
    {
     "data": {
      "application/vnd.jupyter.widget-view+json": {
       "model_id": "90d03b7f43f04b7b8804a66e2a01051c",
       "version_major": 2,
       "version_minor": 0
      },
      "text/plain": [
       "interactive(children=(Checkbox(value=False, description='show_bio_assembly'), Checkbox(value=False, descriptio…"
      ]
     },
     "metadata": {},
     "output_type": "display_data"
    }
   ],
   "source": [
    "view_single_mutation(pdb_filtered, cutoff_distance);"
   ]
  },
  {
   "cell_type": "markdown",
   "metadata": {},
   "source": [
    "## Now run the next step\n",
    "Map mutations occuring at protein-polymer interfaces: [3-MapToPolymerInteractions.ipynb](3-MapToPolymerInteractions.ipynb)"
   ]
  }
 ],
 "metadata": {
  "kernelspec": {
   "display_name": "Python 3",
   "language": "python",
   "name": "python3"
  },
  "language_info": {
   "codemirror_mode": {
    "name": "ipython",
    "version": 3
   },
   "file_extension": ".py",
   "mimetype": "text/x-python",
   "name": "python",
   "nbconvert_exporter": "python",
   "pygments_lexer": "ipython3",
   "version": "3.7.1"
  }
 },
 "nbformat": 4,
 "nbformat_minor": 2
}
